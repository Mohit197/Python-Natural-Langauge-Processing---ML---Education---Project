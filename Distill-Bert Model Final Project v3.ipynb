{
 "cells": [
  {
   "cell_type": "code",
   "execution_count": null,
   "metadata": {},
   "outputs": [],
   "source": [
    "## Distil-Bert Model"
   ]
  },
  {
   "cell_type": "code",
   "execution_count": null,
   "metadata": {},
   "outputs": [],
   "source": []
  },
  {
   "cell_type": "code",
   "execution_count": 1,
   "metadata": {},
   "outputs": [],
   "source": [
    "# You need some imports, so run this cell. \n",
    "# You will do some more imports later. \n",
    "import numpy as np\n",
    "from sklearn.model_selection import train_test_split\n",
    "import tensorflow as tf\n",
    "import pandas as pd"
   ]
  },
  {
   "cell_type": "code",
   "execution_count": 2,
   "metadata": {},
   "outputs": [
    {
     "data": {
      "text/plain": [
       "'C:\\\\Users\\\\jeffd\\\\Documents\\\\Studying\\\\Statistical Software\\\\Final Project'"
      ]
     },
     "execution_count": 2,
     "metadata": {},
     "output_type": "execute_result"
    }
   ],
   "source": [
    "import os\n",
    "\n",
    "os.chdir(r'C:\\Users\\jeffd\\Documents\\Studying\\Statistical Software\\Final Project')\n",
    "os.getcwd()"
   ]
  },
  {
   "cell_type": "code",
   "execution_count": 3,
   "metadata": {},
   "outputs": [],
   "source": [
    "DB_df = pd.read_excel(r'C:\\Users\\jeffd\\Documents\\Studying\\Statistical Software\\Final Project\\Input_project_v11_age.xlsx')"
   ]
  },
  {
   "cell_type": "code",
   "execution_count": 4,
   "metadata": {},
   "outputs": [
    {
     "name": "stdout",
     "output_type": "stream",
     "text": [
      "<class 'pandas.core.frame.DataFrame'>\n",
      "RangeIndex: 10850 entries, 0 to 10849\n",
      "Data columns (total 25 columns):\n",
      " #   Column           Non-Null Count  Dtype \n",
      "---  ------           --------------  ----- \n",
      " 0   age              10850 non-null  int64 \n",
      " 1   age_group        10850 non-null  object\n",
      " 2   status           10850 non-null  object\n",
      " 3   sex              10850 non-null  object\n",
      " 4   orientation      10850 non-null  object\n",
      " 5   body_type        10163 non-null  object\n",
      " 6   diet             7044 non-null   object\n",
      " 7   drinks           10850 non-null  object\n",
      " 8   drinks_freq      10850 non-null  int64 \n",
      " 9   drugs            8703 non-null   object\n",
      " 10  education        10850 non-null  object\n",
      " 11  education_group  10850 non-null  object\n",
      " 12  ethnicity        10088 non-null  object\n",
      " 13  height           10850 non-null  int64 \n",
      " 14  job              10850 non-null  object\n",
      " 15  job_group        10850 non-null  object\n",
      " 16  last_online      10850 non-null  object\n",
      " 17  location         10850 non-null  object\n",
      " 18  offspring        5200 non-null   object\n",
      " 19  pets             7970 non-null   object\n",
      " 20  religion         8038 non-null   object\n",
      " 21  sign             9322 non-null   object\n",
      " 22  smokes           10356 non-null  object\n",
      " 23  speaks           10844 non-null  object\n",
      " 24  Bio              10551 non-null  object\n",
      "dtypes: int64(3), object(22)\n",
      "memory usage: 2.1+ MB\n"
     ]
    }
   ],
   "source": [
    "DB_df.info()"
   ]
  },
  {
   "cell_type": "code",
   "execution_count": 42,
   "metadata": {},
   "outputs": [],
   "source": [
    "DB_df = DB_df[DB_df['Bio'].notna()]\n",
    "DB_df = DB_df[DB_df['drinks_freq'].notna()]"
   ]
  },
  {
   "cell_type": "code",
   "execution_count": 43,
   "metadata": {},
   "outputs": [
    {
     "name": "stdout",
     "output_type": "stream",
     "text": [
      "   age age_group  status sex orientation       body_type               diet  \\\n",
      "0   22     18_22  single   m    straight  a little extra  strictly anything   \n",
      "1   22     18_22  single   f    straight        athletic                NaN   \n",
      "2   22     18_22  single   m    straight             fit    mostly anything   \n",
      "3   20     18_22  single   f    straight         average  mostly vegetarian   \n",
      "4   21     18_22  single   m    straight            thin                NaN   \n",
      "\n",
      "     drinks  drinks_freq  drugs  ...    job_group       last_online  \\\n",
      "0  socially            1  never  ...  blue_collar  2012-06-28-20-30   \n",
      "1  socially            1  never  ...      student  2012-06-15-22-56   \n",
      "2  socially            1  never  ...     business  2012-06-10-01-37   \n",
      "3  socially            1  never  ...  blue_collar  2012-06-30-00-00   \n",
      "4  socially            1    NaN  ...     s.t.e.m.  2012-06-29-22-10   \n",
      "\n",
      "                          location                               offspring  \\\n",
      "0  south san francisco, california  doesn't have kids, but might want them   \n",
      "1        san francisco, california  doesn't have kids, but might want them   \n",
      "2        san francisco, california                                     NaN   \n",
      "3           san rafael, california                       doesn't want kids   \n",
      "4        san francisco, california                                     NaN   \n",
      "\n",
      "                           pets                                   religion  \\\n",
      "0     likes dogs and likes cats      agnosticism and very serious about it   \n",
      "1     likes dogs and likes cats  catholicism and somewhat serious about it   \n",
      "2  likes dogs and dislikes cats          catholicism and laughing about it   \n",
      "3       has dogs and likes cats                                        NaN   \n",
      "4                           NaN                                   buddhism   \n",
      "\n",
      "                                    sign          smokes  \\\n",
      "0                                 gemini       sometimes   \n",
      "1     taurus but it doesn&rsquo;t matter              no   \n",
      "2  leo and it&rsquo;s fun to think about  trying to quit   \n",
      "3                                 cancer              no   \n",
      "4                                    NaN   when drinking   \n",
      "\n",
      "                                              speaks  \\\n",
      "0                                            english   \n",
      "1  english (fluently), spanish (fluently), italia...   \n",
      "2  english (fluently), tagalog (fluently), japane...   \n",
      "3             english (fluently), spanish (fluently)   \n",
      "4                                            english   \n",
      "\n",
      "                                                 Bio  \n",
      "0  about me:  i would love to think that i was so...  \n",
      "1  my name is ashley and i live in san francisco....  \n",
      "2  full-time student, full-time square. i change ...  \n",
      "3  \"apparently,\" has become a new favorite word o...  \n",
      "4  i grew up in iowa. it gets a bad rap, but let ...  \n",
      "\n",
      "[5 rows x 25 columns]\n"
     ]
    }
   ],
   "source": [
    "print(DB_df[0:5])"
   ]
  },
  {
   "cell_type": "code",
   "execution_count": 44,
   "metadata": {},
   "outputs": [],
   "source": [
    "all_data_DB = []\n",
    "all_labels_DB = [] \n",
    "\n",
    "all_data_DB = DB_df['Bio'].tolist()\n",
    "all_labels_DB = DB_df['drinks_freq'].tolist()\n"
   ]
  },
  {
   "cell_type": "code",
   "execution_count": 45,
   "metadata": {},
   "outputs": [
    {
     "data": {
      "text/plain": [
       "\"\\nif DB_df['drinks'] == 'desparately':\\n    all_labels_DB['num_labels'] = 1\\nif DB_df['drinks'] == 'not at all':\\n    all_labels_DB['num_labels'] = 2\\nif DB_df['drinks'] == 'often':\\n    all_labels_DB['num_labels'] = 3\\nif DB_df['drinks'] == 'rarely':\\n    all_labels_DB['num_labels'] = 4\\nif DB_df['drinks'] == 'socially':\\n    all_labels_DB['num_labels'] = 5\\nif DB_df['drinks'] == 'very often':\\n    all_labels_DB['num_labels'] = 6\\n\""
      ]
     },
     "execution_count": 45,
     "metadata": {},
     "output_type": "execute_result"
    }
   ],
   "source": [
    "## Key Index for reference \n",
    "\n",
    "## 0 is no drinking, 1 is drinking\n",
    "'''\n",
    "if DB_df['drinks'] == 'desparately':\n",
    "    all_labels_DB['num_labels'] = 1\n",
    "if DB_df['drinks'] == 'not at all':\n",
    "    all_labels_DB['num_labels'] = 2\n",
    "if DB_df['drinks'] == 'often':\n",
    "    all_labels_DB['num_labels'] = 3\n",
    "if DB_df['drinks'] == 'rarely':\n",
    "    all_labels_DB['num_labels'] = 4\n",
    "if DB_df['drinks'] == 'socially':\n",
    "    all_labels_DB['num_labels'] = 5\n",
    "if DB_df['drinks'] == 'very often':\n",
    "    all_labels_DB['num_labels'] = 6\n",
    "'''"
   ]
  },
  {
   "cell_type": "code",
   "execution_count": 46,
   "metadata": {},
   "outputs": [
    {
     "data": {
      "text/plain": [
       "10551"
      ]
     },
     "execution_count": 46,
     "metadata": {},
     "output_type": "execute_result"
    }
   ],
   "source": [
    "len(all_data_DB)"
   ]
  },
  {
   "cell_type": "code",
   "execution_count": 47,
   "metadata": {},
   "outputs": [
    {
     "data": {
      "text/plain": [
       "10551"
      ]
     },
     "execution_count": 47,
     "metadata": {},
     "output_type": "execute_result"
    }
   ],
   "source": [
    "len(all_labels_DB)"
   ]
  },
  {
   "cell_type": "code",
   "execution_count": null,
   "metadata": {},
   "outputs": [],
   "source": []
  },
  {
   "cell_type": "code",
   "execution_count": null,
   "metadata": {},
   "outputs": [],
   "source": []
  },
  {
   "cell_type": "code",
   "execution_count": 48,
   "metadata": {},
   "outputs": [
    {
     "data": {
      "text/plain": [
       "list"
      ]
     },
     "execution_count": 48,
     "metadata": {},
     "output_type": "execute_result"
    }
   ],
   "source": [
    "type(all_data_DB)"
   ]
  },
  {
   "cell_type": "code",
   "execution_count": 49,
   "metadata": {},
   "outputs": [
    {
     "data": {
      "text/plain": [
       "list"
      ]
     },
     "execution_count": 49,
     "metadata": {},
     "output_type": "execute_result"
    }
   ],
   "source": [
    "type(all_labels_DB)"
   ]
  },
  {
   "cell_type": "code",
   "execution_count": 50,
   "metadata": {},
   "outputs": [],
   "source": [
    "# extract a 80-20 split for train and validation sets\n",
    "X_train_DB, X_valid_DB, y_train_DB, y_valid_DB = (train_test_split(all_data_DB, all_labels_DB, test_size=0.2))"
   ]
  },
  {
   "cell_type": "code",
   "execution_count": 51,
   "metadata": {},
   "outputs": [
    {
     "data": {
      "text/plain": [
       "8440"
      ]
     },
     "execution_count": 51,
     "metadata": {},
     "output_type": "execute_result"
    }
   ],
   "source": [
    "len(X_train_DB)"
   ]
  },
  {
   "cell_type": "code",
   "execution_count": 52,
   "metadata": {},
   "outputs": [
    {
     "data": {
      "text/plain": [
       "2111"
      ]
     },
     "execution_count": 52,
     "metadata": {},
     "output_type": "execute_result"
    }
   ],
   "source": [
    "len(X_valid_DB)"
   ]
  },
  {
   "cell_type": "code",
   "execution_count": 53,
   "metadata": {},
   "outputs": [
    {
     "data": {
      "text/plain": [
       "8440"
      ]
     },
     "execution_count": 53,
     "metadata": {},
     "output_type": "execute_result"
    }
   ],
   "source": [
    "len(y_train_DB)"
   ]
  },
  {
   "cell_type": "code",
   "execution_count": 54,
   "metadata": {},
   "outputs": [
    {
     "data": {
      "text/plain": [
       "2111"
      ]
     },
     "execution_count": 54,
     "metadata": {},
     "output_type": "execute_result"
    }
   ],
   "source": [
    "len(y_valid_DB)"
   ]
  },
  {
   "cell_type": "code",
   "execution_count": 55,
   "metadata": {},
   "outputs": [
    {
     "data": {
      "text/plain": [
       "list"
      ]
     },
     "execution_count": 55,
     "metadata": {},
     "output_type": "execute_result"
    }
   ],
   "source": [
    "type(y_valid_DB)"
   ]
  },
  {
   "cell_type": "code",
   "execution_count": null,
   "metadata": {},
   "outputs": [],
   "source": []
  },
  {
   "cell_type": "code",
   "execution_count": 56,
   "metadata": {},
   "outputs": [],
   "source": [
    "from transformers import DistilBertTokenizerFast\n",
    "\n",
    "# Instantiate DistilBERT tokenizer...we use the Fast version to optimize runtime\n",
    "tokenizer = DistilBertTokenizerFast.from_pretrained('distilbert-base-uncased')"
   ]
  },
  {
   "cell_type": "code",
   "execution_count": 57,
   "metadata": {},
   "outputs": [],
   "source": [
    "# Define the maximum number of words to tokenize (DistilBERT can tokenize up to 512)\n",
    "MAX_LENGTH = 128\n",
    "\n",
    "\n",
    "# Define function to encode text data in batches\n",
    "def batch_encode(tokenizer, texts, batch_size=256, max_length=MAX_LENGTH):\n",
    "    \"\"\"\"\"\"\"\"\"\n",
    "    A function that encodes a batch of texts and returns the texts'\n",
    "    corresponding encodings and attention masks that are ready to be fed \n",
    "    into a pre-trained transformer model.\n",
    "    \n",
    "    Input:\n",
    "        - tokenizer:   Tokenizer object from the PreTrainedTokenizer Class\n",
    "        - texts:       List of strings where each string represents a text\n",
    "        - batch_size:  Integer controlling number of texts in a batch\n",
    "        - max_length:  Integer controlling max number of words to tokenize in a given text\n",
    "    Output:\n",
    "        - input_ids:       sequence of texts encoded as a tf.Tensor object\n",
    "        - attention_mask:  the texts' attention mask encoded as a tf.Tensor object\n",
    "    \"\"\"\"\"\"\"\"\"\n",
    "    \n",
    "    input_ids = []\n",
    "    attention_mask = []\n",
    "    \n",
    "    for i in range(0, len(texts), batch_size):\n",
    "        batch = texts[i:i+batch_size]\n",
    "        inputs = tokenizer.batch_encode_plus(batch,\n",
    "                                             max_length=max_length,\n",
    "                                             padding='longest', #implements dynamic padding\n",
    "                                             truncation=True,\n",
    "                                             return_attention_mask=True,\n",
    "                                             return_token_type_ids=False\n",
    "                                             )\n",
    "        input_ids.extend(inputs['input_ids'])\n",
    "        attention_mask.extend(inputs['attention_mask'])\n",
    "    \n",
    "    \n",
    "    return tf.convert_to_tensor(input_ids), tf.convert_to_tensor(attention_mask)\n",
    "    \n",
    "    \n",
    "# Encode X_train\n",
    "X_train_ids_DB, X_train_attention_DB = batch_encode(tokenizer, X_train_DB)\n",
    "\n",
    "# Encode X_valid\n",
    "X_valid_ids_DB, X_valid_attention_DB = batch_encode(tokenizer, X_valid_DB)\n",
    "\n",
    "# Encode X_test\n",
    "\n",
    "## X_test_ids, X_test_attention = batch_encode(tokenizer, X_test.tolist())"
   ]
  },
  {
   "cell_type": "code",
   "execution_count": 59,
   "metadata": {},
   "outputs": [
    {
     "name": "stderr",
     "output_type": "stream",
     "text": [
      "Some layers from the model checkpoint at distilbert-base-uncased were not used when initializing TFDistilBertModel: ['vocab_projector', 'activation_13', 'vocab_transform', 'vocab_layer_norm']\n",
      "- This IS expected if you are initializing TFDistilBertModel from the checkpoint of a model trained on another task or with another architecture (e.g. initializing a BertForSequenceClassification model from a BertForPreTraining model).\n",
      "- This IS NOT expected if you are initializing TFDistilBertModel from the checkpoint of a model that you expect to be exactly identical (initializing a BertForSequenceClassification model from a BertForSequenceClassification model).\n",
      "All the layers of TFDistilBertModel were initialized from the model checkpoint at distilbert-base-uncased.\n",
      "If your task is similar to the task the model of the checkpoint was trained on, you can already use TFDistilBertModel for predictions without further training.\n"
     ]
    }
   ],
   "source": [
    "from transformers import TFDistilBertModel, DistilBertConfig\n",
    "\n",
    "DISTILBERT_DROPOUT = 0.2\n",
    "DISTILBERT_ATT_DROPOUT = 0.2\n",
    " \n",
    "# Configure DistilBERT's initialization\n",
    "config = DistilBertConfig(dropout=DISTILBERT_DROPOUT, \n",
    "                          attention_dropout=DISTILBERT_ATT_DROPOUT, \n",
    "                          output_hidden_states=True)\n",
    "                          \n",
    "# The bare, pre-trained DistilBERT transformer model outputting raw hidden-states \n",
    "# and without any specific head on top.\n",
    "distilBERT = TFDistilBertModel.from_pretrained('distilbert-base-uncased', config=config)\n",
    "\n",
    "# Make DistilBERT layers untrainable\n",
    "for layer in distilBERT.layers:\n",
    "    layer.trainable = False"
   ]
  },
  {
   "cell_type": "code",
   "execution_count": 60,
   "metadata": {},
   "outputs": [],
   "source": [
    "MAX_LENGTH = 128\n",
    "LAYER_DROPOUT = 0.2\n",
    "LEARNING_RATE = 5e-5\n",
    "RANDOM_STATE = 42\n",
    "\n",
    "def build_model(transformer, max_length=MAX_LENGTH):\n",
    "    \"\"\"\n",
    "    Template for building a model off of the BERT or DistilBERT architecture\n",
    "    for a binary classification task.\n",
    "    \n",
    "    Input:\n",
    "      - transformer:  a base Hugging Face transformer model object (BERT or DistilBERT)\n",
    "                      with no added classification head attached.\n",
    "      - max_length:   integer controlling the maximum number of encoded tokens \n",
    "                      in a given sequence.\n",
    "    \n",
    "    Output:\n",
    "      - model:        a compiled tf.keras.Model with added classification layers \n",
    "                      on top of the base pre-trained model architecture.\n",
    "    \"\"\"\n",
    "    \n",
    "    # Define weight initializer with a random seed to ensure reproducibility\n",
    "    weight_initializer = tf.keras.initializers.GlorotNormal(seed=RANDOM_STATE) \n",
    "    \n",
    "    # Define input layers\n",
    "    input_ids_layer = tf.keras.layers.Input(shape=(max_length,), \n",
    "                                            name='input_ids', \n",
    "                                            dtype='int32')\n",
    "    input_attention_layer = tf.keras.layers.Input(shape=(max_length,), \n",
    "                                                  name='input_attention', \n",
    "                                                  dtype='int32')\n",
    "    \n",
    "    # DistilBERT outputs a tuple where the first element at index 0\n",
    "    # represents the hidden-state at the output of the model's last layer.\n",
    "    # It is a tf.Tensor of shape (batch_size, sequence_length, hidden_size=768).\n",
    "    last_hidden_state = transformer([input_ids_layer, input_attention_layer])[0]\n",
    "    \n",
    "    # We only care about DistilBERT's output for the [CLS] token, \n",
    "    # which is located at index 0 of every encoded sequence.  \n",
    "    # Splicing out the [CLS] tokens gives us 2D data.\n",
    "    cls_token = last_hidden_state[:, 0, :]\n",
    "    \n",
    "    ##                                                 ##\n",
    "    ## Define additional dropout and dense layers here ##\n",
    "    ##                                                 ##\n",
    "    \n",
    "    # Define a single node that makes up the output layer (for binary classification)\n",
    "    output = tf.keras.layers.Dense(1, \n",
    "                                   activation='sigmoid',\n",
    "                                   kernel_initializer=weight_initializer,  \n",
    "                                   kernel_constraint=None,\n",
    "                                   bias_initializer='zeros'\n",
    "                                   )(cls_token)\n",
    "    \n",
    "    # Define the model\n",
    "    model = tf.keras.Model([input_ids_layer, input_attention_layer], output)\n",
    "    \n",
    "    # Compile the model\n",
    "    model.compile(tf.keras.optimizers.Adam(learning_rate=LEARNING_RATE), \n",
    "                  loss='binary_crossentropy',\n",
    "                  metrics=['accuracy'])\n",
    "    \n",
    "    return model"
   ]
  },
  {
   "cell_type": "code",
   "execution_count": 61,
   "metadata": {},
   "outputs": [],
   "source": [
    "# After you initialize the base model and add a classification head,\n",
    "# invoke the build_model function to make an instance of your model\n",
    "model = build_model(distilBERT)"
   ]
  },
  {
   "cell_type": "code",
   "execution_count": 62,
   "metadata": {},
   "outputs": [
    {
     "name": "stdout",
     "output_type": "stream",
     "text": [
      "Epoch 1/4\n",
      "132/132 [==============================] - 1779s 13s/step - loss: 0.4962 - accuracy: 0.8135 - val_loss: 0.4593 - val_accuracy: 0.8271\n",
      "Epoch 2/4\n",
      "132/132 [==============================] - 1603s 12s/step - loss: 0.4845 - accuracy: 0.8139 - val_loss: 0.4595 - val_accuracy: 0.8271\n",
      "Epoch 3/4\n",
      "132/132 [==============================] - 1693s 13s/step - loss: 0.4832 - accuracy: 0.8139 - val_loss: 0.4586 - val_accuracy: 0.8271\n",
      "Epoch 4/4\n",
      "132/132 [==============================] - 1867s 14s/step - loss: 0.4830 - accuracy: 0.8137 - val_loss: 0.4579 - val_accuracy: 0.8271\n"
     ]
    }
   ],
   "source": [
    "EPOCHS = 4\n",
    "BATCH_SIZE = 64\n",
    "## NUM_STEPS = len(X_train.index) // BATCH_SIZE\n",
    "\n",
    "# Train the model\n",
    "train_history1 = model.fit(\n",
    "    x = [X_train_ids_DB, X_train_attention_DB],\n",
    "    y = np.asarray(y_train_DB),\n",
    "    epochs = EPOCHS,\n",
    "    batch_size = BATCH_SIZE,\n",
    "    ## steps_per_epoch = NUM_STEPS,\n",
    "    validation_data = ([X_valid_ids_DB, X_valid_attention_DB], np.asarray(y_valid_DB)),\n",
    "    verbose=1\n",
    ")"
   ]
  },
  {
   "cell_type": "code",
   "execution_count": 66,
   "metadata": {},
   "outputs": [],
   "source": [
    "import matplotlib.pyplot as plt"
   ]
  },
  {
   "cell_type": "code",
   "execution_count": 71,
   "metadata": {},
   "outputs": [
    {
     "data": {
      "image/png": "[encoded data removed]",
      "text/plain": [
       "<Figure size 432x288 with 1 Axes>"
      ]
     },
     "metadata": {
      "needs_background": "light"
     },
     "output_type": "display_data"
    }
   ],
   "source": [
    "plt.title('Loss')\n",
    "plt.plot(train_history1.history['loss'], label='train')\n",
    "plt.plot(train_history1.history['val_loss'], label='test')\n",
    "plt.legend()\n",
    "plt.show();"
   ]
  },
  {
   "cell_type": "code",
   "execution_count": 72,
   "metadata": {},
   "outputs": [
    {
     "data": {
      "image/png": "[encoded data removed]",
      "text/plain": [
       "<Figure size 432x288 with 1 Axes>"
      ]
     },
     "metadata": {
      "needs_background": "light"
     },
     "output_type": "display_data"
    }
   ],
   "source": [
    "plt.title('Accuracy')\n",
    "plt.plot(train_history1.history['accuracy'], label='train')\n",
    "plt.plot(train_history1.history['val_accuracy'], label='test')\n",
    "plt.legend()\n",
    "plt.show();"
   ]
  },
  {
   "cell_type": "code",
   "execution_count": 70,
   "metadata": {},
   "outputs": [
    {
     "name": "stdout",
     "output_type": "stream",
     "text": [
      "Epoch 1/4\n",
      "132/132 [==============================] - 4112s 31s/step - loss: 0.4724 - accuracy: 0.8137 - val_loss: 0.4407 - val_accuracy: 0.8271\n",
      "Epoch 2/4\n",
      "132/132 [==============================] - 7416s 56s/step - loss: 0.4385 - accuracy: 0.8128 - val_loss: 0.4507 - val_accuracy: 0.8271\n",
      "Epoch 3/4\n",
      "132/132 [==============================] - 3762s 28s/step - loss: 0.4002 - accuracy: 0.8235 - val_loss: 0.4559 - val_accuracy: 0.8190\n",
      "Epoch 4/4\n",
      "132/132 [==============================] - 3760s 28s/step - loss: 0.3379 - accuracy: 0.8533 - val_loss: 0.5020 - val_accuracy: 0.8063\n"
     ]
    }
   ],
   "source": [
    "FT_EPOCHS = 4\n",
    "BATCH_SIZE = 64\n",
    "## NUM_STEPS = len(X_train.index)\n",
    "\n",
    "# Unfreeze distilBERT layers and make available for training\n",
    "for layer in distilBERT.layers:\n",
    "    layer.trainable = True\n",
    "    \n",
    "# Recompile model after unfreezing\n",
    "model.compile(optimizer=tf.keras.optimizers.Adam(learning_rate=2e-5), \n",
    "              loss='binary_crossentropy',\n",
    "              metrics=['accuracy'])\n",
    "\n",
    "# Train the model\n",
    "train_history2 = model.fit(\n",
    "    x = [X_train_ids_DB, X_train_attention_DB],\n",
    "    y = np.asarray(y_train_DB),\n",
    "    epochs = FT_EPOCHS,\n",
    "    batch_size = BATCH_SIZE,\n",
    "    ## steps_per_epoch = NUM_STEPS,\n",
    "    validation_data = ([X_valid_ids_DB, X_valid_attention_DB],  np.asarray(y_valid_DB)),\n",
    "    verbose=1\n",
    ")"
   ]
  },
  {
   "cell_type": "code",
   "execution_count": 73,
   "metadata": {},
   "outputs": [
    {
     "data": {
      "image/png": "[encoded data removed]",
      "text/plain": [
       "<Figure size 432x288 with 1 Axes>"
      ]
     },
     "metadata": {
      "needs_background": "light"
     },
     "output_type": "display_data"
    }
   ],
   "source": [
    "plt.title('Loss')\n",
    "plt.plot(train_history2.history['loss'], label='train')\n",
    "plt.plot(train_history2.history['val_loss'], label='test')\n",
    "plt.legend()\n",
    "plt.show();"
   ]
  },
  {
   "cell_type": "code",
   "execution_count": 74,
   "metadata": {},
   "outputs": [
    {
     "data": {
      "image/png": "[encoded data removed]",
      "text/plain": [
       "<Figure size 432x288 with 1 Axes>"
      ]
     },
     "metadata": {
      "needs_background": "light"
     },
     "output_type": "display_data"
    }
   ],
   "source": [
    "plt.title('Accuracy')\n",
    "plt.plot(train_history2.history['accuracy'], label='train')\n",
    "plt.plot(train_history2.history['val_accuracy'], label='test')\n",
    "plt.legend()\n",
    "plt.show();"
   ]
  },
  {
   "cell_type": "code",
   "execution_count": null,
   "metadata": {},
   "outputs": [],
   "source": []
  }
 ],
 "metadata": {
  "kernelspec": {
   "display_name": "Python 3",
   "language": "python",
   "name": "python3"
  },
  "language_info": {
   "codemirror_mode": {
    "name": "ipython",
    "version": 3
   },
   "file_extension": ".py",
   "mimetype": "text/x-python",
   "name": "python",
   "nbconvert_exporter": "python",
   "pygments_lexer": "ipython3",
   "version": "3.8.5"
  }
 },
 "nbformat": 4,
 "nbformat_minor": 4
}
