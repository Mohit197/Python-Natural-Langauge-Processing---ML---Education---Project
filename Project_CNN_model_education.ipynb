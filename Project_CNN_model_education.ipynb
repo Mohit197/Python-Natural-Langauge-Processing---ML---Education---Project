{
 "cells": [
  {
   "cell_type": "code",
   "execution_count": 1,
   "metadata": {},
   "outputs": [],
   "source": [
    "import re\n",
    "import os\n",
    "import math\n",
    "import nltk\n",
    "import time\n",
    "import re\n",
    "import string\n",
    "import pandas as pd\n",
    "from nltk.corpus import stopwords"
   ]
  },
  {
   "cell_type": "code",
   "execution_count": 2,
   "metadata": {},
   "outputs": [],
   "source": [
    "# you can use the imports below\n",
    "# include any other imports you need here\n",
    "# you may have to install gensim using \"pip install gensim\"\n",
    "%matplotlib inline\n",
    "import numpy as np\n",
    "import matplotlib.pyplot as plt\n",
    "from gensim.test.utils import datapath, get_tmpfile\n",
    "from gensim.models import KeyedVectors\n",
    "from gensim.scripts.glove2word2vec import glove2word2vec"
   ]
  },
  {
   "cell_type": "code",
   "execution_count": 3,
   "metadata": {},
   "outputs": [],
   "source": [
    "import sklearn\n",
    "from sklearn.feature_extraction.text import CountVectorizer\n",
    "from sklearn.feature_extraction.text import TfidfTransformer\n",
    "from sklearn.naive_bayes import MultinomialNB\n",
    "from sklearn.pipeline import Pipeline"
   ]
  },
  {
   "cell_type": "code",
   "execution_count": 4,
   "metadata": {},
   "outputs": [],
   "source": [
    "#In this body of code, we have taken first 5000 rows of our original dataset to implement a code to test Regex, data cleaning\n",
    "#Tokenization, stop words elimination - all operations on the \"Bio\" column of the data frame so that user profile data\n",
    "#can be used in further analysis in the remaining stages. "
   ]
  },
  {
   "cell_type": "code",
   "execution_count": 5,
   "metadata": {},
   "outputs": [],
   "source": [
    "#Steps to data cleaning and preparation fort the analysis\n",
    "#Step 1: Go to directory, locate the excel file\n",
    "#Step 2: Unicode the file , skip errors and encode \n",
    "#Step 3: Convert excel to data frame\n",
    "#Step 4: Instruct it to read column 'V' \n",
    "#Step 5: get lower (V)\n",
    "#Step 6: Regex\n",
    "#Step 7: Tokenize\n",
    "#Step 8: Stopwords"
   ]
  },
  {
   "cell_type": "code",
   "execution_count": 6,
   "metadata": {},
   "outputs": [],
   "source": [
    "#Step 1: Go to directory, locate the excel file\n",
    "#Step 2: Unicode the file , skip errors and encode \n",
    "#Step 3: Convert excel to data frame"
   ]
  },
  {
   "cell_type": "code",
   "execution_count": 7,
   "metadata": {},
   "outputs": [
    {
     "name": "stdout",
     "output_type": "stream",
     "text": [
      "       age age_group  status sex orientation       body_type  \\\n",
      "0       22     18_22  single   m    straight  a little extra   \n",
      "1       22     18_22  single   f    straight        athletic   \n",
      "2       22     18_22  single   m    straight             fit   \n",
      "3       20     18_22  single   f    straight         average   \n",
      "4       21     18_22  single   m    straight            thin   \n",
      "...    ...       ...     ...  ..         ...             ...   \n",
      "10845   65       51+  single   f    straight             fit   \n",
      "10846   55       51+  single   f    straight    full figured   \n",
      "10847   51       51+  single   m    straight         average   \n",
      "10848   65       51+  single   f    straight           curvy   \n",
      "10849   60       51+  single   m    straight         average   \n",
      "\n",
      "                    diet    drinks  drinks_freq  drugs  ...  \\\n",
      "0      strictly anything  socially            1  never  ...   \n",
      "1                    NaN  socially            1  never  ...   \n",
      "2        mostly anything  socially            1  never  ...   \n",
      "3      mostly vegetarian  socially            1  never  ...   \n",
      "4                    NaN  socially            1    NaN  ...   \n",
      "...                  ...       ...          ...    ...  ...   \n",
      "10845                NaN  socially            1  never  ...   \n",
      "10846           anything    rarely            0  never  ...   \n",
      "10847  strictly anything    rarely            0  never  ...   \n",
      "10848    mostly anything  socially            1  never  ...   \n",
      "10849    mostly anything  socially            1  never  ...   \n",
      "\n",
      "                           job_group       last_online  \\\n",
      "0                        blue_collar  2012-06-28-20-30   \n",
      "1                            student  2012-06-15-22-56   \n",
      "2                           business  2012-06-10-01-37   \n",
      "3                        blue_collar  2012-06-30-00-00   \n",
      "4                           s.t.e.m.  2012-06-29-22-10   \n",
      "...                              ...               ...   \n",
      "10845  humanities_arts_entertainment  2011-08-19-18-51   \n",
      "10846                       business  2012-06-19-08-45   \n",
      "10847                       business  2012-06-30-06-26   \n",
      "10848                          other  2012-06-30-19-11   \n",
      "10849                       s.t.e.m.  2012-06-30-11-07   \n",
      "\n",
      "                              location  \\\n",
      "0      south san francisco, california   \n",
      "1            san francisco, california   \n",
      "2            san francisco, california   \n",
      "3               san rafael, california   \n",
      "4            san francisco, california   \n",
      "...                                ...   \n",
      "10845              oakland, california   \n",
      "10846        half moon bay, california   \n",
      "10847        san francisco, california   \n",
      "10848          san lorenzo, california   \n",
      "10849            palo alto, california   \n",
      "\n",
      "                                    offspring                          pets  \\\n",
      "0      doesn't have kids, but might want them     likes dogs and likes cats   \n",
      "1      doesn't have kids, but might want them     likes dogs and likes cats   \n",
      "2                                         NaN  likes dogs and dislikes cats   \n",
      "3                           doesn't want kids       has dogs and likes cats   \n",
      "4                                         NaN                           NaN   \n",
      "...                                       ...                           ...   \n",
      "10845                                     NaN                           NaN   \n",
      "10846         has kids, but doesn't want more                 dislikes cats   \n",
      "10847                               has a kid                           NaN   \n",
      "10848                                has kids         has dogs and has cats   \n",
      "10849         has kids, but doesn't want more                           NaN   \n",
      "\n",
      "                                        religion  \\\n",
      "0          agnosticism and very serious about it   \n",
      "1      catholicism and somewhat serious about it   \n",
      "2              catholicism and laughing about it   \n",
      "3                                            NaN   \n",
      "4                                       buddhism   \n",
      "...                                          ...   \n",
      "10845                                        NaN   \n",
      "10846   catholicism but not too serious about it   \n",
      "10847       atheism but not too serious about it   \n",
      "10848      catholicism and very serious about it   \n",
      "10849        other and somewhat serious about it   \n",
      "\n",
      "                                        sign          smokes  \\\n",
      "0                                     gemini       sometimes   \n",
      "1         taurus but it doesn&rsquo;t matter              no   \n",
      "2      leo and it&rsquo;s fun to think about  trying to quit   \n",
      "3                                     cancer              no   \n",
      "4                                        NaN   when drinking   \n",
      "...                                      ...             ...   \n",
      "10845      libra but it doesn&rsquo;t matter              no   \n",
      "10846        leo but it doesn&rsquo;t matter              no   \n",
      "10847                                    NaN       sometimes   \n",
      "10848           scorpio and it matters a lot              no   \n",
      "10849                                    NaN              no   \n",
      "\n",
      "                                                  speaks  \\\n",
      "0                                                english   \n",
      "1      english (fluently), spanish (fluently), italia...   \n",
      "2      english (fluently), tagalog (fluently), japane...   \n",
      "3                 english (fluently), spanish (fluently)   \n",
      "4                                                english   \n",
      "...                                                  ...   \n",
      "10845                                 english (fluently)   \n",
      "10846                                            english   \n",
      "10847                                            english   \n",
      "10848                  english, english, french, spanish   \n",
      "10849               english, french (poorly), c++ (okay)   \n",
      "\n",
      "                                                     Bio  \n",
      "0      about me:  i would love to think that i was so...  \n",
      "1      my name is ashley and i live in san francisco....  \n",
      "2      full-time student, full-time square. i change ...  \n",
      "3      \"apparently,\" has become a new favorite word o...  \n",
      "4      i grew up in iowa. it gets a bad rap, but let ...  \n",
      "...                                                  ...  \n",
      "10845  my friends describe me as a beautiful on the i...  \n",
      "10846  my friends would say i've got a caring, nurtur...  \n",
      "10847  in the suburbs not by choice but necessity. i ...  \n",
      "10848  i am fun loving and romantic. a bouquet of flo...  \n",
      "10849  lifted from my match profile:  i am recently w...  \n",
      "\n",
      "[10850 rows x 25 columns]\n"
     ]
    }
   ],
   "source": [
    "import pandas as pd\n",
    "\n",
    "df_dating = pd.read_excel (r'C:\\Users\\jeffd\\Documents\\Studying\\Statistical Software\\Final Project\\Input_project_v11_age.xlsx')\n",
    "print (df_dating)"
   ]
  },
  {
   "cell_type": "code",
   "execution_count": 8,
   "metadata": {},
   "outputs": [],
   "source": [
    "#The bottom line removes all emojis from the text, this will help clean the text"
   ]
  },
  {
   "cell_type": "code",
   "execution_count": 9,
   "metadata": {},
   "outputs": [
    {
     "data": {
      "text/html": [
       "<div>\n",
       "<style scoped>\n",
       "    .dataframe tbody tr th:only-of-type {\n",
       "        vertical-align: middle;\n",
       "    }\n",
       "\n",
       "    .dataframe tbody tr th {\n",
       "        vertical-align: top;\n",
       "    }\n",
       "\n",
       "    .dataframe thead th {\n",
       "        text-align: right;\n",
       "    }\n",
       "</style>\n",
       "<table border=\"1\" class=\"dataframe\">\n",
       "  <thead>\n",
       "    <tr style=\"text-align: right;\">\n",
       "      <th></th>\n",
       "      <th>age</th>\n",
       "      <th>age_group</th>\n",
       "      <th>status</th>\n",
       "      <th>sex</th>\n",
       "      <th>orientation</th>\n",
       "      <th>body_type</th>\n",
       "      <th>diet</th>\n",
       "      <th>drinks</th>\n",
       "      <th>drinks_freq</th>\n",
       "      <th>drugs</th>\n",
       "      <th>...</th>\n",
       "      <th>job_group</th>\n",
       "      <th>last_online</th>\n",
       "      <th>location</th>\n",
       "      <th>offspring</th>\n",
       "      <th>pets</th>\n",
       "      <th>religion</th>\n",
       "      <th>sign</th>\n",
       "      <th>smokes</th>\n",
       "      <th>speaks</th>\n",
       "      <th>Bio</th>\n",
       "    </tr>\n",
       "  </thead>\n",
       "  <tbody>\n",
       "    <tr>\n",
       "      <th>0</th>\n",
       "      <td>22</td>\n",
       "      <td>18_22</td>\n",
       "      <td>single</td>\n",
       "      <td>m</td>\n",
       "      <td>straight</td>\n",
       "      <td>a little extra</td>\n",
       "      <td>strictly anything</td>\n",
       "      <td>socially</td>\n",
       "      <td>1</td>\n",
       "      <td>never</td>\n",
       "      <td>...</td>\n",
       "      <td>blue_collar</td>\n",
       "      <td>2012-06-28-20-30</td>\n",
       "      <td>south san francisco, california</td>\n",
       "      <td>doesn't have kids, but might want them</td>\n",
       "      <td>likes dogs and likes cats</td>\n",
       "      <td>agnosticism and very serious about it</td>\n",
       "      <td>gemini</td>\n",
       "      <td>sometimes</td>\n",
       "      <td>english</td>\n",
       "      <td>about me:  i would love to think that i was so...</td>\n",
       "    </tr>\n",
       "    <tr>\n",
       "      <th>1</th>\n",
       "      <td>22</td>\n",
       "      <td>18_22</td>\n",
       "      <td>single</td>\n",
       "      <td>f</td>\n",
       "      <td>straight</td>\n",
       "      <td>athletic</td>\n",
       "      <td>nan</td>\n",
       "      <td>socially</td>\n",
       "      <td>1</td>\n",
       "      <td>never</td>\n",
       "      <td>...</td>\n",
       "      <td>student</td>\n",
       "      <td>2012-06-15-22-56</td>\n",
       "      <td>san francisco, california</td>\n",
       "      <td>doesn't have kids, but might want them</td>\n",
       "      <td>likes dogs and likes cats</td>\n",
       "      <td>catholicism and somewhat serious about it</td>\n",
       "      <td>taurus but it doesn&amp;rsquo;t matter</td>\n",
       "      <td>no</td>\n",
       "      <td>english (fluently), spanish (fluently), italia...</td>\n",
       "      <td>my name is ashley and i live in san francisco....</td>\n",
       "    </tr>\n",
       "    <tr>\n",
       "      <th>2</th>\n",
       "      <td>22</td>\n",
       "      <td>18_22</td>\n",
       "      <td>single</td>\n",
       "      <td>m</td>\n",
       "      <td>straight</td>\n",
       "      <td>fit</td>\n",
       "      <td>mostly anything</td>\n",
       "      <td>socially</td>\n",
       "      <td>1</td>\n",
       "      <td>never</td>\n",
       "      <td>...</td>\n",
       "      <td>business</td>\n",
       "      <td>2012-06-10-01-37</td>\n",
       "      <td>san francisco, california</td>\n",
       "      <td>nan</td>\n",
       "      <td>likes dogs and dislikes cats</td>\n",
       "      <td>catholicism and laughing about it</td>\n",
       "      <td>leo and it&amp;rsquo;s fun to think about</td>\n",
       "      <td>trying to quit</td>\n",
       "      <td>english (fluently), tagalog (fluently), japane...</td>\n",
       "      <td>full-time student, full-time square. i change ...</td>\n",
       "    </tr>\n",
       "    <tr>\n",
       "      <th>3</th>\n",
       "      <td>20</td>\n",
       "      <td>18_22</td>\n",
       "      <td>single</td>\n",
       "      <td>f</td>\n",
       "      <td>straight</td>\n",
       "      <td>average</td>\n",
       "      <td>mostly vegetarian</td>\n",
       "      <td>socially</td>\n",
       "      <td>1</td>\n",
       "      <td>never</td>\n",
       "      <td>...</td>\n",
       "      <td>blue_collar</td>\n",
       "      <td>2012-06-30-00-00</td>\n",
       "      <td>san rafael, california</td>\n",
       "      <td>doesn't want kids</td>\n",
       "      <td>has dogs and likes cats</td>\n",
       "      <td>nan</td>\n",
       "      <td>cancer</td>\n",
       "      <td>no</td>\n",
       "      <td>english (fluently), spanish (fluently)</td>\n",
       "      <td>\"apparently,\" has become a new favorite word o...</td>\n",
       "    </tr>\n",
       "    <tr>\n",
       "      <th>4</th>\n",
       "      <td>21</td>\n",
       "      <td>18_22</td>\n",
       "      <td>single</td>\n",
       "      <td>m</td>\n",
       "      <td>straight</td>\n",
       "      <td>thin</td>\n",
       "      <td>nan</td>\n",
       "      <td>socially</td>\n",
       "      <td>1</td>\n",
       "      <td>nan</td>\n",
       "      <td>...</td>\n",
       "      <td>s.t.e.m.</td>\n",
       "      <td>2012-06-29-22-10</td>\n",
       "      <td>san francisco, california</td>\n",
       "      <td>nan</td>\n",
       "      <td>nan</td>\n",
       "      <td>buddhism</td>\n",
       "      <td>nan</td>\n",
       "      <td>when drinking</td>\n",
       "      <td>english</td>\n",
       "      <td>i grew up in iowa. it gets a bad rap, but let ...</td>\n",
       "    </tr>\n",
       "    <tr>\n",
       "      <th>...</th>\n",
       "      <td>...</td>\n",
       "      <td>...</td>\n",
       "      <td>...</td>\n",
       "      <td>...</td>\n",
       "      <td>...</td>\n",
       "      <td>...</td>\n",
       "      <td>...</td>\n",
       "      <td>...</td>\n",
       "      <td>...</td>\n",
       "      <td>...</td>\n",
       "      <td>...</td>\n",
       "      <td>...</td>\n",
       "      <td>...</td>\n",
       "      <td>...</td>\n",
       "      <td>...</td>\n",
       "      <td>...</td>\n",
       "      <td>...</td>\n",
       "      <td>...</td>\n",
       "      <td>...</td>\n",
       "      <td>...</td>\n",
       "      <td>...</td>\n",
       "    </tr>\n",
       "    <tr>\n",
       "      <th>10845</th>\n",
       "      <td>65</td>\n",
       "      <td>51+</td>\n",
       "      <td>single</td>\n",
       "      <td>f</td>\n",
       "      <td>straight</td>\n",
       "      <td>fit</td>\n",
       "      <td>nan</td>\n",
       "      <td>socially</td>\n",
       "      <td>1</td>\n",
       "      <td>never</td>\n",
       "      <td>...</td>\n",
       "      <td>humanities_arts_entertainment</td>\n",
       "      <td>2011-08-19-18-51</td>\n",
       "      <td>oakland, california</td>\n",
       "      <td>nan</td>\n",
       "      <td>nan</td>\n",
       "      <td>nan</td>\n",
       "      <td>libra but it doesn&amp;rsquo;t matter</td>\n",
       "      <td>no</td>\n",
       "      <td>english (fluently)</td>\n",
       "      <td>my friends describe me as a beautiful on the i...</td>\n",
       "    </tr>\n",
       "    <tr>\n",
       "      <th>10846</th>\n",
       "      <td>55</td>\n",
       "      <td>51+</td>\n",
       "      <td>single</td>\n",
       "      <td>f</td>\n",
       "      <td>straight</td>\n",
       "      <td>full figured</td>\n",
       "      <td>anything</td>\n",
       "      <td>rarely</td>\n",
       "      <td>0</td>\n",
       "      <td>never</td>\n",
       "      <td>...</td>\n",
       "      <td>business</td>\n",
       "      <td>2012-06-19-08-45</td>\n",
       "      <td>half moon bay, california</td>\n",
       "      <td>has kids, but doesn't want more</td>\n",
       "      <td>dislikes cats</td>\n",
       "      <td>catholicism but not too serious about it</td>\n",
       "      <td>leo but it doesn&amp;rsquo;t matter</td>\n",
       "      <td>no</td>\n",
       "      <td>english</td>\n",
       "      <td>my friends would say i've got a caring, nurtur...</td>\n",
       "    </tr>\n",
       "    <tr>\n",
       "      <th>10847</th>\n",
       "      <td>51</td>\n",
       "      <td>51+</td>\n",
       "      <td>single</td>\n",
       "      <td>m</td>\n",
       "      <td>straight</td>\n",
       "      <td>average</td>\n",
       "      <td>strictly anything</td>\n",
       "      <td>rarely</td>\n",
       "      <td>0</td>\n",
       "      <td>never</td>\n",
       "      <td>...</td>\n",
       "      <td>business</td>\n",
       "      <td>2012-06-30-06-26</td>\n",
       "      <td>san francisco, california</td>\n",
       "      <td>has a kid</td>\n",
       "      <td>nan</td>\n",
       "      <td>atheism but not too serious about it</td>\n",
       "      <td>nan</td>\n",
       "      <td>sometimes</td>\n",
       "      <td>english</td>\n",
       "      <td>in the suburbs not by choice but necessity. i ...</td>\n",
       "    </tr>\n",
       "    <tr>\n",
       "      <th>10848</th>\n",
       "      <td>65</td>\n",
       "      <td>51+</td>\n",
       "      <td>single</td>\n",
       "      <td>f</td>\n",
       "      <td>straight</td>\n",
       "      <td>curvy</td>\n",
       "      <td>mostly anything</td>\n",
       "      <td>socially</td>\n",
       "      <td>1</td>\n",
       "      <td>never</td>\n",
       "      <td>...</td>\n",
       "      <td>other</td>\n",
       "      <td>2012-06-30-19-11</td>\n",
       "      <td>san lorenzo, california</td>\n",
       "      <td>has kids</td>\n",
       "      <td>has dogs and has cats</td>\n",
       "      <td>catholicism and very serious about it</td>\n",
       "      <td>scorpio and it matters a lot</td>\n",
       "      <td>no</td>\n",
       "      <td>english, english, french, spanish</td>\n",
       "      <td>i am fun loving and romantic. a bouquet of flo...</td>\n",
       "    </tr>\n",
       "    <tr>\n",
       "      <th>10849</th>\n",
       "      <td>60</td>\n",
       "      <td>51+</td>\n",
       "      <td>single</td>\n",
       "      <td>m</td>\n",
       "      <td>straight</td>\n",
       "      <td>average</td>\n",
       "      <td>mostly anything</td>\n",
       "      <td>socially</td>\n",
       "      <td>1</td>\n",
       "      <td>never</td>\n",
       "      <td>...</td>\n",
       "      <td>s.t.e.m.</td>\n",
       "      <td>2012-06-30-11-07</td>\n",
       "      <td>palo alto, california</td>\n",
       "      <td>has kids, but doesn't want more</td>\n",
       "      <td>nan</td>\n",
       "      <td>other and somewhat serious about it</td>\n",
       "      <td>nan</td>\n",
       "      <td>no</td>\n",
       "      <td>english, french (poorly), c++ (okay)</td>\n",
       "      <td>lifted from my match profile:  i am recently w...</td>\n",
       "    </tr>\n",
       "  </tbody>\n",
       "</table>\n",
       "<p>10850 rows × 25 columns</p>\n",
       "</div>"
      ],
      "text/plain": [
       "      age age_group  status sex orientation       body_type  \\\n",
       "0      22     18_22  single   m    straight  a little extra   \n",
       "1      22     18_22  single   f    straight        athletic   \n",
       "2      22     18_22  single   m    straight             fit   \n",
       "3      20     18_22  single   f    straight         average   \n",
       "4      21     18_22  single   m    straight            thin   \n",
       "...    ..       ...     ...  ..         ...             ...   \n",
       "10845  65       51+  single   f    straight             fit   \n",
       "10846  55       51+  single   f    straight    full figured   \n",
       "10847  51       51+  single   m    straight         average   \n",
       "10848  65       51+  single   f    straight           curvy   \n",
       "10849  60       51+  single   m    straight         average   \n",
       "\n",
       "                    diet    drinks drinks_freq  drugs  ...  \\\n",
       "0      strictly anything  socially           1  never  ...   \n",
       "1                    nan  socially           1  never  ...   \n",
       "2        mostly anything  socially           1  never  ...   \n",
       "3      mostly vegetarian  socially           1  never  ...   \n",
       "4                    nan  socially           1    nan  ...   \n",
       "...                  ...       ...         ...    ...  ...   \n",
       "10845                nan  socially           1  never  ...   \n",
       "10846           anything    rarely           0  never  ...   \n",
       "10847  strictly anything    rarely           0  never  ...   \n",
       "10848    mostly anything  socially           1  never  ...   \n",
       "10849    mostly anything  socially           1  never  ...   \n",
       "\n",
       "                           job_group       last_online  \\\n",
       "0                        blue_collar  2012-06-28-20-30   \n",
       "1                            student  2012-06-15-22-56   \n",
       "2                           business  2012-06-10-01-37   \n",
       "3                        blue_collar  2012-06-30-00-00   \n",
       "4                           s.t.e.m.  2012-06-29-22-10   \n",
       "...                              ...               ...   \n",
       "10845  humanities_arts_entertainment  2011-08-19-18-51   \n",
       "10846                       business  2012-06-19-08-45   \n",
       "10847                       business  2012-06-30-06-26   \n",
       "10848                          other  2012-06-30-19-11   \n",
       "10849                       s.t.e.m.  2012-06-30-11-07   \n",
       "\n",
       "                              location  \\\n",
       "0      south san francisco, california   \n",
       "1            san francisco, california   \n",
       "2            san francisco, california   \n",
       "3               san rafael, california   \n",
       "4            san francisco, california   \n",
       "...                                ...   \n",
       "10845              oakland, california   \n",
       "10846        half moon bay, california   \n",
       "10847        san francisco, california   \n",
       "10848          san lorenzo, california   \n",
       "10849            palo alto, california   \n",
       "\n",
       "                                    offspring                          pets  \\\n",
       "0      doesn't have kids, but might want them     likes dogs and likes cats   \n",
       "1      doesn't have kids, but might want them     likes dogs and likes cats   \n",
       "2                                         nan  likes dogs and dislikes cats   \n",
       "3                           doesn't want kids       has dogs and likes cats   \n",
       "4                                         nan                           nan   \n",
       "...                                       ...                           ...   \n",
       "10845                                     nan                           nan   \n",
       "10846         has kids, but doesn't want more                 dislikes cats   \n",
       "10847                               has a kid                           nan   \n",
       "10848                                has kids         has dogs and has cats   \n",
       "10849         has kids, but doesn't want more                           nan   \n",
       "\n",
       "                                        religion  \\\n",
       "0          agnosticism and very serious about it   \n",
       "1      catholicism and somewhat serious about it   \n",
       "2              catholicism and laughing about it   \n",
       "3                                            nan   \n",
       "4                                       buddhism   \n",
       "...                                          ...   \n",
       "10845                                        nan   \n",
       "10846   catholicism but not too serious about it   \n",
       "10847       atheism but not too serious about it   \n",
       "10848      catholicism and very serious about it   \n",
       "10849        other and somewhat serious about it   \n",
       "\n",
       "                                        sign          smokes  \\\n",
       "0                                     gemini       sometimes   \n",
       "1         taurus but it doesn&rsquo;t matter              no   \n",
       "2      leo and it&rsquo;s fun to think about  trying to quit   \n",
       "3                                     cancer              no   \n",
       "4                                        nan   when drinking   \n",
       "...                                      ...             ...   \n",
       "10845      libra but it doesn&rsquo;t matter              no   \n",
       "10846        leo but it doesn&rsquo;t matter              no   \n",
       "10847                                    nan       sometimes   \n",
       "10848           scorpio and it matters a lot              no   \n",
       "10849                                    nan              no   \n",
       "\n",
       "                                                  speaks  \\\n",
       "0                                                english   \n",
       "1      english (fluently), spanish (fluently), italia...   \n",
       "2      english (fluently), tagalog (fluently), japane...   \n",
       "3                 english (fluently), spanish (fluently)   \n",
       "4                                                english   \n",
       "...                                                  ...   \n",
       "10845                                 english (fluently)   \n",
       "10846                                            english   \n",
       "10847                                            english   \n",
       "10848                  english, english, french, spanish   \n",
       "10849               english, french (poorly), c++ (okay)   \n",
       "\n",
       "                                                     Bio  \n",
       "0      about me:  i would love to think that i was so...  \n",
       "1      my name is ashley and i live in san francisco....  \n",
       "2      full-time student, full-time square. i change ...  \n",
       "3      \"apparently,\" has become a new favorite word o...  \n",
       "4      i grew up in iowa. it gets a bad rap, but let ...  \n",
       "...                                                  ...  \n",
       "10845  my friends describe me as a beautiful on the i...  \n",
       "10846  my friends would say i've got a caring, nurtur...  \n",
       "10847  in the suburbs not by choice but necessity. i ...  \n",
       "10848  i am fun loving and romantic. a bouquet of flo...  \n",
       "10849  lifted from my match profile:  i am recently w...  \n",
       "\n",
       "[10850 rows x 25 columns]"
      ]
     },
     "execution_count": 9,
     "metadata": {},
     "output_type": "execute_result"
    }
   ],
   "source": [
    "df_dating.astype(str).apply(lambda x: x.str.encode('ascii', 'ignore').str.decode('ascii'))"
   ]
  },
  {
   "cell_type": "code",
   "execution_count": 10,
   "metadata": {},
   "outputs": [],
   "source": [
    "df_dating[\"Bio\"] = df_dating[\"Bio\"].str.lower()"
   ]
  },
  {
   "cell_type": "code",
   "execution_count": 11,
   "metadata": {},
   "outputs": [
    {
     "data": {
      "text/plain": [
       "pandas.core.frame.DataFrame"
      ]
     },
     "execution_count": 11,
     "metadata": {},
     "output_type": "execute_result"
    }
   ],
   "source": [
    "type(df_dating)"
   ]
  },
  {
   "cell_type": "code",
   "execution_count": 12,
   "metadata": {},
   "outputs": [],
   "source": [
    "#Convert all the text in the bio-column to lower case\n",
    "#Print first few rows of the data frame to test how column 'Bio' looks"
   ]
  },
  {
   "cell_type": "code",
   "execution_count": 13,
   "metadata": {},
   "outputs": [
    {
     "data": {
      "text/html": [
       "<div>\n",
       "<style scoped>\n",
       "    .dataframe tbody tr th:only-of-type {\n",
       "        vertical-align: middle;\n",
       "    }\n",
       "\n",
       "    .dataframe tbody tr th {\n",
       "        vertical-align: top;\n",
       "    }\n",
       "\n",
       "    .dataframe thead th {\n",
       "        text-align: right;\n",
       "    }\n",
       "</style>\n",
       "<table border=\"1\" class=\"dataframe\">\n",
       "  <thead>\n",
       "    <tr style=\"text-align: right;\">\n",
       "      <th></th>\n",
       "      <th>age</th>\n",
       "      <th>age_group</th>\n",
       "      <th>status</th>\n",
       "      <th>sex</th>\n",
       "      <th>orientation</th>\n",
       "      <th>body_type</th>\n",
       "      <th>diet</th>\n",
       "      <th>drinks</th>\n",
       "      <th>drinks_freq</th>\n",
       "      <th>drugs</th>\n",
       "      <th>...</th>\n",
       "      <th>job_group</th>\n",
       "      <th>last_online</th>\n",
       "      <th>location</th>\n",
       "      <th>offspring</th>\n",
       "      <th>pets</th>\n",
       "      <th>religion</th>\n",
       "      <th>sign</th>\n",
       "      <th>smokes</th>\n",
       "      <th>speaks</th>\n",
       "      <th>Bio</th>\n",
       "    </tr>\n",
       "  </thead>\n",
       "  <tbody>\n",
       "    <tr>\n",
       "      <th>0</th>\n",
       "      <td>22</td>\n",
       "      <td>18_22</td>\n",
       "      <td>single</td>\n",
       "      <td>m</td>\n",
       "      <td>straight</td>\n",
       "      <td>a little extra</td>\n",
       "      <td>strictly anything</td>\n",
       "      <td>socially</td>\n",
       "      <td>1</td>\n",
       "      <td>never</td>\n",
       "      <td>...</td>\n",
       "      <td>blue_collar</td>\n",
       "      <td>2012-06-28-20-30</td>\n",
       "      <td>south san francisco, california</td>\n",
       "      <td>doesn't have kids, but might want them</td>\n",
       "      <td>likes dogs and likes cats</td>\n",
       "      <td>agnosticism and very serious about it</td>\n",
       "      <td>gemini</td>\n",
       "      <td>sometimes</td>\n",
       "      <td>english</td>\n",
       "      <td>about me:  i would love to think that i was so...</td>\n",
       "    </tr>\n",
       "    <tr>\n",
       "      <th>1</th>\n",
       "      <td>22</td>\n",
       "      <td>18_22</td>\n",
       "      <td>single</td>\n",
       "      <td>f</td>\n",
       "      <td>straight</td>\n",
       "      <td>athletic</td>\n",
       "      <td>NaN</td>\n",
       "      <td>socially</td>\n",
       "      <td>1</td>\n",
       "      <td>never</td>\n",
       "      <td>...</td>\n",
       "      <td>student</td>\n",
       "      <td>2012-06-15-22-56</td>\n",
       "      <td>san francisco, california</td>\n",
       "      <td>doesn't have kids, but might want them</td>\n",
       "      <td>likes dogs and likes cats</td>\n",
       "      <td>catholicism and somewhat serious about it</td>\n",
       "      <td>taurus but it doesn&amp;rsquo;t matter</td>\n",
       "      <td>no</td>\n",
       "      <td>english (fluently), spanish (fluently), italia...</td>\n",
       "      <td>my name is ashley and i live in san francisco....</td>\n",
       "    </tr>\n",
       "    <tr>\n",
       "      <th>2</th>\n",
       "      <td>22</td>\n",
       "      <td>18_22</td>\n",
       "      <td>single</td>\n",
       "      <td>m</td>\n",
       "      <td>straight</td>\n",
       "      <td>fit</td>\n",
       "      <td>mostly anything</td>\n",
       "      <td>socially</td>\n",
       "      <td>1</td>\n",
       "      <td>never</td>\n",
       "      <td>...</td>\n",
       "      <td>business</td>\n",
       "      <td>2012-06-10-01-37</td>\n",
       "      <td>san francisco, california</td>\n",
       "      <td>NaN</td>\n",
       "      <td>likes dogs and dislikes cats</td>\n",
       "      <td>catholicism and laughing about it</td>\n",
       "      <td>leo and it&amp;rsquo;s fun to think about</td>\n",
       "      <td>trying to quit</td>\n",
       "      <td>english (fluently), tagalog (fluently), japane...</td>\n",
       "      <td>full-time student, full-time square. i change ...</td>\n",
       "    </tr>\n",
       "    <tr>\n",
       "      <th>3</th>\n",
       "      <td>20</td>\n",
       "      <td>18_22</td>\n",
       "      <td>single</td>\n",
       "      <td>f</td>\n",
       "      <td>straight</td>\n",
       "      <td>average</td>\n",
       "      <td>mostly vegetarian</td>\n",
       "      <td>socially</td>\n",
       "      <td>1</td>\n",
       "      <td>never</td>\n",
       "      <td>...</td>\n",
       "      <td>blue_collar</td>\n",
       "      <td>2012-06-30-00-00</td>\n",
       "      <td>san rafael, california</td>\n",
       "      <td>doesn't want kids</td>\n",
       "      <td>has dogs and likes cats</td>\n",
       "      <td>NaN</td>\n",
       "      <td>cancer</td>\n",
       "      <td>no</td>\n",
       "      <td>english (fluently), spanish (fluently)</td>\n",
       "      <td>\"apparently,\" has become a new favorite word o...</td>\n",
       "    </tr>\n",
       "    <tr>\n",
       "      <th>4</th>\n",
       "      <td>21</td>\n",
       "      <td>18_22</td>\n",
       "      <td>single</td>\n",
       "      <td>m</td>\n",
       "      <td>straight</td>\n",
       "      <td>thin</td>\n",
       "      <td>NaN</td>\n",
       "      <td>socially</td>\n",
       "      <td>1</td>\n",
       "      <td>NaN</td>\n",
       "      <td>...</td>\n",
       "      <td>s.t.e.m.</td>\n",
       "      <td>2012-06-29-22-10</td>\n",
       "      <td>san francisco, california</td>\n",
       "      <td>NaN</td>\n",
       "      <td>NaN</td>\n",
       "      <td>buddhism</td>\n",
       "      <td>NaN</td>\n",
       "      <td>when drinking</td>\n",
       "      <td>english</td>\n",
       "      <td>i grew up in iowa. it gets a bad rap, but let ...</td>\n",
       "    </tr>\n",
       "  </tbody>\n",
       "</table>\n",
       "<p>5 rows × 25 columns</p>\n",
       "</div>"
      ],
      "text/plain": [
       "   age age_group  status sex orientation       body_type               diet  \\\n",
       "0   22     18_22  single   m    straight  a little extra  strictly anything   \n",
       "1   22     18_22  single   f    straight        athletic                NaN   \n",
       "2   22     18_22  single   m    straight             fit    mostly anything   \n",
       "3   20     18_22  single   f    straight         average  mostly vegetarian   \n",
       "4   21     18_22  single   m    straight            thin                NaN   \n",
       "\n",
       "     drinks  drinks_freq  drugs  ...    job_group       last_online  \\\n",
       "0  socially            1  never  ...  blue_collar  2012-06-28-20-30   \n",
       "1  socially            1  never  ...      student  2012-06-15-22-56   \n",
       "2  socially            1  never  ...     business  2012-06-10-01-37   \n",
       "3  socially            1  never  ...  blue_collar  2012-06-30-00-00   \n",
       "4  socially            1    NaN  ...     s.t.e.m.  2012-06-29-22-10   \n",
       "\n",
       "                          location                               offspring  \\\n",
       "0  south san francisco, california  doesn't have kids, but might want them   \n",
       "1        san francisco, california  doesn't have kids, but might want them   \n",
       "2        san francisco, california                                     NaN   \n",
       "3           san rafael, california                       doesn't want kids   \n",
       "4        san francisco, california                                     NaN   \n",
       "\n",
       "                           pets                                   religion  \\\n",
       "0     likes dogs and likes cats      agnosticism and very serious about it   \n",
       "1     likes dogs and likes cats  catholicism and somewhat serious about it   \n",
       "2  likes dogs and dislikes cats          catholicism and laughing about it   \n",
       "3       has dogs and likes cats                                        NaN   \n",
       "4                           NaN                                   buddhism   \n",
       "\n",
       "                                    sign          smokes  \\\n",
       "0                                 gemini       sometimes   \n",
       "1     taurus but it doesn&rsquo;t matter              no   \n",
       "2  leo and it&rsquo;s fun to think about  trying to quit   \n",
       "3                                 cancer              no   \n",
       "4                                    NaN   when drinking   \n",
       "\n",
       "                                              speaks  \\\n",
       "0                                            english   \n",
       "1  english (fluently), spanish (fluently), italia...   \n",
       "2  english (fluently), tagalog (fluently), japane...   \n",
       "3             english (fluently), spanish (fluently)   \n",
       "4                                            english   \n",
       "\n",
       "                                                 Bio  \n",
       "0  about me:  i would love to think that i was so...  \n",
       "1  my name is ashley and i live in san francisco....  \n",
       "2  full-time student, full-time square. i change ...  \n",
       "3  \"apparently,\" has become a new favorite word o...  \n",
       "4  i grew up in iowa. it gets a bad rap, but let ...  \n",
       "\n",
       "[5 rows x 25 columns]"
      ]
     },
     "execution_count": 13,
     "metadata": {},
     "output_type": "execute_result"
    }
   ],
   "source": [
    "df_dating_top = df_dating.head()\n",
    "df_dating_top"
   ]
  },
  {
   "cell_type": "code",
   "execution_count": null,
   "metadata": {},
   "outputs": [],
   "source": []
  },
  {
   "cell_type": "code",
   "execution_count": 14,
   "metadata": {},
   "outputs": [],
   "source": [
    "#Step 4: Instruct it to read column 'V' \n",
    "#Step 5: get lower (V)"
   ]
  },
  {
   "cell_type": "code",
   "execution_count": 15,
   "metadata": {},
   "outputs": [
    {
     "name": "stdout",
     "output_type": "stream",
     "text": [
      "                                                 Bio\n",
      "0  about me:  i would love to think that i was so...\n",
      "1  my name is ashley and i live in san francisco....\n",
      "2  full-time student, full-time square. i change ...\n",
      "3  \"apparently,\" has become a new favorite word o...\n",
      "4  i grew up in iowa. it gets a bad rap, but let ...\n"
     ]
    }
   ],
   "source": [
    "#df['Bio'].str.lower()\n",
    "bio_token1 = pd.DataFrame(df_dating, columns = ['Bio'])\n",
    "print(bio_token1[0:5])"
   ]
  },
  {
   "cell_type": "code",
   "execution_count": 16,
   "metadata": {},
   "outputs": [],
   "source": [
    "#Step 6: Regex"
   ]
  },
  {
   "cell_type": "code",
   "execution_count": 17,
   "metadata": {},
   "outputs": [],
   "source": [
    "import nltk\n",
    "\n",
    "df_dating['Bio'] = df_dating['Bio'].str.replace('[^A-z ]','').str.replace(' +',' ').str.strip()\n",
    "df_dating['Bio'] = df_dating['Bio'].str.replace(\".\", \"\").str.replace(\",\", \"\").str.strip()\n",
    "df_dating['Bio'] = df_dating['Bio'].str.replace(\")\", \"\").str.replace(\"(\", \"\").str.strip()\n",
    "df_dating['Bio'] = df_dating['Bio'].str.replace(\"!@#$%^&*\\(\\)\\[]\\{};:,./<>?\\|`~=_+\", \"\").str.strip()\n"
   ]
  },
  {
   "cell_type": "code",
   "execution_count": 18,
   "metadata": {},
   "outputs": [
    {
     "data": {
      "text/html": [
       "<div>\n",
       "<style scoped>\n",
       "    .dataframe tbody tr th:only-of-type {\n",
       "        vertical-align: middle;\n",
       "    }\n",
       "\n",
       "    .dataframe tbody tr th {\n",
       "        vertical-align: top;\n",
       "    }\n",
       "\n",
       "    .dataframe thead th {\n",
       "        text-align: right;\n",
       "    }\n",
       "</style>\n",
       "<table border=\"1\" class=\"dataframe\">\n",
       "  <thead>\n",
       "    <tr style=\"text-align: right;\">\n",
       "      <th></th>\n",
       "      <th>age</th>\n",
       "      <th>age_group</th>\n",
       "      <th>status</th>\n",
       "      <th>sex</th>\n",
       "      <th>orientation</th>\n",
       "      <th>body_type</th>\n",
       "      <th>diet</th>\n",
       "      <th>drinks</th>\n",
       "      <th>drinks_freq</th>\n",
       "      <th>drugs</th>\n",
       "      <th>...</th>\n",
       "      <th>job_group</th>\n",
       "      <th>last_online</th>\n",
       "      <th>location</th>\n",
       "      <th>offspring</th>\n",
       "      <th>pets</th>\n",
       "      <th>religion</th>\n",
       "      <th>sign</th>\n",
       "      <th>smokes</th>\n",
       "      <th>speaks</th>\n",
       "      <th>Bio</th>\n",
       "    </tr>\n",
       "  </thead>\n",
       "  <tbody>\n",
       "    <tr>\n",
       "      <th>0</th>\n",
       "      <td>22</td>\n",
       "      <td>18_22</td>\n",
       "      <td>single</td>\n",
       "      <td>m</td>\n",
       "      <td>straight</td>\n",
       "      <td>a little extra</td>\n",
       "      <td>strictly anything</td>\n",
       "      <td>socially</td>\n",
       "      <td>1</td>\n",
       "      <td>never</td>\n",
       "      <td>...</td>\n",
       "      <td>blue_collar</td>\n",
       "      <td>2012-06-28-20-30</td>\n",
       "      <td>south san francisco, california</td>\n",
       "      <td>doesn't have kids, but might want them</td>\n",
       "      <td>likes dogs and likes cats</td>\n",
       "      <td>agnosticism and very serious about it</td>\n",
       "      <td>gemini</td>\n",
       "      <td>sometimes</td>\n",
       "      <td>english</td>\n",
       "      <td>about me i would love to think that i was some...</td>\n",
       "    </tr>\n",
       "    <tr>\n",
       "      <th>1</th>\n",
       "      <td>22</td>\n",
       "      <td>18_22</td>\n",
       "      <td>single</td>\n",
       "      <td>f</td>\n",
       "      <td>straight</td>\n",
       "      <td>athletic</td>\n",
       "      <td>NaN</td>\n",
       "      <td>socially</td>\n",
       "      <td>1</td>\n",
       "      <td>never</td>\n",
       "      <td>...</td>\n",
       "      <td>student</td>\n",
       "      <td>2012-06-15-22-56</td>\n",
       "      <td>san francisco, california</td>\n",
       "      <td>doesn't have kids, but might want them</td>\n",
       "      <td>likes dogs and likes cats</td>\n",
       "      <td>catholicism and somewhat serious about it</td>\n",
       "      <td>taurus but it doesn&amp;rsquo;t matter</td>\n",
       "      <td>no</td>\n",
       "      <td>english (fluently), spanish (fluently), italia...</td>\n",
       "      <td>my name is ashley and i live in san francisco ...</td>\n",
       "    </tr>\n",
       "    <tr>\n",
       "      <th>2</th>\n",
       "      <td>22</td>\n",
       "      <td>18_22</td>\n",
       "      <td>single</td>\n",
       "      <td>m</td>\n",
       "      <td>straight</td>\n",
       "      <td>fit</td>\n",
       "      <td>mostly anything</td>\n",
       "      <td>socially</td>\n",
       "      <td>1</td>\n",
       "      <td>never</td>\n",
       "      <td>...</td>\n",
       "      <td>business</td>\n",
       "      <td>2012-06-10-01-37</td>\n",
       "      <td>san francisco, california</td>\n",
       "      <td>NaN</td>\n",
       "      <td>likes dogs and dislikes cats</td>\n",
       "      <td>catholicism and laughing about it</td>\n",
       "      <td>leo and it&amp;rsquo;s fun to think about</td>\n",
       "      <td>trying to quit</td>\n",
       "      <td>english (fluently), tagalog (fluently), japane...</td>\n",
       "      <td>fulltime student fulltime square i change from...</td>\n",
       "    </tr>\n",
       "    <tr>\n",
       "      <th>3</th>\n",
       "      <td>20</td>\n",
       "      <td>18_22</td>\n",
       "      <td>single</td>\n",
       "      <td>f</td>\n",
       "      <td>straight</td>\n",
       "      <td>average</td>\n",
       "      <td>mostly vegetarian</td>\n",
       "      <td>socially</td>\n",
       "      <td>1</td>\n",
       "      <td>never</td>\n",
       "      <td>...</td>\n",
       "      <td>blue_collar</td>\n",
       "      <td>2012-06-30-00-00</td>\n",
       "      <td>san rafael, california</td>\n",
       "      <td>doesn't want kids</td>\n",
       "      <td>has dogs and likes cats</td>\n",
       "      <td>NaN</td>\n",
       "      <td>cancer</td>\n",
       "      <td>no</td>\n",
       "      <td>english (fluently), spanish (fluently)</td>\n",
       "      <td>apparently has become a new favorite word of m...</td>\n",
       "    </tr>\n",
       "    <tr>\n",
       "      <th>4</th>\n",
       "      <td>21</td>\n",
       "      <td>18_22</td>\n",
       "      <td>single</td>\n",
       "      <td>m</td>\n",
       "      <td>straight</td>\n",
       "      <td>thin</td>\n",
       "      <td>NaN</td>\n",
       "      <td>socially</td>\n",
       "      <td>1</td>\n",
       "      <td>NaN</td>\n",
       "      <td>...</td>\n",
       "      <td>s.t.e.m.</td>\n",
       "      <td>2012-06-29-22-10</td>\n",
       "      <td>san francisco, california</td>\n",
       "      <td>NaN</td>\n",
       "      <td>NaN</td>\n",
       "      <td>buddhism</td>\n",
       "      <td>NaN</td>\n",
       "      <td>when drinking</td>\n",
       "      <td>english</td>\n",
       "      <td>i grew up in iowa it gets a bad rap but let me...</td>\n",
       "    </tr>\n",
       "  </tbody>\n",
       "</table>\n",
       "<p>5 rows × 25 columns</p>\n",
       "</div>"
      ],
      "text/plain": [
       "   age age_group  status sex orientation       body_type               diet  \\\n",
       "0   22     18_22  single   m    straight  a little extra  strictly anything   \n",
       "1   22     18_22  single   f    straight        athletic                NaN   \n",
       "2   22     18_22  single   m    straight             fit    mostly anything   \n",
       "3   20     18_22  single   f    straight         average  mostly vegetarian   \n",
       "4   21     18_22  single   m    straight            thin                NaN   \n",
       "\n",
       "     drinks  drinks_freq  drugs  ...    job_group       last_online  \\\n",
       "0  socially            1  never  ...  blue_collar  2012-06-28-20-30   \n",
       "1  socially            1  never  ...      student  2012-06-15-22-56   \n",
       "2  socially            1  never  ...     business  2012-06-10-01-37   \n",
       "3  socially            1  never  ...  blue_collar  2012-06-30-00-00   \n",
       "4  socially            1    NaN  ...     s.t.e.m.  2012-06-29-22-10   \n",
       "\n",
       "                          location                               offspring  \\\n",
       "0  south san francisco, california  doesn't have kids, but might want them   \n",
       "1        san francisco, california  doesn't have kids, but might want them   \n",
       "2        san francisco, california                                     NaN   \n",
       "3           san rafael, california                       doesn't want kids   \n",
       "4        san francisco, california                                     NaN   \n",
       "\n",
       "                           pets                                   religion  \\\n",
       "0     likes dogs and likes cats      agnosticism and very serious about it   \n",
       "1     likes dogs and likes cats  catholicism and somewhat serious about it   \n",
       "2  likes dogs and dislikes cats          catholicism and laughing about it   \n",
       "3       has dogs and likes cats                                        NaN   \n",
       "4                           NaN                                   buddhism   \n",
       "\n",
       "                                    sign          smokes  \\\n",
       "0                                 gemini       sometimes   \n",
       "1     taurus but it doesn&rsquo;t matter              no   \n",
       "2  leo and it&rsquo;s fun to think about  trying to quit   \n",
       "3                                 cancer              no   \n",
       "4                                    NaN   when drinking   \n",
       "\n",
       "                                              speaks  \\\n",
       "0                                            english   \n",
       "1  english (fluently), spanish (fluently), italia...   \n",
       "2  english (fluently), tagalog (fluently), japane...   \n",
       "3             english (fluently), spanish (fluently)   \n",
       "4                                            english   \n",
       "\n",
       "                                                 Bio  \n",
       "0  about me i would love to think that i was some...  \n",
       "1  my name is ashley and i live in san francisco ...  \n",
       "2  fulltime student fulltime square i change from...  \n",
       "3  apparently has become a new favorite word of m...  \n",
       "4  i grew up in iowa it gets a bad rap but let me...  \n",
       "\n",
       "[5 rows x 25 columns]"
      ]
     },
     "execution_count": 18,
     "metadata": {},
     "output_type": "execute_result"
    }
   ],
   "source": [
    "df_dating_top = df_dating.head()\n",
    "df_dating_top"
   ]
  },
  {
   "cell_type": "code",
   "execution_count": null,
   "metadata": {},
   "outputs": [],
   "source": []
  },
  {
   "cell_type": "code",
   "execution_count": null,
   "metadata": {},
   "outputs": [],
   "source": []
  },
  {
   "cell_type": "code",
   "execution_count": 19,
   "metadata": {},
   "outputs": [],
   "source": [
    "df_dating = df_dating[df_dating['Bio'].notna()]"
   ]
  },
  {
   "cell_type": "code",
   "execution_count": 20,
   "metadata": {},
   "outputs": [
    {
     "data": {
      "text/plain": [
       "10551"
      ]
     },
     "execution_count": 20,
     "metadata": {},
     "output_type": "execute_result"
    }
   ],
   "source": [
    "len(df_dating['Bio'])"
   ]
  },
  {
   "cell_type": "code",
   "execution_count": 21,
   "metadata": {},
   "outputs": [],
   "source": [
    "type(df_dating['Bio'])\n",
    "dating_bio_list = df_dating[\"Bio\"].tolist()"
   ]
  },
  {
   "cell_type": "code",
   "execution_count": 22,
   "metadata": {},
   "outputs": [
    {
     "data": {
      "text/plain": [
       "list"
      ]
     },
     "execution_count": 22,
     "metadata": {},
     "output_type": "execute_result"
    }
   ],
   "source": [
    "type(dating_bio_list)"
   ]
  },
  {
   "cell_type": "code",
   "execution_count": 23,
   "metadata": {},
   "outputs": [],
   "source": [
    "dating_education_group_list = df_dating['education_group'].tolist()"
   ]
  },
  {
   "cell_type": "code",
   "execution_count": 24,
   "metadata": {},
   "outputs": [
    {
     "name": "stdout",
     "output_type": "stream",
     "text": [
      "['college_university', 'college_university', 'college_university', 'college_university']\n"
     ]
    }
   ],
   "source": [
    "print(dating_education_group_list[1:5])"
   ]
  },
  {
   "cell_type": "code",
   "execution_count": 28,
   "metadata": {},
   "outputs": [],
   "source": [
    "%matplotlib inline\n",
    "import numpy as np\n",
    "import matplotlib.pyplot as plt\n",
    "import seaborn as sns; sns.set()\n",
    "from sklearn.model_selection import train_test_split\n",
    "\n",
    "\n",
    "from gensim.test.utils import datapath, get_tmpfile\n",
    "from gensim.models import KeyedVectors\n",
    "from gensim.scripts.glove2word2vec import glove2word2vec\n",
    "\n",
    "from nltk.corpus import stopwords\n",
    "import string"
   ]
  },
  {
   "cell_type": "code",
   "execution_count": 29,
   "metadata": {},
   "outputs": [],
   "source": [
    "CNN_X_train_education, CNN_X_test_education, CNN_y_train_education, CNN_y_test_education = (\n",
    "train_test_split(dating_bio_list, dating_education_group_list, test_size=0.2))"
   ]
  },
  {
   "cell_type": "code",
   "execution_count": 30,
   "metadata": {},
   "outputs": [
    {
     "data": {
      "text/plain": [
       "8440"
      ]
     },
     "execution_count": 30,
     "metadata": {},
     "output_type": "execute_result"
    }
   ],
   "source": [
    "len(CNN_X_train_education)"
   ]
  },
  {
   "cell_type": "code",
   "execution_count": 31,
   "metadata": {},
   "outputs": [
    {
     "data": {
      "text/plain": [
       "2111"
      ]
     },
     "execution_count": 31,
     "metadata": {},
     "output_type": "execute_result"
    }
   ],
   "source": [
    "len(CNN_X_test_education)"
   ]
  },
  {
   "cell_type": "code",
   "execution_count": 32,
   "metadata": {},
   "outputs": [
    {
     "data": {
      "text/plain": [
       "8440"
      ]
     },
     "execution_count": 32,
     "metadata": {},
     "output_type": "execute_result"
    }
   ],
   "source": [
    "len(CNN_y_train_education)"
   ]
  },
  {
   "cell_type": "code",
   "execution_count": 33,
   "metadata": {},
   "outputs": [
    {
     "data": {
      "text/plain": [
       "2111"
      ]
     },
     "execution_count": 33,
     "metadata": {},
     "output_type": "execute_result"
    }
   ],
   "source": [
    "len(CNN_y_test_education)"
   ]
  },
  {
   "cell_type": "code",
   "execution_count": 34,
   "metadata": {},
   "outputs": [],
   "source": [
    "from sklearn.feature_extraction.text import TfidfVectorizer\n",
    "from sklearn.neural_network import MLPClassifier\n",
    "from sklearn.pipeline import make_pipeline"
   ]
  },
  {
   "cell_type": "code",
   "execution_count": 35,
   "metadata": {},
   "outputs": [
    {
     "name": "stdout",
     "output_type": "stream",
     "text": [
      "Iteration 1, loss = 1.35005668\n",
      "Iteration 2, loss = 1.01251707\n",
      "Iteration 3, loss = 0.89885649\n",
      "Iteration 4, loss = 0.75913739\n",
      "Iteration 5, loss = 0.61847461\n",
      "Iteration 6, loss = 0.48266989\n",
      "Iteration 7, loss = 0.36357429\n",
      "Iteration 8, loss = 0.26605522\n",
      "Iteration 9, loss = 0.19339149\n",
      "Iteration 10, loss = 0.14158880\n",
      "Iteration 11, loss = 0.10502737\n",
      "Iteration 12, loss = 0.07948574\n",
      "Iteration 13, loss = 0.06127150\n",
      "Iteration 14, loss = 0.04849230\n",
      "Iteration 15, loss = 0.03936251\n",
      "Iteration 16, loss = 0.03263616\n",
      "Iteration 17, loss = 0.02752909\n",
      "Iteration 18, loss = 0.02374560\n",
      "Iteration 19, loss = 0.02079771\n",
      "Iteration 20, loss = 0.01849321\n",
      "Iteration 21, loss = 0.01667230\n",
      "Iteration 22, loss = 0.01519353\n",
      "Iteration 23, loss = 0.01399586\n",
      "Iteration 24, loss = 0.01298663\n",
      "Iteration 25, loss = 0.01215263\n",
      "Iteration 26, loss = 0.01144440\n",
      "Iteration 27, loss = 0.01083397\n",
      "Iteration 28, loss = 0.01030662\n",
      "Iteration 29, loss = 0.00983072\n",
      "Iteration 30, loss = 0.00941936\n",
      "Iteration 31, loss = 0.00905160\n",
      "Iteration 32, loss = 0.00872554\n",
      "Iteration 33, loss = 0.00843791\n",
      "Iteration 34, loss = 0.00817754\n",
      "Iteration 35, loss = 0.00794224\n",
      "Iteration 36, loss = 0.00773217\n",
      "Iteration 37, loss = 0.00754276\n",
      "Iteration 38, loss = 0.00736302\n",
      "Iteration 39, loss = 0.00720057\n",
      "Iteration 40, loss = 0.00705197\n",
      "Iteration 41, loss = 0.00691260\n",
      "Iteration 42, loss = 0.00678076\n",
      "Iteration 43, loss = 0.00665774\n",
      "Iteration 44, loss = 0.00654280\n",
      "Iteration 45, loss = 0.00643515\n",
      "Iteration 46, loss = 0.00632882\n",
      "Iteration 47, loss = 0.00623003\n",
      "Iteration 48, loss = 0.00613550\n",
      "Iteration 49, loss = 0.00604494\n",
      "Iteration 50, loss = 0.00595608\n",
      "Iteration 51, loss = 0.00587318\n",
      "Iteration 52, loss = 0.00579192\n",
      "Iteration 53, loss = 0.00571232\n",
      "Iteration 54, loss = 0.00563720\n",
      "Iteration 55, loss = 0.00556149\n",
      "Iteration 56, loss = 0.00549016\n",
      "Iteration 57, loss = 0.00541904\n",
      "Training loss did not improve more than tol=0.000100 for 10 consecutive epochs. Stopping.\n"
     ]
    }
   ],
   "source": [
    "dating_model_education_CNN = make_pipeline(TfidfVectorizer(), MLPClassifier(hidden_layer_sizes=(100,), verbose=True))\n",
    "dating_model_education_CNN_history = dating_model_education_CNN.fit(CNN_X_train_education, CNN_y_train_education)\n",
    "pred_labels_education_CNN = dating_model_education_CNN.predict(CNN_X_test_education)"
   ]
  },
  {
   "cell_type": "code",
   "execution_count": 36,
   "metadata": {},
   "outputs": [
    {
     "data": {
      "image/png": "[encoded data removed]",
      "text/plain": [
       "<Figure size 432x288 with 1 Axes>"
      ]
     },
     "metadata": {},
     "output_type": "display_data"
    }
   ],
   "source": [
    "from sklearn.metrics import confusion_matrix\n",
    "mat_CNN_education = confusion_matrix(CNN_y_test_education, pred_labels_education_CNN)\n",
    "sorted_labels = list(set(CNN_y_test_education))\n",
    "sorted_labels.sort()\n",
    "sns.heatmap(mat_CNN_education.T, square=True, annot=True, fmt='d', cbar=False, center=True,\n",
    "            xticklabels=sorted_labels, yticklabels=sorted_labels)\n",
    "plt.xlabel('true label')\n",
    "plt.ylabel('predicted label');"
   ]
  },
  {
   "cell_type": "code",
   "execution_count": 39,
   "metadata": {},
   "outputs": [
    {
     "name": "stdout",
     "output_type": "stream",
     "text": [
      "0.21813967185193142\n",
      "0.6096636665087636\n",
      "0.563058819272596\n"
     ]
    }
   ],
   "source": [
    "from sklearn.metrics import f1_score\n",
    "print(f1_score(CNN_y_test_education, pred_labels_education_CNN, average='macro'))\n",
    "print(f1_score(CNN_y_test_education, pred_labels_education_CNN, average='micro'))\n",
    "print(f1_score(CNN_y_test_education, pred_labels_education_CNN, average='weighted'))"
   ]
  },
  {
   "cell_type": "code",
   "execution_count": null,
   "metadata": {},
   "outputs": [],
   "source": []
  },
  {
   "cell_type": "code",
   "execution_count": null,
   "metadata": {},
   "outputs": [],
   "source": [
    "\n"
   ]
  },
  {
   "cell_type": "code",
   "execution_count": null,
   "metadata": {},
   "outputs": [],
   "source": []
  },
  {
   "cell_type": "code",
   "execution_count": null,
   "metadata": {},
   "outputs": [],
   "source": []
  },
  {
   "cell_type": "code",
   "execution_count": null,
   "metadata": {},
   "outputs": [],
   "source": []
  },
  {
   "cell_type": "code",
   "execution_count": null,
   "metadata": {},
   "outputs": [],
   "source": []
  },
  {
   "cell_type": "code",
   "execution_count": null,
   "metadata": {},
   "outputs": [],
   "source": []
  },
  {
   "cell_type": "code",
   "execution_count": 58,
   "metadata": {},
   "outputs": [],
   "source": []
  },
  {
   "cell_type": "code",
   "execution_count": null,
   "metadata": {},
   "outputs": [],
   "source": []
  },
  {
   "cell_type": "code",
   "execution_count": null,
   "metadata": {},
   "outputs": [],
   "source": [
    "## Architecture #2"
   ]
  },
  {
   "cell_type": "code",
   "execution_count": 46,
   "metadata": {},
   "outputs": [
    {
     "name": "stdout",
     "output_type": "stream",
     "text": [
      "Iteration 1, loss = 1.29696526\n",
      "Iteration 2, loss = 1.02842658\n",
      "Iteration 3, loss = 0.85279368\n",
      "Iteration 4, loss = 0.47601714\n",
      "Iteration 5, loss = 0.21859016\n",
      "Iteration 6, loss = 0.10298922\n",
      "Iteration 7, loss = 0.05415023\n",
      "Iteration 8, loss = 0.02581282\n",
      "Iteration 9, loss = 0.01131292\n",
      "Iteration 10, loss = 0.00629697\n",
      "Iteration 11, loss = 0.00316060\n",
      "Iteration 12, loss = 0.00200951\n",
      "Iteration 13, loss = 0.00157777\n",
      "Iteration 14, loss = 0.00139060\n",
      "Iteration 15, loss = 0.00127518\n",
      "Iteration 16, loss = 0.00119717\n",
      "Iteration 17, loss = 0.00114109\n",
      "Iteration 18, loss = 0.00109787\n",
      "Iteration 19, loss = 0.00106306\n",
      "Iteration 20, loss = 0.00103310\n",
      "Iteration 21, loss = 0.00099665\n",
      "Iteration 22, loss = 0.00095948\n",
      "Iteration 23, loss = 0.00093305\n",
      "Iteration 24, loss = 0.00091399\n",
      "Iteration 25, loss = 0.00089768\n",
      "Iteration 26, loss = 0.00088305\n",
      "Training loss did not improve more than tol=0.000100 for 10 consecutive epochs. Stopping.\n"
     ]
    }
   ],
   "source": [
    "dating_model_education_CNN_2 = make_pipeline(TfidfVectorizer(), MLPClassifier(hidden_layer_sizes=(100,100,100), verbose=True))\n",
    "dating_model_education_CNN_history_2 = dating_model_education_CNN_2.fit(CNN_X_train_education, CNN_y_train_education)\n",
    "pred_labels_education_CNN_2 = dating_model_education_CNN_2.predict(CNN_X_test_education)"
   ]
  },
  {
   "cell_type": "code",
   "execution_count": 48,
   "metadata": {},
   "outputs": [
    {
     "data": {
      "image/png": "[encoded data removed]",
      "text/plain": [
       "<Figure size 432x288 with 1 Axes>"
      ]
     },
     "metadata": {},
     "output_type": "display_data"
    }
   ],
   "source": [
    "from sklearn.metrics import confusion_matrix\n",
    "mat_CNN_age_2 = confusion_matrix(CNN_y_test_education, pred_labels_education_CNN_2)\n",
    "sorted_labels = list(set(CNN_y_test_education))\n",
    "sorted_labels.sort()\n",
    "sns.heatmap(mat_CNN_age_2.T, square=True, annot=True, fmt='d', cbar=False, center=True,\n",
    "            xticklabels=sorted_labels, yticklabels=sorted_labels)\n",
    "plt.xlabel('true label')\n",
    "plt.ylabel('predicted label');"
   ]
  },
  {
   "cell_type": "code",
   "execution_count": 51,
   "metadata": {},
   "outputs": [
    {
     "name": "stdout",
     "output_type": "stream",
     "text": [
      "0.21155757482599624\n",
      "0.5798199905258171\n",
      "0.5460653479840377\n"
     ]
    }
   ],
   "source": [
    "from sklearn.metrics import f1_score\n",
    "print(f1_score(CNN_y_test_education, pred_labels_education_CNN_2, average='macro'))\n",
    "print(f1_score(CNN_y_test_education, pred_labels_education_CNN_2, average='micro'))\n",
    "print(f1_score(CNN_y_test_education, pred_labels_education_CNN_2, average='weighted'))"
   ]
  },
  {
   "cell_type": "code",
   "execution_count": null,
   "metadata": {},
   "outputs": [],
   "source": []
  },
  {
   "cell_type": "code",
   "execution_count": null,
   "metadata": {},
   "outputs": [],
   "source": []
  },
  {
   "cell_type": "code",
   "execution_count": null,
   "metadata": {},
   "outputs": [],
   "source": []
  },
  {
   "cell_type": "code",
   "execution_count": 25,
   "metadata": {},
   "outputs": [],
   "source": []
  },
  {
   "cell_type": "code",
   "execution_count": 26,
   "metadata": {},
   "outputs": [],
   "source": []
  },
  {
   "cell_type": "code",
   "execution_count": null,
   "metadata": {},
   "outputs": [],
   "source": []
  },
  {
   "cell_type": "code",
   "execution_count": null,
   "metadata": {},
   "outputs": [],
   "source": []
  },
  {
   "cell_type": "code",
   "execution_count": null,
   "metadata": {},
   "outputs": [],
   "source": []
  },
  {
   "cell_type": "code",
   "execution_count": null,
   "metadata": {},
   "outputs": [],
   "source": []
  },
  {
   "cell_type": "code",
   "execution_count": null,
   "metadata": {},
   "outputs": [],
   "source": []
  },
  {
   "cell_type": "code",
   "execution_count": null,
   "metadata": {},
   "outputs": [],
   "source": []
  },
  {
   "cell_type": "code",
   "execution_count": null,
   "metadata": {},
   "outputs": [],
   "source": []
  },
  {
   "cell_type": "code",
   "execution_count": null,
   "metadata": {},
   "outputs": [],
   "source": []
  },
  {
   "cell_type": "code",
   "execution_count": 28,
   "metadata": {},
   "outputs": [],
   "source": []
  },
  {
   "cell_type": "code",
   "execution_count": null,
   "metadata": {},
   "outputs": [],
   "source": []
  },
  {
   "cell_type": "code",
   "execution_count": 53,
   "metadata": {},
   "outputs": [],
   "source": []
  },
  {
   "cell_type": "code",
   "execution_count": 54,
   "metadata": {},
   "outputs": [],
   "source": []
  },
  {
   "cell_type": "code",
   "execution_count": 55,
   "metadata": {},
   "outputs": [],
   "source": []
  },
  {
   "cell_type": "code",
   "execution_count": null,
   "metadata": {},
   "outputs": [],
   "source": []
  },
  {
   "cell_type": "code",
   "execution_count": null,
   "metadata": {},
   "outputs": [],
   "source": []
  },
  {
   "cell_type": "code",
   "execution_count": null,
   "metadata": {},
   "outputs": [],
   "source": []
  },
  {
   "cell_type": "markdown",
   "metadata": {},
   "source": []
  },
  {
   "cell_type": "code",
   "execution_count": null,
   "metadata": {},
   "outputs": [],
   "source": []
  },
  {
   "cell_type": "code",
   "execution_count": 60,
   "metadata": {},
   "outputs": [],
   "source": []
  },
  {
   "cell_type": "code",
   "execution_count": 61,
   "metadata": {},
   "outputs": [],
   "source": []
  },
  {
   "cell_type": "code",
   "execution_count": null,
   "metadata": {},
   "outputs": [],
   "source": []
  },
  {
   "cell_type": "code",
   "execution_count": null,
   "metadata": {},
   "outputs": [],
   "source": []
  },
  {
   "cell_type": "code",
   "execution_count": null,
   "metadata": {},
   "outputs": [],
   "source": []
  },
  {
   "cell_type": "code",
   "execution_count": 93,
   "metadata": {},
   "outputs": [],
   "source": []
  },
  {
   "cell_type": "code",
   "execution_count": null,
   "metadata": {},
   "outputs": [],
   "source": []
  },
  {
   "cell_type": "code",
   "execution_count": null,
   "metadata": {},
   "outputs": [],
   "source": []
  },
  {
   "cell_type": "code",
   "execution_count": null,
   "metadata": {},
   "outputs": [],
   "source": []
  },
  {
   "cell_type": "code",
   "execution_count": null,
   "metadata": {},
   "outputs": [],
   "source": []
  },
  {
   "cell_type": "code",
   "execution_count": null,
   "metadata": {},
   "outputs": [],
   "source": []
  },
  {
   "cell_type": "code",
   "execution_count": null,
   "metadata": {},
   "outputs": [],
   "source": []
  },
  {
   "cell_type": "code",
   "execution_count": 72,
   "metadata": {},
   "outputs": [],
   "source": []
  },
  {
   "cell_type": "code",
   "execution_count": 73,
   "metadata": {},
   "outputs": [],
   "source": []
  },
  {
   "cell_type": "code",
   "execution_count": null,
   "metadata": {},
   "outputs": [],
   "source": []
  },
  {
   "cell_type": "code",
   "execution_count": null,
   "metadata": {},
   "outputs": [],
   "source": []
  },
  {
   "cell_type": "code",
   "execution_count": null,
   "metadata": {},
   "outputs": [],
   "source": []
  },
  {
   "cell_type": "code",
   "execution_count": null,
   "metadata": {},
   "outputs": [],
   "source": []
  },
  {
   "cell_type": "code",
   "execution_count": null,
   "metadata": {},
   "outputs": [],
   "source": []
  },
  {
   "cell_type": "code",
   "execution_count": null,
   "metadata": {},
   "outputs": [],
   "source": []
  },
  {
   "cell_type": "code",
   "execution_count": null,
   "metadata": {},
   "outputs": [],
   "source": []
  },
  {
   "cell_type": "code",
   "execution_count": null,
   "metadata": {},
   "outputs": [],
   "source": []
  },
  {
   "cell_type": "code",
   "execution_count": null,
   "metadata": {},
   "outputs": [],
   "source": []
  },
  {
   "cell_type": "code",
   "execution_count": null,
   "metadata": {},
   "outputs": [],
   "source": []
  },
  {
   "cell_type": "code",
   "execution_count": null,
   "metadata": {},
   "outputs": [],
   "source": []
  },
  {
   "cell_type": "code",
   "execution_count": null,
   "metadata": {},
   "outputs": [],
   "source": []
  },
  {
   "cell_type": "code",
   "execution_count": null,
   "metadata": {},
   "outputs": [],
   "source": []
  },
  {
   "cell_type": "code",
   "execution_count": null,
   "metadata": {},
   "outputs": [],
   "source": []
  },
  {
   "cell_type": "code",
   "execution_count": null,
   "metadata": {},
   "outputs": [],
   "source": []
  },
  {
   "cell_type": "code",
   "execution_count": null,
   "metadata": {},
   "outputs": [],
   "source": []
  },
  {
   "cell_type": "code",
   "execution_count": null,
   "metadata": {},
   "outputs": [],
   "source": []
  },
  {
   "cell_type": "code",
   "execution_count": null,
   "metadata": {},
   "outputs": [],
   "source": []
  },
  {
   "cell_type": "code",
   "execution_count": null,
   "metadata": {},
   "outputs": [],
   "source": []
  },
  {
   "cell_type": "code",
   "execution_count": null,
   "metadata": {},
   "outputs": [],
   "source": []
  },
  {
   "cell_type": "code",
   "execution_count": null,
   "metadata": {},
   "outputs": [],
   "source": []
  },
  {
   "cell_type": "code",
   "execution_count": 71,
   "metadata": {},
   "outputs": [],
   "source": []
  },
  {
   "cell_type": "code",
   "execution_count": null,
   "metadata": {},
   "outputs": [],
   "source": []
  },
  {
   "cell_type": "code",
   "execution_count": null,
   "metadata": {},
   "outputs": [],
   "source": []
  },
  {
   "cell_type": "code",
   "execution_count": null,
   "metadata": {},
   "outputs": [],
   "source": []
  },
  {
   "cell_type": "code",
   "execution_count": null,
   "metadata": {},
   "outputs": [],
   "source": []
  },
  {
   "cell_type": "code",
   "execution_count": null,
   "metadata": {},
   "outputs": [],
   "source": []
  },
  {
   "cell_type": "code",
   "execution_count": null,
   "metadata": {},
   "outputs": [],
   "source": []
  },
  {
   "cell_type": "code",
   "execution_count": null,
   "metadata": {},
   "outputs": [],
   "source": []
  },
  {
   "cell_type": "code",
   "execution_count": null,
   "metadata": {},
   "outputs": [],
   "source": []
  },
  {
   "cell_type": "code",
   "execution_count": null,
   "metadata": {},
   "outputs": [],
   "source": []
  },
  {
   "cell_type": "code",
   "execution_count": null,
   "metadata": {},
   "outputs": [],
   "source": []
  },
  {
   "cell_type": "code",
   "execution_count": null,
   "metadata": {},
   "outputs": [],
   "source": []
  },
  {
   "cell_type": "code",
   "execution_count": null,
   "metadata": {},
   "outputs": [],
   "source": []
  },
  {
   "cell_type": "code",
   "execution_count": null,
   "metadata": {},
   "outputs": [],
   "source": []
  }
 ],
 "metadata": {
  "kernelspec": {
   "display_name": "Python 3",
   "language": "python",
   "name": "python3"
  },
  "language_info": {
   "codemirror_mode": {
    "name": "ipython",
    "version": 3
   },
   "file_extension": ".py",
   "mimetype": "text/x-python",
   "name": "python",
   "nbconvert_exporter": "python",
   "pygments_lexer": "ipython3",
   "version": "3.8.5"
  }
 },
 "nbformat": 4,
 "nbformat_minor": 5
}
