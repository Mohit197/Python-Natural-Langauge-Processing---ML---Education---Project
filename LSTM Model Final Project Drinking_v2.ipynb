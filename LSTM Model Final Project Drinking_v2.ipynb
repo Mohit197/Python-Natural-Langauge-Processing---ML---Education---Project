{
 "cells": [
  {
   "cell_type": "code",
   "execution_count": null,
   "metadata": {},
   "outputs": [],
   "source": [
    "## LSTM Model with Keras/Tensorflow"
   ]
  },
  {
   "cell_type": "code",
   "execution_count": 1,
   "metadata": {},
   "outputs": [],
   "source": [
    "import re\n",
    "import os\n",
    "import math\n",
    "import nltk\n",
    "import time\n",
    "import re\n",
    "import string\n",
    "import pandas as pd\n",
    "from nltk.corpus import stopwords"
   ]
  },
  {
   "cell_type": "code",
   "execution_count": 2,
   "metadata": {},
   "outputs": [],
   "source": [
    "%matplotlib inline\n",
    "import numpy as np\n",
    "import matplotlib.pyplot as plt\n",
    "import sklearn\n",
    "from sklearn.feature_extraction.text import CountVectorizer\n",
    "from sklearn.feature_extraction.text import TfidfTransformer\n",
    "from sklearn.naive_bayes import MultinomialNB\n",
    "from sklearn.pipeline import Pipeline"
   ]
  },
  {
   "cell_type": "code",
   "execution_count": null,
   "metadata": {},
   "outputs": [],
   "source": []
  },
  {
   "cell_type": "code",
   "execution_count": 3,
   "metadata": {},
   "outputs": [],
   "source": [
    "LSTM_df = pd.read_excel(r'C:\\Users\\jeffd\\Documents\\Studying\\Statistical Software\\Final Project\\Input_project_v11_age.xlsx')\n",
    "LSTM_df = LSTM_df.astype(str)"
   ]
  },
  {
   "cell_type": "code",
   "execution_count": 4,
   "metadata": {},
   "outputs": [
    {
     "data": {
      "text/html": [
       "<div>\n",
       "<style scoped>\n",
       "    .dataframe tbody tr th:only-of-type {\n",
       "        vertical-align: middle;\n",
       "    }\n",
       "\n",
       "    .dataframe tbody tr th {\n",
       "        vertical-align: top;\n",
       "    }\n",
       "\n",
       "    .dataframe thead th {\n",
       "        text-align: right;\n",
       "    }\n",
       "</style>\n",
       "<table border=\"1\" class=\"dataframe\">\n",
       "  <thead>\n",
       "    <tr style=\"text-align: right;\">\n",
       "      <th></th>\n",
       "      <th>age</th>\n",
       "      <th>age_group</th>\n",
       "      <th>status</th>\n",
       "      <th>sex</th>\n",
       "      <th>orientation</th>\n",
       "      <th>body_type</th>\n",
       "      <th>diet</th>\n",
       "      <th>drinks</th>\n",
       "      <th>drinks_freq</th>\n",
       "      <th>drugs</th>\n",
       "      <th>...</th>\n",
       "      <th>job_group</th>\n",
       "      <th>last_online</th>\n",
       "      <th>location</th>\n",
       "      <th>offspring</th>\n",
       "      <th>pets</th>\n",
       "      <th>religion</th>\n",
       "      <th>sign</th>\n",
       "      <th>smokes</th>\n",
       "      <th>speaks</th>\n",
       "      <th>Bio</th>\n",
       "    </tr>\n",
       "  </thead>\n",
       "  <tbody>\n",
       "    <tr>\n",
       "      <th>0</th>\n",
       "      <td>22</td>\n",
       "      <td>18_22</td>\n",
       "      <td>single</td>\n",
       "      <td>m</td>\n",
       "      <td>straight</td>\n",
       "      <td>a little extra</td>\n",
       "      <td>strictly anything</td>\n",
       "      <td>socially</td>\n",
       "      <td>1</td>\n",
       "      <td>never</td>\n",
       "      <td>...</td>\n",
       "      <td>blue_collar</td>\n",
       "      <td>2012-06-28-20-30</td>\n",
       "      <td>south san francisco, california</td>\n",
       "      <td>doesn't have kids, but might want them</td>\n",
       "      <td>likes dogs and likes cats</td>\n",
       "      <td>agnosticism and very serious about it</td>\n",
       "      <td>gemini</td>\n",
       "      <td>sometimes</td>\n",
       "      <td>english</td>\n",
       "      <td>about me:  i would love to think that i was so...</td>\n",
       "    </tr>\n",
       "    <tr>\n",
       "      <th>1</th>\n",
       "      <td>22</td>\n",
       "      <td>18_22</td>\n",
       "      <td>single</td>\n",
       "      <td>f</td>\n",
       "      <td>straight</td>\n",
       "      <td>athletic</td>\n",
       "      <td>nan</td>\n",
       "      <td>socially</td>\n",
       "      <td>1</td>\n",
       "      <td>never</td>\n",
       "      <td>...</td>\n",
       "      <td>student</td>\n",
       "      <td>2012-06-15-22-56</td>\n",
       "      <td>san francisco, california</td>\n",
       "      <td>doesn't have kids, but might want them</td>\n",
       "      <td>likes dogs and likes cats</td>\n",
       "      <td>catholicism and somewhat serious about it</td>\n",
       "      <td>taurus but it doesn&amp;rsquo;t matter</td>\n",
       "      <td>no</td>\n",
       "      <td>english (fluently), spanish (fluently), italia...</td>\n",
       "      <td>my name is ashley and i live in san francisco....</td>\n",
       "    </tr>\n",
       "    <tr>\n",
       "      <th>2</th>\n",
       "      <td>22</td>\n",
       "      <td>18_22</td>\n",
       "      <td>single</td>\n",
       "      <td>m</td>\n",
       "      <td>straight</td>\n",
       "      <td>fit</td>\n",
       "      <td>mostly anything</td>\n",
       "      <td>socially</td>\n",
       "      <td>1</td>\n",
       "      <td>never</td>\n",
       "      <td>...</td>\n",
       "      <td>business</td>\n",
       "      <td>2012-06-10-01-37</td>\n",
       "      <td>san francisco, california</td>\n",
       "      <td>nan</td>\n",
       "      <td>likes dogs and dislikes cats</td>\n",
       "      <td>catholicism and laughing about it</td>\n",
       "      <td>leo and it&amp;rsquo;s fun to think about</td>\n",
       "      <td>trying to quit</td>\n",
       "      <td>english (fluently), tagalog (fluently), japane...</td>\n",
       "      <td>full-time student, full-time square. i change ...</td>\n",
       "    </tr>\n",
       "    <tr>\n",
       "      <th>3</th>\n",
       "      <td>20</td>\n",
       "      <td>18_22</td>\n",
       "      <td>single</td>\n",
       "      <td>f</td>\n",
       "      <td>straight</td>\n",
       "      <td>average</td>\n",
       "      <td>mostly vegetarian</td>\n",
       "      <td>socially</td>\n",
       "      <td>1</td>\n",
       "      <td>never</td>\n",
       "      <td>...</td>\n",
       "      <td>blue_collar</td>\n",
       "      <td>2012-06-30-00-00</td>\n",
       "      <td>san rafael, california</td>\n",
       "      <td>doesn't want kids</td>\n",
       "      <td>has dogs and likes cats</td>\n",
       "      <td>nan</td>\n",
       "      <td>cancer</td>\n",
       "      <td>no</td>\n",
       "      <td>english (fluently), spanish (fluently)</td>\n",
       "      <td>\"apparently,\" has become a new favorite word o...</td>\n",
       "    </tr>\n",
       "    <tr>\n",
       "      <th>4</th>\n",
       "      <td>21</td>\n",
       "      <td>18_22</td>\n",
       "      <td>single</td>\n",
       "      <td>m</td>\n",
       "      <td>straight</td>\n",
       "      <td>thin</td>\n",
       "      <td>nan</td>\n",
       "      <td>socially</td>\n",
       "      <td>1</td>\n",
       "      <td>nan</td>\n",
       "      <td>...</td>\n",
       "      <td>s.t.e.m.</td>\n",
       "      <td>2012-06-29-22-10</td>\n",
       "      <td>san francisco, california</td>\n",
       "      <td>nan</td>\n",
       "      <td>nan</td>\n",
       "      <td>buddhism</td>\n",
       "      <td>nan</td>\n",
       "      <td>when drinking</td>\n",
       "      <td>english</td>\n",
       "      <td>i grew up in iowa. it gets a bad rap, but let ...</td>\n",
       "    </tr>\n",
       "    <tr>\n",
       "      <th>...</th>\n",
       "      <td>...</td>\n",
       "      <td>...</td>\n",
       "      <td>...</td>\n",
       "      <td>...</td>\n",
       "      <td>...</td>\n",
       "      <td>...</td>\n",
       "      <td>...</td>\n",
       "      <td>...</td>\n",
       "      <td>...</td>\n",
       "      <td>...</td>\n",
       "      <td>...</td>\n",
       "      <td>...</td>\n",
       "      <td>...</td>\n",
       "      <td>...</td>\n",
       "      <td>...</td>\n",
       "      <td>...</td>\n",
       "      <td>...</td>\n",
       "      <td>...</td>\n",
       "      <td>...</td>\n",
       "      <td>...</td>\n",
       "      <td>...</td>\n",
       "    </tr>\n",
       "    <tr>\n",
       "      <th>10845</th>\n",
       "      <td>65</td>\n",
       "      <td>51+</td>\n",
       "      <td>single</td>\n",
       "      <td>f</td>\n",
       "      <td>straight</td>\n",
       "      <td>fit</td>\n",
       "      <td>nan</td>\n",
       "      <td>socially</td>\n",
       "      <td>1</td>\n",
       "      <td>never</td>\n",
       "      <td>...</td>\n",
       "      <td>humanities_arts_entertainment</td>\n",
       "      <td>2011-08-19-18-51</td>\n",
       "      <td>oakland, california</td>\n",
       "      <td>nan</td>\n",
       "      <td>nan</td>\n",
       "      <td>nan</td>\n",
       "      <td>libra but it doesn&amp;rsquo;t matter</td>\n",
       "      <td>no</td>\n",
       "      <td>english (fluently)</td>\n",
       "      <td>my friends describe me as a beautiful on the i...</td>\n",
       "    </tr>\n",
       "    <tr>\n",
       "      <th>10846</th>\n",
       "      <td>55</td>\n",
       "      <td>51+</td>\n",
       "      <td>single</td>\n",
       "      <td>f</td>\n",
       "      <td>straight</td>\n",
       "      <td>full figured</td>\n",
       "      <td>anything</td>\n",
       "      <td>rarely</td>\n",
       "      <td>0</td>\n",
       "      <td>never</td>\n",
       "      <td>...</td>\n",
       "      <td>business</td>\n",
       "      <td>2012-06-19-08-45</td>\n",
       "      <td>half moon bay, california</td>\n",
       "      <td>has kids, but doesn't want more</td>\n",
       "      <td>dislikes cats</td>\n",
       "      <td>catholicism but not too serious about it</td>\n",
       "      <td>leo but it doesn&amp;rsquo;t matter</td>\n",
       "      <td>no</td>\n",
       "      <td>english</td>\n",
       "      <td>my friends would say i've got a caring, nurtur...</td>\n",
       "    </tr>\n",
       "    <tr>\n",
       "      <th>10847</th>\n",
       "      <td>51</td>\n",
       "      <td>51+</td>\n",
       "      <td>single</td>\n",
       "      <td>m</td>\n",
       "      <td>straight</td>\n",
       "      <td>average</td>\n",
       "      <td>strictly anything</td>\n",
       "      <td>rarely</td>\n",
       "      <td>0</td>\n",
       "      <td>never</td>\n",
       "      <td>...</td>\n",
       "      <td>business</td>\n",
       "      <td>2012-06-30-06-26</td>\n",
       "      <td>san francisco, california</td>\n",
       "      <td>has a kid</td>\n",
       "      <td>nan</td>\n",
       "      <td>atheism but not too serious about it</td>\n",
       "      <td>nan</td>\n",
       "      <td>sometimes</td>\n",
       "      <td>english</td>\n",
       "      <td>in the suburbs not by choice but necessity. i ...</td>\n",
       "    </tr>\n",
       "    <tr>\n",
       "      <th>10848</th>\n",
       "      <td>65</td>\n",
       "      <td>51+</td>\n",
       "      <td>single</td>\n",
       "      <td>f</td>\n",
       "      <td>straight</td>\n",
       "      <td>curvy</td>\n",
       "      <td>mostly anything</td>\n",
       "      <td>socially</td>\n",
       "      <td>1</td>\n",
       "      <td>never</td>\n",
       "      <td>...</td>\n",
       "      <td>other</td>\n",
       "      <td>2012-06-30-19-11</td>\n",
       "      <td>san lorenzo, california</td>\n",
       "      <td>has kids</td>\n",
       "      <td>has dogs and has cats</td>\n",
       "      <td>catholicism and very serious about it</td>\n",
       "      <td>scorpio and it matters a lot</td>\n",
       "      <td>no</td>\n",
       "      <td>english, english, french, spanish</td>\n",
       "      <td>i am fun loving and romantic. a bouquet of flo...</td>\n",
       "    </tr>\n",
       "    <tr>\n",
       "      <th>10849</th>\n",
       "      <td>60</td>\n",
       "      <td>51+</td>\n",
       "      <td>single</td>\n",
       "      <td>m</td>\n",
       "      <td>straight</td>\n",
       "      <td>average</td>\n",
       "      <td>mostly anything</td>\n",
       "      <td>socially</td>\n",
       "      <td>1</td>\n",
       "      <td>never</td>\n",
       "      <td>...</td>\n",
       "      <td>s.t.e.m.</td>\n",
       "      <td>2012-06-30-11-07</td>\n",
       "      <td>palo alto, california</td>\n",
       "      <td>has kids, but doesn't want more</td>\n",
       "      <td>nan</td>\n",
       "      <td>other and somewhat serious about it</td>\n",
       "      <td>nan</td>\n",
       "      <td>no</td>\n",
       "      <td>english, french (poorly), c++ (okay)</td>\n",
       "      <td>lifted from my match profile:  i am recently w...</td>\n",
       "    </tr>\n",
       "  </tbody>\n",
       "</table>\n",
       "<p>10850 rows × 25 columns</p>\n",
       "</div>"
      ],
      "text/plain": [
       "      age age_group  status sex orientation       body_type  \\\n",
       "0      22     18_22  single   m    straight  a little extra   \n",
       "1      22     18_22  single   f    straight        athletic   \n",
       "2      22     18_22  single   m    straight             fit   \n",
       "3      20     18_22  single   f    straight         average   \n",
       "4      21     18_22  single   m    straight            thin   \n",
       "...    ..       ...     ...  ..         ...             ...   \n",
       "10845  65       51+  single   f    straight             fit   \n",
       "10846  55       51+  single   f    straight    full figured   \n",
       "10847  51       51+  single   m    straight         average   \n",
       "10848  65       51+  single   f    straight           curvy   \n",
       "10849  60       51+  single   m    straight         average   \n",
       "\n",
       "                    diet    drinks drinks_freq  drugs  ...  \\\n",
       "0      strictly anything  socially           1  never  ...   \n",
       "1                    nan  socially           1  never  ...   \n",
       "2        mostly anything  socially           1  never  ...   \n",
       "3      mostly vegetarian  socially           1  never  ...   \n",
       "4                    nan  socially           1    nan  ...   \n",
       "...                  ...       ...         ...    ...  ...   \n",
       "10845                nan  socially           1  never  ...   \n",
       "10846           anything    rarely           0  never  ...   \n",
       "10847  strictly anything    rarely           0  never  ...   \n",
       "10848    mostly anything  socially           1  never  ...   \n",
       "10849    mostly anything  socially           1  never  ...   \n",
       "\n",
       "                           job_group       last_online  \\\n",
       "0                        blue_collar  2012-06-28-20-30   \n",
       "1                            student  2012-06-15-22-56   \n",
       "2                           business  2012-06-10-01-37   \n",
       "3                        blue_collar  2012-06-30-00-00   \n",
       "4                           s.t.e.m.  2012-06-29-22-10   \n",
       "...                              ...               ...   \n",
       "10845  humanities_arts_entertainment  2011-08-19-18-51   \n",
       "10846                       business  2012-06-19-08-45   \n",
       "10847                       business  2012-06-30-06-26   \n",
       "10848                          other  2012-06-30-19-11   \n",
       "10849                       s.t.e.m.  2012-06-30-11-07   \n",
       "\n",
       "                              location  \\\n",
       "0      south san francisco, california   \n",
       "1            san francisco, california   \n",
       "2            san francisco, california   \n",
       "3               san rafael, california   \n",
       "4            san francisco, california   \n",
       "...                                ...   \n",
       "10845              oakland, california   \n",
       "10846        half moon bay, california   \n",
       "10847        san francisco, california   \n",
       "10848          san lorenzo, california   \n",
       "10849            palo alto, california   \n",
       "\n",
       "                                    offspring                          pets  \\\n",
       "0      doesn't have kids, but might want them     likes dogs and likes cats   \n",
       "1      doesn't have kids, but might want them     likes dogs and likes cats   \n",
       "2                                         nan  likes dogs and dislikes cats   \n",
       "3                           doesn't want kids       has dogs and likes cats   \n",
       "4                                         nan                           nan   \n",
       "...                                       ...                           ...   \n",
       "10845                                     nan                           nan   \n",
       "10846         has kids, but doesn't want more                 dislikes cats   \n",
       "10847                               has a kid                           nan   \n",
       "10848                                has kids         has dogs and has cats   \n",
       "10849         has kids, but doesn't want more                           nan   \n",
       "\n",
       "                                        religion  \\\n",
       "0          agnosticism and very serious about it   \n",
       "1      catholicism and somewhat serious about it   \n",
       "2              catholicism and laughing about it   \n",
       "3                                            nan   \n",
       "4                                       buddhism   \n",
       "...                                          ...   \n",
       "10845                                        nan   \n",
       "10846   catholicism but not too serious about it   \n",
       "10847       atheism but not too serious about it   \n",
       "10848      catholicism and very serious about it   \n",
       "10849        other and somewhat serious about it   \n",
       "\n",
       "                                        sign          smokes  \\\n",
       "0                                     gemini       sometimes   \n",
       "1         taurus but it doesn&rsquo;t matter              no   \n",
       "2      leo and it&rsquo;s fun to think about  trying to quit   \n",
       "3                                     cancer              no   \n",
       "4                                        nan   when drinking   \n",
       "...                                      ...             ...   \n",
       "10845      libra but it doesn&rsquo;t matter              no   \n",
       "10846        leo but it doesn&rsquo;t matter              no   \n",
       "10847                                    nan       sometimes   \n",
       "10848           scorpio and it matters a lot              no   \n",
       "10849                                    nan              no   \n",
       "\n",
       "                                                  speaks  \\\n",
       "0                                                english   \n",
       "1      english (fluently), spanish (fluently), italia...   \n",
       "2      english (fluently), tagalog (fluently), japane...   \n",
       "3                 english (fluently), spanish (fluently)   \n",
       "4                                                english   \n",
       "...                                                  ...   \n",
       "10845                                 english (fluently)   \n",
       "10846                                            english   \n",
       "10847                                            english   \n",
       "10848                  english, english, french, spanish   \n",
       "10849               english, french (poorly), c++ (okay)   \n",
       "\n",
       "                                                     Bio  \n",
       "0      about me:  i would love to think that i was so...  \n",
       "1      my name is ashley and i live in san francisco....  \n",
       "2      full-time student, full-time square. i change ...  \n",
       "3      \"apparently,\" has become a new favorite word o...  \n",
       "4      i grew up in iowa. it gets a bad rap, but let ...  \n",
       "...                                                  ...  \n",
       "10845  my friends describe me as a beautiful on the i...  \n",
       "10846  my friends would say i've got a caring, nurtur...  \n",
       "10847  in the suburbs not by choice but necessity. i ...  \n",
       "10848  i am fun loving and romantic. a bouquet of flo...  \n",
       "10849  lifted from my match profile:  i am recently w...  \n",
       "\n",
       "[10850 rows x 25 columns]"
      ]
     },
     "execution_count": 4,
     "metadata": {},
     "output_type": "execute_result"
    }
   ],
   "source": [
    "LSTM_df.astype(str).apply(lambda x: x.str.encode('ascii', 'ignore').str.decode('ascii'))"
   ]
  },
  {
   "cell_type": "code",
   "execution_count": 5,
   "metadata": {},
   "outputs": [],
   "source": [
    "LSTM_df[\"Bio\"] = LSTM_df[\"Bio\"].str.lower()"
   ]
  },
  {
   "cell_type": "code",
   "execution_count": 6,
   "metadata": {},
   "outputs": [
    {
     "name": "stdout",
     "output_type": "stream",
     "text": [
      "                                                 Bio\n",
      "0  about me:  i would love to think that i was so...\n",
      "1  my name is ashley and i live in san francisco....\n",
      "2  full-time student, full-time square. i change ...\n",
      "3  \"apparently,\" has become a new favorite word o...\n",
      "4  i grew up in iowa. it gets a bad rap, but let ...\n"
     ]
    }
   ],
   "source": [
    "#df['Bio'].str.lower()\n",
    "bio_token_LSTM = pd.DataFrame(LSTM_df, columns = ['Bio'])\n",
    "print(bio_token_LSTM[0:5])"
   ]
  },
  {
   "cell_type": "code",
   "execution_count": 7,
   "metadata": {},
   "outputs": [],
   "source": [
    "import nltk\n",
    "\n",
    "LSTM_df['Bio'] = LSTM_df['Bio'].str.replace('[^A-z ]','').str.replace(' +',' ').str.strip()\n",
    "LSTM_df['Bio'] = LSTM_df['Bio'].str.replace(\".\", \"\").str.replace(\",\", \"\").str.strip()\n",
    "LSTM_df['Bio'] = LSTM_df['Bio'].str.replace(\")\", \"\").str.replace(\"(\", \"\").str.strip()\n",
    "LSTM_df['Bio'] = LSTM_df['Bio'].str.replace(\"!@#$%^&*\\(\\)\\[]\\{};:,./<>?\\|`~=_+\", \"\").str.strip()\n"
   ]
  },
  {
   "cell_type": "code",
   "execution_count": 8,
   "metadata": {},
   "outputs": [
    {
     "data": {
      "text/html": [
       "<div>\n",
       "<style scoped>\n",
       "    .dataframe tbody tr th:only-of-type {\n",
       "        vertical-align: middle;\n",
       "    }\n",
       "\n",
       "    .dataframe tbody tr th {\n",
       "        vertical-align: top;\n",
       "    }\n",
       "\n",
       "    .dataframe thead th {\n",
       "        text-align: right;\n",
       "    }\n",
       "</style>\n",
       "<table border=\"1\" class=\"dataframe\">\n",
       "  <thead>\n",
       "    <tr style=\"text-align: right;\">\n",
       "      <th></th>\n",
       "      <th>age</th>\n",
       "      <th>age_group</th>\n",
       "      <th>status</th>\n",
       "      <th>sex</th>\n",
       "      <th>orientation</th>\n",
       "      <th>body_type</th>\n",
       "      <th>diet</th>\n",
       "      <th>drinks</th>\n",
       "      <th>drinks_freq</th>\n",
       "      <th>drugs</th>\n",
       "      <th>...</th>\n",
       "      <th>job_group</th>\n",
       "      <th>last_online</th>\n",
       "      <th>location</th>\n",
       "      <th>offspring</th>\n",
       "      <th>pets</th>\n",
       "      <th>religion</th>\n",
       "      <th>sign</th>\n",
       "      <th>smokes</th>\n",
       "      <th>speaks</th>\n",
       "      <th>Bio</th>\n",
       "    </tr>\n",
       "  </thead>\n",
       "  <tbody>\n",
       "    <tr>\n",
       "      <th>0</th>\n",
       "      <td>22</td>\n",
       "      <td>18_22</td>\n",
       "      <td>single</td>\n",
       "      <td>m</td>\n",
       "      <td>straight</td>\n",
       "      <td>a little extra</td>\n",
       "      <td>strictly anything</td>\n",
       "      <td>socially</td>\n",
       "      <td>1</td>\n",
       "      <td>never</td>\n",
       "      <td>...</td>\n",
       "      <td>blue_collar</td>\n",
       "      <td>2012-06-28-20-30</td>\n",
       "      <td>south san francisco, california</td>\n",
       "      <td>doesn't have kids, but might want them</td>\n",
       "      <td>likes dogs and likes cats</td>\n",
       "      <td>agnosticism and very serious about it</td>\n",
       "      <td>gemini</td>\n",
       "      <td>sometimes</td>\n",
       "      <td>english</td>\n",
       "      <td>about me i would love to think that i was some...</td>\n",
       "    </tr>\n",
       "    <tr>\n",
       "      <th>1</th>\n",
       "      <td>22</td>\n",
       "      <td>18_22</td>\n",
       "      <td>single</td>\n",
       "      <td>f</td>\n",
       "      <td>straight</td>\n",
       "      <td>athletic</td>\n",
       "      <td>nan</td>\n",
       "      <td>socially</td>\n",
       "      <td>1</td>\n",
       "      <td>never</td>\n",
       "      <td>...</td>\n",
       "      <td>student</td>\n",
       "      <td>2012-06-15-22-56</td>\n",
       "      <td>san francisco, california</td>\n",
       "      <td>doesn't have kids, but might want them</td>\n",
       "      <td>likes dogs and likes cats</td>\n",
       "      <td>catholicism and somewhat serious about it</td>\n",
       "      <td>taurus but it doesn&amp;rsquo;t matter</td>\n",
       "      <td>no</td>\n",
       "      <td>english (fluently), spanish (fluently), italia...</td>\n",
       "      <td>my name is ashley and i live in san francisco ...</td>\n",
       "    </tr>\n",
       "    <tr>\n",
       "      <th>2</th>\n",
       "      <td>22</td>\n",
       "      <td>18_22</td>\n",
       "      <td>single</td>\n",
       "      <td>m</td>\n",
       "      <td>straight</td>\n",
       "      <td>fit</td>\n",
       "      <td>mostly anything</td>\n",
       "      <td>socially</td>\n",
       "      <td>1</td>\n",
       "      <td>never</td>\n",
       "      <td>...</td>\n",
       "      <td>business</td>\n",
       "      <td>2012-06-10-01-37</td>\n",
       "      <td>san francisco, california</td>\n",
       "      <td>nan</td>\n",
       "      <td>likes dogs and dislikes cats</td>\n",
       "      <td>catholicism and laughing about it</td>\n",
       "      <td>leo and it&amp;rsquo;s fun to think about</td>\n",
       "      <td>trying to quit</td>\n",
       "      <td>english (fluently), tagalog (fluently), japane...</td>\n",
       "      <td>fulltime student fulltime square i change from...</td>\n",
       "    </tr>\n",
       "    <tr>\n",
       "      <th>3</th>\n",
       "      <td>20</td>\n",
       "      <td>18_22</td>\n",
       "      <td>single</td>\n",
       "      <td>f</td>\n",
       "      <td>straight</td>\n",
       "      <td>average</td>\n",
       "      <td>mostly vegetarian</td>\n",
       "      <td>socially</td>\n",
       "      <td>1</td>\n",
       "      <td>never</td>\n",
       "      <td>...</td>\n",
       "      <td>blue_collar</td>\n",
       "      <td>2012-06-30-00-00</td>\n",
       "      <td>san rafael, california</td>\n",
       "      <td>doesn't want kids</td>\n",
       "      <td>has dogs and likes cats</td>\n",
       "      <td>nan</td>\n",
       "      <td>cancer</td>\n",
       "      <td>no</td>\n",
       "      <td>english (fluently), spanish (fluently)</td>\n",
       "      <td>apparently has become a new favorite word of m...</td>\n",
       "    </tr>\n",
       "    <tr>\n",
       "      <th>4</th>\n",
       "      <td>21</td>\n",
       "      <td>18_22</td>\n",
       "      <td>single</td>\n",
       "      <td>m</td>\n",
       "      <td>straight</td>\n",
       "      <td>thin</td>\n",
       "      <td>nan</td>\n",
       "      <td>socially</td>\n",
       "      <td>1</td>\n",
       "      <td>nan</td>\n",
       "      <td>...</td>\n",
       "      <td>s.t.e.m.</td>\n",
       "      <td>2012-06-29-22-10</td>\n",
       "      <td>san francisco, california</td>\n",
       "      <td>nan</td>\n",
       "      <td>nan</td>\n",
       "      <td>buddhism</td>\n",
       "      <td>nan</td>\n",
       "      <td>when drinking</td>\n",
       "      <td>english</td>\n",
       "      <td>i grew up in iowa it gets a bad rap but let me...</td>\n",
       "    </tr>\n",
       "  </tbody>\n",
       "</table>\n",
       "<p>5 rows × 25 columns</p>\n",
       "</div>"
      ],
      "text/plain": [
       "  age age_group  status sex orientation       body_type               diet  \\\n",
       "0  22     18_22  single   m    straight  a little extra  strictly anything   \n",
       "1  22     18_22  single   f    straight        athletic                nan   \n",
       "2  22     18_22  single   m    straight             fit    mostly anything   \n",
       "3  20     18_22  single   f    straight         average  mostly vegetarian   \n",
       "4  21     18_22  single   m    straight            thin                nan   \n",
       "\n",
       "     drinks drinks_freq  drugs  ...    job_group       last_online  \\\n",
       "0  socially           1  never  ...  blue_collar  2012-06-28-20-30   \n",
       "1  socially           1  never  ...      student  2012-06-15-22-56   \n",
       "2  socially           1  never  ...     business  2012-06-10-01-37   \n",
       "3  socially           1  never  ...  blue_collar  2012-06-30-00-00   \n",
       "4  socially           1    nan  ...     s.t.e.m.  2012-06-29-22-10   \n",
       "\n",
       "                          location                               offspring  \\\n",
       "0  south san francisco, california  doesn't have kids, but might want them   \n",
       "1        san francisco, california  doesn't have kids, but might want them   \n",
       "2        san francisco, california                                     nan   \n",
       "3           san rafael, california                       doesn't want kids   \n",
       "4        san francisco, california                                     nan   \n",
       "\n",
       "                           pets                                   religion  \\\n",
       "0     likes dogs and likes cats      agnosticism and very serious about it   \n",
       "1     likes dogs and likes cats  catholicism and somewhat serious about it   \n",
       "2  likes dogs and dislikes cats          catholicism and laughing about it   \n",
       "3       has dogs and likes cats                                        nan   \n",
       "4                           nan                                   buddhism   \n",
       "\n",
       "                                    sign          smokes  \\\n",
       "0                                 gemini       sometimes   \n",
       "1     taurus but it doesn&rsquo;t matter              no   \n",
       "2  leo and it&rsquo;s fun to think about  trying to quit   \n",
       "3                                 cancer              no   \n",
       "4                                    nan   when drinking   \n",
       "\n",
       "                                              speaks  \\\n",
       "0                                            english   \n",
       "1  english (fluently), spanish (fluently), italia...   \n",
       "2  english (fluently), tagalog (fluently), japane...   \n",
       "3             english (fluently), spanish (fluently)   \n",
       "4                                            english   \n",
       "\n",
       "                                                 Bio  \n",
       "0  about me i would love to think that i was some...  \n",
       "1  my name is ashley and i live in san francisco ...  \n",
       "2  fulltime student fulltime square i change from...  \n",
       "3  apparently has become a new favorite word of m...  \n",
       "4  i grew up in iowa it gets a bad rap but let me...  \n",
       "\n",
       "[5 rows x 25 columns]"
      ]
     },
     "execution_count": 8,
     "metadata": {},
     "output_type": "execute_result"
    }
   ],
   "source": [
    "df_dating_top_LSTM = LSTM_df.head()\n",
    "df_dating_top_LSTM"
   ]
  },
  {
   "cell_type": "code",
   "execution_count": 9,
   "metadata": {
    "scrolled": true
   },
   "outputs": [],
   "source": [
    "LSTM_df = LSTM_df.reset_index(drop=True)\n",
    "REPLACE_BY_SPACE_RE = re.compile('[/(){}\\[\\]\\|@,;]')\n",
    "BAD_SYMBOLS_RE = re.compile('[^0-9a-z #+_]')\n",
    "STOPWORDS = set(stopwords.words('english'))\n",
    "\n",
    "def clean_text(text):\n",
    "    \"\"\"\n",
    "        text: a string\n",
    "        \n",
    "        return: modified initial string\n",
    "    \"\"\"\n",
    "    text = text.lower() # lowercase text\n",
    "    text = REPLACE_BY_SPACE_RE.sub(' ', text) # replace REPLACE_BY_SPACE_RE symbols by space in text. substitute the matched string in REPLACE_BY_SPACE_RE with space.\n",
    "    text = BAD_SYMBOLS_RE.sub('', text) # remove symbols which are in BAD_SYMBOLS_RE from text. substitute the matched string in BAD_SYMBOLS_RE with nothing. \n",
    "    text = text.replace('x', '')\n",
    "#    text = re.sub(r'\\W+', '', text)\n",
    "    text = ' '.join(word for word in text.split() if word not in STOPWORDS) # remove stopwors from text\n",
    "    return text\n",
    "LSTM_df['Bio'] = LSTM_df['Bio'].apply(clean_text)\n",
    "LSTM_df['Bio'] = LSTM_df['Bio'].str.replace('\\d+', '')"
   ]
  },
  {
   "cell_type": "code",
   "execution_count": 10,
   "metadata": {},
   "outputs": [
    {
     "name": "stdout",
     "output_type": "stream",
     "text": [
      "1    name ashley live san francisco love dance spea...\n",
      "2    fulltime student fulltime square change year y...\n",
      "3    apparently become new favorite word mine like ...\n",
      "4    grew iowa gets bad rap let first tell youiowa ...\n",
      "Name: Bio, dtype: object\n"
     ]
    }
   ],
   "source": [
    "print(LSTM_df['Bio'][1:5])"
   ]
  },
  {
   "cell_type": "code",
   "execution_count": 11,
   "metadata": {},
   "outputs": [
    {
     "name": "stdout",
     "output_type": "stream",
     "text": [
      "Found 92154 unique tokens.\n"
     ]
    }
   ],
   "source": [
    "from keras.preprocessing.text import Tokenizer\n",
    "# The maximum number of words to be used. (most frequent)\n",
    "MAX_NB_WORDS = 50000\n",
    "# Max number of words in each complaint.\n",
    "MAX_SEQUENCE_LENGTH = 250\n",
    "# This is fixed.\n",
    "EMBEDDING_DIM = 100\n",
    "tokenizer = Tokenizer(num_words=MAX_NB_WORDS, filters='!\"#$%&()*+,-./:;<=>?@[\\]^_`{|}~', lower=True)\n",
    "tokenizer.fit_on_texts(LSTM_df['Bio'].values)\n",
    "word_index = tokenizer.word_index\n",
    "print('Found %s unique tokens.' % len(word_index))"
   ]
  },
  {
   "cell_type": "code",
   "execution_count": 12,
   "metadata": {},
   "outputs": [
    {
     "name": "stdout",
     "output_type": "stream",
     "text": [
      "Shape of data tensor: (10850, 250)\n"
     ]
    }
   ],
   "source": [
    "from keras.preprocessing.sequence import pad_sequences\n",
    "X = tokenizer.texts_to_sequences(LSTM_df['Bio'].values)\n",
    "X = pad_sequences(X, maxlen=MAX_SEQUENCE_LENGTH)\n",
    "print('Shape of data tensor:', X.shape)"
   ]
  },
  {
   "cell_type": "code",
   "execution_count": 13,
   "metadata": {},
   "outputs": [
    {
     "name": "stdout",
     "output_type": "stream",
     "text": [
      "Shape of label tensor: (10850, 6)\n"
     ]
    }
   ],
   "source": [
    "Y = pd.get_dummies(LSTM_df['drinks']).values\n",
    "print('Shape of label tensor:', Y.shape)"
   ]
  },
  {
   "cell_type": "code",
   "execution_count": 14,
   "metadata": {},
   "outputs": [
    {
     "name": "stdout",
     "output_type": "stream",
     "text": [
      "(8680, 250) (8680, 6)\n",
      "(2170, 250) (2170, 6)\n"
     ]
    }
   ],
   "source": [
    "import numpy as np\n",
    "from sklearn.model_selection import train_test_split\n",
    "\n",
    "X_train, X_test, Y_train, Y_test = train_test_split(X,Y, test_size = 0.20)\n",
    "print(X_train.shape,Y_train.shape)\n",
    "print(X_test.shape,Y_test.shape)"
   ]
  },
  {
   "cell_type": "code",
   "execution_count": 15,
   "metadata": {},
   "outputs": [
    {
     "name": "stdout",
     "output_type": "stream",
     "text": [
      "Epoch 1/5\n",
      "109/109 [==============================] - 83s 739ms/step - loss: 1.0432 - accuracy: 0.7095 - val_loss: 0.9329 - val_accuracy: 0.7235\n",
      "Epoch 2/5\n",
      "109/109 [==============================] - 76s 701ms/step - loss: 0.9213 - accuracy: 0.7182 - val_loss: 0.9428 - val_accuracy: 0.7224\n",
      "Epoch 3/5\n",
      "109/109 [==============================] - 74s 678ms/step - loss: 0.7694 - accuracy: 0.7383 - val_loss: 1.0191 - val_accuracy: 0.7126\n",
      "Epoch 4/5\n",
      "109/109 [==============================] - 74s 682ms/step - loss: 0.5610 - accuracy: 0.8126 - val_loss: 1.2314 - val_accuracy: 0.6204\n"
     ]
    }
   ],
   "source": [
    "import tensorflow as tf\n",
    "from tensorflow import keras\n",
    "from tensorflow.keras import layers\n",
    "\n",
    "model = keras.Sequential()\n",
    "model.add(tf.keras.layers.Embedding(MAX_NB_WORDS, EMBEDDING_DIM, input_length=X.shape[1]))\n",
    "model.add(tf.keras.layers.SpatialDropout1D(0.2))\n",
    "model.add(tf.keras.layers.LSTM(100, dropout=0.2, recurrent_dropout=0.2))\n",
    "model.add(tf.keras.layers.Dense(6, activation='softmax'))\n",
    "model.compile(loss='categorical_crossentropy', optimizer='adam', metrics=['accuracy'])\n",
    "\n",
    "epochs = 5\n",
    "batch_size = 64\n",
    "\n",
    "history = model.fit(X_train, Y_train, epochs=epochs, batch_size=batch_size,validation_split=0.2,callbacks=[keras.callbacks.EarlyStopping(monitor='val_loss', patience=3, min_delta=0.0001)])"
   ]
  },
  {
   "cell_type": "code",
   "execution_count": 16,
   "metadata": {},
   "outputs": [
    {
     "name": "stdout",
     "output_type": "stream",
     "text": [
      "68/68 [==============================] - 3s 48ms/step - loss: 1.1840 - accuracy: 0.6276\n",
      "Test set\n",
      "  Loss: 1.184\n",
      "  Accuracy: 0.628\n"
     ]
    }
   ],
   "source": [
    "accr = model.evaluate(X_test,Y_test)\n",
    "print('Test set\\n  Loss: {:0.3f}\\n  Accuracy: {:0.3f}'.format(accr[0],accr[1]))"
   ]
  },
  {
   "cell_type": "code",
   "execution_count": 17,
   "metadata": {},
   "outputs": [
    {
     "data": {
      "image/png": "[encoded data removed]",
      "text/plain": [
       "<Figure size 432x288 with 1 Axes>"
      ]
     },
     "metadata": {
      "needs_background": "light"
     },
     "output_type": "display_data"
    }
   ],
   "source": [
    "plt.title('Loss')\n",
    "plt.plot(history.history['loss'], label='train')\n",
    "plt.plot(history.history['val_loss'], label='test')\n",
    "plt.legend()\n",
    "plt.show();"
   ]
  },
  {
   "cell_type": "code",
   "execution_count": 18,
   "metadata": {},
   "outputs": [
    {
     "data": {
      "image/png": "[encoded data removed]",
      "text/plain": [
       "<Figure size 432x288 with 1 Axes>"
      ]
     },
     "metadata": {
      "needs_background": "light"
     },
     "output_type": "display_data"
    }
   ],
   "source": [
    "plt.title('Accuracy')\n",
    "plt.plot(history.history['accuracy'], label='train')\n",
    "plt.plot(history.history['val_accuracy'], label='test')\n",
    "plt.legend()\n",
    "plt.show();"
   ]
  },
  {
   "cell_type": "code",
   "execution_count": 23,
   "metadata": {},
   "outputs": [],
   "source": [
    "def calc_train_error(X_train, y_train, model):\n",
    "    '''returns in-sample error for already fit model.'''\n",
    "    predictions = model.predict(X_train)\n",
    "    mse = mean_squared_error(y_train, predictions)\n",
    "    rmse = np.sqrt(mse)\n",
    "    return mse"
   ]
  },
  {
   "cell_type": "code",
   "execution_count": 24,
   "metadata": {},
   "outputs": [],
   "source": [
    "from sklearn.metrics import mean_squared_error"
   ]
  },
  {
   "cell_type": "code",
   "execution_count": 25,
   "metadata": {},
   "outputs": [
    {
     "data": {
      "text/plain": [
       "0.04235414"
      ]
     },
     "execution_count": 25,
     "metadata": {},
     "output_type": "execute_result"
    }
   ],
   "source": [
    "calc_train_error(X_train, Y_train, model)"
   ]
  },
  {
   "cell_type": "code",
   "execution_count": 28,
   "metadata": {},
   "outputs": [],
   "source": [
    "def calc_validation_error(X_test, y_test, model):\n",
    "    '''returns out-of-sample error for already fit model.'''\n",
    "    val_predict = model.predict(X_test)\n",
    "    mse = mean_squared_error(y_test, val_predict)\n",
    "    rmse = np.sqrt(mse)\n",
    "    return mse"
   ]
  },
  {
   "cell_type": "code",
   "execution_count": 29,
   "metadata": {},
   "outputs": [
    {
     "data": {
      "text/plain": [
       "0.09154575"
      ]
     },
     "execution_count": 29,
     "metadata": {},
     "output_type": "execute_result"
    }
   ],
   "source": [
    "calc_validation_error(X_test, Y_test, model)"
   ]
  },
  {
   "cell_type": "code",
   "execution_count": 19,
   "metadata": {},
   "outputs": [
    {
     "name": "stdout",
     "output_type": "stream",
     "text": [
      "[[0.00142955 0.01016717 0.08065417 0.0156106  0.8907245  0.00141402]] often\n"
     ]
    }
   ],
   "source": [
    "new_bio_1 = ['I love my cat, he is beautiful and love the beach and going surfing on the weekends']\n",
    "seq = tokenizer.texts_to_sequences(new_bio_1)\n",
    "padded = pad_sequences(seq, maxlen=MAX_SEQUENCE_LENGTH)\n",
    "pred = model.predict(padded)\n",
    "labels = ['desperately', 'rarely', 'not at all', 'socially', 'often', 'very often']\n",
    "print(pred, labels[np.argmax(pred)])"
   ]
  },
  {
   "cell_type": "code",
   "execution_count": 20,
   "metadata": {},
   "outputs": [
    {
     "name": "stdout",
     "output_type": "stream",
     "text": [
      "[[6.8361015e-04 4.8318063e-03 1.5456575e-02 7.5412318e-03 9.7084463e-01\n",
      "  6.4218859e-04]] often\n"
     ]
    }
   ],
   "source": [
    "new_bio_2 = ['I dont drink much, I like to stay indoors and watch french drama films']\n",
    "seq = tokenizer.texts_to_sequences(new_bio_2)\n",
    "padded = pad_sequences(seq, maxlen=MAX_SEQUENCE_LENGTH)\n",
    "pred = model.predict(padded)\n",
    "labels = ['desperately', 'rarely', 'not at all', 'socially', 'often', 'very often']\n",
    "print(pred, labels[np.argmax(pred)])"
   ]
  },
  {
   "cell_type": "code",
   "execution_count": 21,
   "metadata": {},
   "outputs": [
    {
     "name": "stdout",
     "output_type": "stream",
     "text": [
      "[[0.00155871 0.015449   0.01657599 0.03243196 0.93247235 0.00151196]] often\n"
     ]
    }
   ],
   "source": [
    "new_bio_3 = ['I like fishing and running, while occassionally singing to the elderly']\n",
    "seq = tokenizer.texts_to_sequences(new_bio_3)\n",
    "padded = pad_sequences(seq, maxlen=MAX_SEQUENCE_LENGTH)\n",
    "pred = model.predict(padded)\n",
    "labels = ['desperately', 'rarely', 'not at all', 'socially', 'often', 'very often']\n",
    "print(pred, labels[np.argmax(pred)])"
   ]
  },
  {
   "cell_type": "code",
   "execution_count": 22,
   "metadata": {},
   "outputs": [
    {
     "name": "stdout",
     "output_type": "stream",
     "text": [
      "[[0.0096163  0.10113715 0.07119603 0.19310932 0.6147216  0.01021963]] often\n"
     ]
    }
   ],
   "source": [
    "new_bio_4 = ['I am devoutly religious and want a boring exisistance in my home']\n",
    "seq = tokenizer.texts_to_sequences(new_bio_4)\n",
    "padded = pad_sequences(seq, maxlen=MAX_SEQUENCE_LENGTH)\n",
    "pred = model.predict(padded)\n",
    "labels = ['desperately', 'rarely', 'not at all', 'socially', 'often', 'very often']\n",
    "print(pred, labels[np.argmax(pred)])"
   ]
  },
  {
   "cell_type": "code",
   "execution_count": null,
   "metadata": {},
   "outputs": [],
   "source": []
  }
 ],
 "metadata": {
  "kernelspec": {
   "display_name": "Python 3",
   "language": "python",
   "name": "python3"
  },
  "language_info": {
   "codemirror_mode": {
    "name": "ipython",
    "version": 3
   },
   "file_extension": ".py",
   "mimetype": "text/x-python",
   "name": "python",
   "nbconvert_exporter": "python",
   "pygments_lexer": "ipython3",
   "version": "3.8.5"
  }
 },
 "nbformat": 4,
 "nbformat_minor": 4
}
