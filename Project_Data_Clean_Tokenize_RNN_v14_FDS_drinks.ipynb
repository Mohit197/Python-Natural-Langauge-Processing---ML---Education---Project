{
 "cells": [
  {
   "cell_type": "code",
   "execution_count": 1,
   "id": "bcf48b4c",
   "metadata": {},
   "outputs": [],
   "source": [
    "import re\n",
    "import os\n",
    "import math\n",
    "import nltk\n",
    "import time\n",
    "import re\n",
    "import string\n",
    "import pandas as pd\n",
    "from nltk.corpus import stopwords"
   ]
  },
  {
   "cell_type": "code",
   "execution_count": 2,
   "id": "e8c997d9",
   "metadata": {},
   "outputs": [],
   "source": [
    "# you can use the imports below\n",
    "# include any other imports you need here\n",
    "# you may have to install gensim using \"pip install gensim\"\n",
    "%matplotlib inline\n",
    "import numpy as np\n",
    "import matplotlib.pyplot as plt\n",
    "from gensim.test.utils import datapath, get_tmpfile\n",
    "from gensim.models import KeyedVectors\n",
    "from gensim.scripts.glove2word2vec import glove2word2vec"
   ]
  },
  {
   "cell_type": "code",
   "execution_count": 3,
   "id": "45a92066",
   "metadata": {},
   "outputs": [],
   "source": [
    "import sklearn\n",
    "from sklearn.feature_extraction.text import CountVectorizer\n",
    "from sklearn.feature_extraction.text import TfidfTransformer\n",
    "from sklearn.naive_bayes import MultinomialNB\n",
    "from sklearn.pipeline import Pipeline"
   ]
  },
  {
   "cell_type": "code",
   "execution_count": 4,
   "id": "3f408fb5",
   "metadata": {},
   "outputs": [],
   "source": [
    "import tensorflow as tf"
   ]
  },
  {
   "cell_type": "code",
   "execution_count": 5,
   "id": "89c34cf3",
   "metadata": {},
   "outputs": [],
   "source": [
    "#In this body of code, we have taken first 5000 rows of our original dataset to implement a code to test Regex, data cleaning\n",
    "#Tokenization, stop words elimination - all operations on the \"Bio\" column of the data frame so that user profile data\n",
    "#can be used in further analysis in the remaining stages. "
   ]
  },
  {
   "cell_type": "code",
   "execution_count": 6,
   "id": "a81d72b6",
   "metadata": {},
   "outputs": [],
   "source": [
    "## RNN model - development"
   ]
  },
  {
   "cell_type": "code",
   "execution_count": 7,
   "id": "01f40397",
   "metadata": {},
   "outputs": [],
   "source": [
    "import matplotlib.pyplot as plt\n",
    "\n",
    "\n",
    "def plot_graphs(history, metric):\n",
    "  plt.plot(history.history[metric])\n",
    "  plt.plot(history.history['val_'+metric], '')\n",
    "  plt.xlabel(\"Epochs\")\n",
    "  plt.ylabel(metric)\n",
    "  plt.legend([metric, 'val_'+metric])"
   ]
  },
  {
   "cell_type": "code",
   "execution_count": 8,
   "id": "932c737d",
   "metadata": {},
   "outputs": [
    {
     "name": "stderr",
     "output_type": "stream",
     "text": [
      "[nltk_data] Downloading package stopwords to\n",
      "[nltk_data]     C:\\Users\\mohit\\AppData\\Roaming\\nltk_data...\n",
      "[nltk_data]   Package stopwords is already up-to-date!\n"
     ]
    }
   ],
   "source": [
    "import re\n",
    "import matplotlib.pyplot as plt\n",
    "from nltk.corpus import stopwords\n",
    "from nltk.stem import PorterStemmer\n",
    "from sklearn.feature_extraction.text import TfidfVectorizer\n",
    "from sklearn.pipeline import Pipeline\n",
    "from sklearn.metrics import classification_report, confusion_matrix\n",
    "from sklearn.model_selection import train_test_split\n",
    "from sklearn.feature_selection import SelectKBest, chi2\n",
    "from sqlite3 import Error\n",
    "from sklearn.ensemble import RandomForestClassifier\n",
    "import sqlite3\n",
    "import pickle\n",
    "import nltk\n",
    "nltk.download('stopwords')\n",
    "%matplotlib inline"
   ]
  },
  {
   "cell_type": "code",
   "execution_count": 9,
   "id": "5286f929",
   "metadata": {},
   "outputs": [],
   "source": [
    "import pandas as pd\n",
    "import numpy as np\n",
    "from tqdm import tqdm\n",
    "tqdm.pandas(desc=\"progress-bar\")\n",
    "from gensim.models import Doc2Vec\n",
    "from sklearn import utils\n",
    "from sklearn.model_selection import train_test_split\n",
    "import gensim\n",
    "from sklearn.linear_model import LogisticRegression\n",
    "from gensim.models.doc2vec import TaggedDocument\n",
    "import re\n",
    "import seaborn as sns\n",
    "import matplotlib.pyplot as plt"
   ]
  },
  {
   "cell_type": "code",
   "execution_count": null,
   "id": "342a6838",
   "metadata": {},
   "outputs": [],
   "source": []
  },
  {
   "cell_type": "code",
   "execution_count": 10,
   "id": "9a6516a3",
   "metadata": {},
   "outputs": [],
   "source": [
    "import multiprocessing\n",
    "\n",
    "cores = multiprocessing.cpu_count()"
   ]
  },
  {
   "cell_type": "code",
   "execution_count": 11,
   "id": "cc65d7dc",
   "metadata": {},
   "outputs": [
    {
     "name": "stdout",
     "output_type": "stream",
     "text": [
      "       age age_group  status sex orientation       body_type  \\\n",
      "0       22     18_22  single   m    straight  a little extra   \n",
      "1       22     18_22  single   f    straight        athletic   \n",
      "2       22     18_22  single   m    straight             fit   \n",
      "3       20     18_22  single   f    straight         average   \n",
      "4       21     18_22  single   m    straight            thin   \n",
      "...    ...       ...     ...  ..         ...             ...   \n",
      "10845   65       51+  single   f    straight             fit   \n",
      "10846   55       51+  single   f    straight    full figured   \n",
      "10847   51       51+  single   m    straight         average   \n",
      "10848   65       51+  single   f    straight           curvy   \n",
      "10849   60       51+  single   m    straight         average   \n",
      "\n",
      "                    diet    drinks  drinks_freq  drugs  ...  \\\n",
      "0      strictly anything  socially            1  never  ...   \n",
      "1                    NaN  socially            1  never  ...   \n",
      "2        mostly anything  socially            1  never  ...   \n",
      "3      mostly vegetarian  socially            1  never  ...   \n",
      "4                    NaN  socially            1    NaN  ...   \n",
      "...                  ...       ...          ...    ...  ...   \n",
      "10845                NaN  socially            1  never  ...   \n",
      "10846           anything    rarely            0  never  ...   \n",
      "10847  strictly anything    rarely            0  never  ...   \n",
      "10848    mostly anything  socially            1  never  ...   \n",
      "10849    mostly anything  socially            1  never  ...   \n",
      "\n",
      "                           job_group       last_online  \\\n",
      "0                        blue_collar  2012-06-28-20-30   \n",
      "1                            student  2012-06-15-22-56   \n",
      "2                           business  2012-06-10-01-37   \n",
      "3                        blue_collar  2012-06-30-00-00   \n",
      "4                           s.t.e.m.  2012-06-29-22-10   \n",
      "...                              ...               ...   \n",
      "10845  humanities_arts_entertainment  2011-08-19-18-51   \n",
      "10846                       business  2012-06-19-08-45   \n",
      "10847                       business  2012-06-30-06-26   \n",
      "10848                          other  2012-06-30-19-11   \n",
      "10849                       s.t.e.m.  2012-06-30-11-07   \n",
      "\n",
      "                              location  \\\n",
      "0      south san francisco, california   \n",
      "1            san francisco, california   \n",
      "2            san francisco, california   \n",
      "3               san rafael, california   \n",
      "4            san francisco, california   \n",
      "...                                ...   \n",
      "10845              oakland, california   \n",
      "10846        half moon bay, california   \n",
      "10847        san francisco, california   \n",
      "10848          san lorenzo, california   \n",
      "10849            palo alto, california   \n",
      "\n",
      "                                    offspring                          pets  \\\n",
      "0      doesn't have kids, but might want them     likes dogs and likes cats   \n",
      "1      doesn't have kids, but might want them     likes dogs and likes cats   \n",
      "2                                         NaN  likes dogs and dislikes cats   \n",
      "3                           doesn't want kids       has dogs and likes cats   \n",
      "4                                         NaN                           NaN   \n",
      "...                                       ...                           ...   \n",
      "10845                                     NaN                           NaN   \n",
      "10846         has kids, but doesn't want more                 dislikes cats   \n",
      "10847                               has a kid                           NaN   \n",
      "10848                                has kids         has dogs and has cats   \n",
      "10849         has kids, but doesn't want more                           NaN   \n",
      "\n",
      "                                        religion  \\\n",
      "0          agnosticism and very serious about it   \n",
      "1      catholicism and somewhat serious about it   \n",
      "2              catholicism and laughing about it   \n",
      "3                                            NaN   \n",
      "4                                       buddhism   \n",
      "...                                          ...   \n",
      "10845                                        NaN   \n",
      "10846   catholicism but not too serious about it   \n",
      "10847       atheism but not too serious about it   \n",
      "10848      catholicism and very serious about it   \n",
      "10849        other and somewhat serious about it   \n",
      "\n",
      "                                        sign          smokes  \\\n",
      "0                                     gemini       sometimes   \n",
      "1         taurus but it doesn&rsquo;t matter              no   \n",
      "2      leo and it&rsquo;s fun to think about  trying to quit   \n",
      "3                                     cancer              no   \n",
      "4                                        NaN   when drinking   \n",
      "...                                      ...             ...   \n",
      "10845      libra but it doesn&rsquo;t matter              no   \n",
      "10846        leo but it doesn&rsquo;t matter              no   \n",
      "10847                                    NaN       sometimes   \n",
      "10848           scorpio and it matters a lot              no   \n",
      "10849                                    NaN              no   \n",
      "\n",
      "                                                  speaks  \\\n",
      "0                                                english   \n",
      "1      english (fluently), spanish (fluently), italia...   \n",
      "2      english (fluently), tagalog (fluently), japane...   \n",
      "3                 english (fluently), spanish (fluently)   \n",
      "4                                                english   \n",
      "...                                                  ...   \n",
      "10845                                 english (fluently)   \n",
      "10846                                            english   \n",
      "10847                                            english   \n",
      "10848                  english, english, french, spanish   \n",
      "10849               english, french (poorly), c++ (okay)   \n",
      "\n",
      "                                                     Bio  \n",
      "0      about me:  i would love to think that i was so...  \n",
      "1      my name is ashley and i live in san francisco....  \n",
      "2      full-time student, full-time square. i change ...  \n",
      "3      \"apparently,\" has become a new favorite word o...  \n",
      "4      i grew up in iowa. it gets a bad rap, but let ...  \n",
      "...                                                  ...  \n",
      "10845  my friends describe me as a beautiful on the i...  \n",
      "10846  my friends would say i've got a caring, nurtur...  \n",
      "10847  in the suburbs not by choice but necessity. i ...  \n",
      "10848  i am fun loving and romantic. a bouquet of flo...  \n",
      "10849  lifted from my match profile:  i am recently w...  \n",
      "\n",
      "[10850 rows x 25 columns]\n"
     ]
    }
   ],
   "source": [
    "df_dating_RNN = pd.read_excel (r'C:\\Users\\mohit\\Dropbox\\PhD Rutgers University\\Fall 2021 Course Material\\Statistical Learning for Data science\\Project\\Data Cleaning\\test1\\Input_project_v11_age.xlsx')\n",
    "print(df_dating_RNN)"
   ]
  },
  {
   "cell_type": "code",
   "execution_count": 12,
   "id": "68202502",
   "metadata": {},
   "outputs": [],
   "source": [
    "df_dating_RNN = df_dating_RNN[df_dating_RNN['Bio'].notna()]"
   ]
  },
  {
   "cell_type": "code",
   "execution_count": 13,
   "id": "12993dad",
   "metadata": {},
   "outputs": [],
   "source": [
    "df_dating_RNN.astype(str).apply(lambda x: x.str.encode('ascii', 'ignore').str.decode('ascii'))\n",
    "df_dating_RNN[\"Bio\"] = df_dating_RNN[\"Bio\"].str.lower()"
   ]
  },
  {
   "cell_type": "code",
   "execution_count": 14,
   "id": "c21073d4",
   "metadata": {},
   "outputs": [
    {
     "name": "stderr",
     "output_type": "stream",
     "text": [
      "<ipython-input-14-bac68a18b7dd>:3: FutureWarning: The default value of regex will change from True to False in a future version.\n",
      "  df_dating_RNN['Bio'] = df_dating_RNN['Bio'].str.replace('[^A-z ]','').str.replace(' +',' ').str.strip()\n",
      "<ipython-input-14-bac68a18b7dd>:4: FutureWarning: The default value of regex will change from True to False in a future version. In addition, single character regular expressions will*not* be treated as literal strings when regex=True.\n",
      "  df_dating_RNN['Bio'] = df_dating_RNN['Bio'].str.replace(\".\", \"\").str.replace(\",\", \"\").str.strip()\n",
      "<ipython-input-14-bac68a18b7dd>:5: FutureWarning: The default value of regex will change from True to False in a future version. In addition, single character regular expressions will*not* be treated as literal strings when regex=True.\n",
      "  df_dating_RNN['Bio'] = df_dating_RNN['Bio'].str.replace(\")\", \"\").str.replace(\"(\", \"\").str.strip()\n",
      "<ipython-input-14-bac68a18b7dd>:6: FutureWarning: The default value of regex will change from True to False in a future version.\n",
      "  df_dating_RNN['Bio'] = df_dating_RNN['Bio'].str.replace(\"!@#$%^&*\\(\\)\\[]\\{};:,./<>?\\|`~=_+\", \"\").str.strip()\n"
     ]
    }
   ],
   "source": [
    "import nltk\n",
    "\n",
    "df_dating_RNN['Bio'] = df_dating_RNN['Bio'].str.replace('[^A-z ]','').str.replace(' +',' ').str.strip()\n",
    "df_dating_RNN['Bio'] = df_dating_RNN['Bio'].str.replace(\".\", \"\").str.replace(\",\", \"\").str.strip()\n",
    "df_dating_RNN['Bio'] = df_dating_RNN['Bio'].str.replace(\")\", \"\").str.replace(\"(\", \"\").str.strip()\n",
    "df_dating_RNN['Bio'] = df_dating_RNN['Bio'].str.replace(\"!@#$%^&*\\(\\)\\[]\\{};:,./<>?\\|`~=_+\", \"\").str.strip()"
   ]
  },
  {
   "cell_type": "code",
   "execution_count": 15,
   "id": "d5e644f8",
   "metadata": {},
   "outputs": [
    {
     "data": {
      "text/html": [
       "<div>\n",
       "<style scoped>\n",
       "    .dataframe tbody tr th:only-of-type {\n",
       "        vertical-align: middle;\n",
       "    }\n",
       "\n",
       "    .dataframe tbody tr th {\n",
       "        vertical-align: top;\n",
       "    }\n",
       "\n",
       "    .dataframe thead th {\n",
       "        text-align: right;\n",
       "    }\n",
       "</style>\n",
       "<table border=\"1\" class=\"dataframe\">\n",
       "  <thead>\n",
       "    <tr style=\"text-align: right;\">\n",
       "      <th></th>\n",
       "      <th>age</th>\n",
       "      <th>age_group</th>\n",
       "      <th>status</th>\n",
       "      <th>sex</th>\n",
       "      <th>orientation</th>\n",
       "      <th>body_type</th>\n",
       "      <th>diet</th>\n",
       "      <th>drinks</th>\n",
       "      <th>drinks_freq</th>\n",
       "      <th>drugs</th>\n",
       "      <th>...</th>\n",
       "      <th>job_group</th>\n",
       "      <th>last_online</th>\n",
       "      <th>location</th>\n",
       "      <th>offspring</th>\n",
       "      <th>pets</th>\n",
       "      <th>religion</th>\n",
       "      <th>sign</th>\n",
       "      <th>smokes</th>\n",
       "      <th>speaks</th>\n",
       "      <th>Bio</th>\n",
       "    </tr>\n",
       "  </thead>\n",
       "  <tbody>\n",
       "    <tr>\n",
       "      <th>0</th>\n",
       "      <td>22</td>\n",
       "      <td>18_22</td>\n",
       "      <td>single</td>\n",
       "      <td>m</td>\n",
       "      <td>straight</td>\n",
       "      <td>a little extra</td>\n",
       "      <td>strictly anything</td>\n",
       "      <td>socially</td>\n",
       "      <td>1</td>\n",
       "      <td>never</td>\n",
       "      <td>...</td>\n",
       "      <td>blue_collar</td>\n",
       "      <td>2012-06-28-20-30</td>\n",
       "      <td>south san francisco, california</td>\n",
       "      <td>doesn't have kids, but might want them</td>\n",
       "      <td>likes dogs and likes cats</td>\n",
       "      <td>agnosticism and very serious about it</td>\n",
       "      <td>gemini</td>\n",
       "      <td>sometimes</td>\n",
       "      <td>english</td>\n",
       "      <td>about me i would love to think that i was some...</td>\n",
       "    </tr>\n",
       "    <tr>\n",
       "      <th>1</th>\n",
       "      <td>22</td>\n",
       "      <td>18_22</td>\n",
       "      <td>single</td>\n",
       "      <td>f</td>\n",
       "      <td>straight</td>\n",
       "      <td>athletic</td>\n",
       "      <td>NaN</td>\n",
       "      <td>socially</td>\n",
       "      <td>1</td>\n",
       "      <td>never</td>\n",
       "      <td>...</td>\n",
       "      <td>student</td>\n",
       "      <td>2012-06-15-22-56</td>\n",
       "      <td>san francisco, california</td>\n",
       "      <td>doesn't have kids, but might want them</td>\n",
       "      <td>likes dogs and likes cats</td>\n",
       "      <td>catholicism and somewhat serious about it</td>\n",
       "      <td>taurus but it doesn&amp;rsquo;t matter</td>\n",
       "      <td>no</td>\n",
       "      <td>english (fluently), spanish (fluently), italia...</td>\n",
       "      <td>my name is ashley and i live in san francisco ...</td>\n",
       "    </tr>\n",
       "    <tr>\n",
       "      <th>2</th>\n",
       "      <td>22</td>\n",
       "      <td>18_22</td>\n",
       "      <td>single</td>\n",
       "      <td>m</td>\n",
       "      <td>straight</td>\n",
       "      <td>fit</td>\n",
       "      <td>mostly anything</td>\n",
       "      <td>socially</td>\n",
       "      <td>1</td>\n",
       "      <td>never</td>\n",
       "      <td>...</td>\n",
       "      <td>business</td>\n",
       "      <td>2012-06-10-01-37</td>\n",
       "      <td>san francisco, california</td>\n",
       "      <td>NaN</td>\n",
       "      <td>likes dogs and dislikes cats</td>\n",
       "      <td>catholicism and laughing about it</td>\n",
       "      <td>leo and it&amp;rsquo;s fun to think about</td>\n",
       "      <td>trying to quit</td>\n",
       "      <td>english (fluently), tagalog (fluently), japane...</td>\n",
       "      <td>fulltime student fulltime square i change from...</td>\n",
       "    </tr>\n",
       "    <tr>\n",
       "      <th>3</th>\n",
       "      <td>20</td>\n",
       "      <td>18_22</td>\n",
       "      <td>single</td>\n",
       "      <td>f</td>\n",
       "      <td>straight</td>\n",
       "      <td>average</td>\n",
       "      <td>mostly vegetarian</td>\n",
       "      <td>socially</td>\n",
       "      <td>1</td>\n",
       "      <td>never</td>\n",
       "      <td>...</td>\n",
       "      <td>blue_collar</td>\n",
       "      <td>2012-06-30-00-00</td>\n",
       "      <td>san rafael, california</td>\n",
       "      <td>doesn't want kids</td>\n",
       "      <td>has dogs and likes cats</td>\n",
       "      <td>NaN</td>\n",
       "      <td>cancer</td>\n",
       "      <td>no</td>\n",
       "      <td>english (fluently), spanish (fluently)</td>\n",
       "      <td>apparently has become a new favorite word of m...</td>\n",
       "    </tr>\n",
       "    <tr>\n",
       "      <th>4</th>\n",
       "      <td>21</td>\n",
       "      <td>18_22</td>\n",
       "      <td>single</td>\n",
       "      <td>m</td>\n",
       "      <td>straight</td>\n",
       "      <td>thin</td>\n",
       "      <td>NaN</td>\n",
       "      <td>socially</td>\n",
       "      <td>1</td>\n",
       "      <td>NaN</td>\n",
       "      <td>...</td>\n",
       "      <td>s.t.e.m.</td>\n",
       "      <td>2012-06-29-22-10</td>\n",
       "      <td>san francisco, california</td>\n",
       "      <td>NaN</td>\n",
       "      <td>NaN</td>\n",
       "      <td>buddhism</td>\n",
       "      <td>NaN</td>\n",
       "      <td>when drinking</td>\n",
       "      <td>english</td>\n",
       "      <td>i grew up in iowa it gets a bad rap but let me...</td>\n",
       "    </tr>\n",
       "  </tbody>\n",
       "</table>\n",
       "<p>5 rows × 25 columns</p>\n",
       "</div>"
      ],
      "text/plain": [
       "   age age_group  status sex orientation       body_type               diet  \\\n",
       "0   22     18_22  single   m    straight  a little extra  strictly anything   \n",
       "1   22     18_22  single   f    straight        athletic                NaN   \n",
       "2   22     18_22  single   m    straight             fit    mostly anything   \n",
       "3   20     18_22  single   f    straight         average  mostly vegetarian   \n",
       "4   21     18_22  single   m    straight            thin                NaN   \n",
       "\n",
       "     drinks  drinks_freq  drugs  ...    job_group       last_online  \\\n",
       "0  socially            1  never  ...  blue_collar  2012-06-28-20-30   \n",
       "1  socially            1  never  ...      student  2012-06-15-22-56   \n",
       "2  socially            1  never  ...     business  2012-06-10-01-37   \n",
       "3  socially            1  never  ...  blue_collar  2012-06-30-00-00   \n",
       "4  socially            1    NaN  ...     s.t.e.m.  2012-06-29-22-10   \n",
       "\n",
       "                          location                               offspring  \\\n",
       "0  south san francisco, california  doesn't have kids, but might want them   \n",
       "1        san francisco, california  doesn't have kids, but might want them   \n",
       "2        san francisco, california                                     NaN   \n",
       "3           san rafael, california                       doesn't want kids   \n",
       "4        san francisco, california                                     NaN   \n",
       "\n",
       "                           pets                                   religion  \\\n",
       "0     likes dogs and likes cats      agnosticism and very serious about it   \n",
       "1     likes dogs and likes cats  catholicism and somewhat serious about it   \n",
       "2  likes dogs and dislikes cats          catholicism and laughing about it   \n",
       "3       has dogs and likes cats                                        NaN   \n",
       "4                           NaN                                   buddhism   \n",
       "\n",
       "                                    sign          smokes  \\\n",
       "0                                 gemini       sometimes   \n",
       "1     taurus but it doesn&rsquo;t matter              no   \n",
       "2  leo and it&rsquo;s fun to think about  trying to quit   \n",
       "3                                 cancer              no   \n",
       "4                                    NaN   when drinking   \n",
       "\n",
       "                                              speaks  \\\n",
       "0                                            english   \n",
       "1  english (fluently), spanish (fluently), italia...   \n",
       "2  english (fluently), tagalog (fluently), japane...   \n",
       "3             english (fluently), spanish (fluently)   \n",
       "4                                            english   \n",
       "\n",
       "                                                 Bio  \n",
       "0  about me i would love to think that i was some...  \n",
       "1  my name is ashley and i live in san francisco ...  \n",
       "2  fulltime student fulltime square i change from...  \n",
       "3  apparently has become a new favorite word of m...  \n",
       "4  i grew up in iowa it gets a bad rap but let me...  \n",
       "\n",
       "[5 rows x 25 columns]"
      ]
     },
     "execution_count": 15,
     "metadata": {},
     "output_type": "execute_result"
    }
   ],
   "source": [
    "df_dating_top_RNN = df_dating_RNN.head()\n",
    "df_dating_top_RNN"
   ]
  },
  {
   "cell_type": "code",
   "execution_count": 16,
   "id": "ec8b53ef",
   "metadata": {},
   "outputs": [
    {
     "name": "stdout",
     "output_type": "stream",
     "text": [
      "                                                 Bio\n",
      "0  about me i would love to think that i was some...\n",
      "1  my name is ashley and i live in san francisco ...\n",
      "2  fulltime student fulltime square i change from...\n",
      "3  apparently has become a new favorite word of m...\n",
      "4  i grew up in iowa it gets a bad rap but let me...\n"
     ]
    }
   ],
   "source": [
    "#Clean text Bio\n",
    "bio_token_LR= pd.DataFrame(df_dating_RNN, columns = ['Bio'])\n",
    "print(bio_token_LR[0:5])"
   ]
  },
  {
   "cell_type": "code",
   "execution_count": 17,
   "id": "5ae4239b",
   "metadata": {},
   "outputs": [
    {
     "name": "stdout",
     "output_type": "stream",
     "text": [
      "(10551, 25)\n",
      "\n",
      "                age   drinks_freq        height\n",
      "count  10551.000000  10551.000000  10551.000000\n",
      "mean      34.475310      0.816510     68.247275\n",
      "std       12.572841      0.387086      3.914318\n",
      "min       18.000000      0.000000     36.000000\n",
      "25%       24.000000      1.000000     65.000000\n",
      "50%       30.000000      1.000000     68.000000\n",
      "75%       44.000000      1.000000     71.000000\n",
      "max       69.000000      1.000000     95.000000\n",
      "\n",
      "<class 'pandas.core.frame.DataFrame'>\n",
      "Int64Index: 10551 entries, 0 to 10849\n",
      "Data columns (total 25 columns):\n",
      " #   Column           Non-Null Count  Dtype \n",
      "---  ------           --------------  ----- \n",
      " 0   age              10551 non-null  int64 \n",
      " 1   age_group        10551 non-null  object\n",
      " 2   status           10551 non-null  object\n",
      " 3   sex              10551 non-null  object\n",
      " 4   orientation      10551 non-null  object\n",
      " 5   body_type        9875 non-null   object\n",
      " 6   diet             6861 non-null   object\n",
      " 7   drinks           10551 non-null  object\n",
      " 8   drinks_freq      10551 non-null  int64 \n",
      " 9   drugs            8444 non-null   object\n",
      " 10  education        10551 non-null  object\n",
      " 11  education_group  10551 non-null  object\n",
      " 12  ethnicity        9832 non-null   object\n",
      " 13  height           10551 non-null  int64 \n",
      " 14  job              10551 non-null  object\n",
      " 15  job_group        10551 non-null  object\n",
      " 16  last_online      10551 non-null  object\n",
      " 17  location         10551 non-null  object\n",
      " 18  offspring        5033 non-null   object\n",
      " 19  pets             7775 non-null   object\n",
      " 20  religion         7826 non-null   object\n",
      " 21  sign             9070 non-null   object\n",
      " 22  smokes           10074 non-null  object\n",
      " 23  speaks           10545 non-null  object\n",
      " 24  Bio              10551 non-null  object\n",
      "dtypes: int64(3), object(22)\n",
      "memory usage: 2.1+ MB\n",
      "None\n"
     ]
    }
   ],
   "source": [
    "# Let's check the dimensions of the dataframe\n",
    "print(df_dating_RNN.shape)\n",
    "print()\n",
    "# let's look at the statistical aspects of the dataframe\n",
    "print(df_dating_RNN.describe())\n",
    "print()\n",
    "# Let's see the type of each column\n",
    "print(df_dating_RNN.info())"
   ]
  },
  {
   "cell_type": "code",
   "execution_count": null,
   "id": "49e5e8cb",
   "metadata": {},
   "outputs": [],
   "source": []
  },
  {
   "cell_type": "code",
   "execution_count": 18,
   "id": "d8e07936",
   "metadata": {},
   "outputs": [],
   "source": [
    "import pandas as pd\n",
    "from nltk import word_tokenize"
   ]
  },
  {
   "cell_type": "code",
   "execution_count": 19,
   "id": "5e945192",
   "metadata": {},
   "outputs": [],
   "source": [
    "data = df_dating_RNN['Bio'].map(word_tokenize).values\n",
    "total_vocabulary = set(word.lower() for tweet in data for word in tweet)  # set created from nested comprehension "
   ]
  },
  {
   "cell_type": "code",
   "execution_count": 20,
   "id": "81504e9a",
   "metadata": {},
   "outputs": [
    {
     "data": {
      "text/plain": [
       "92701"
      ]
     },
     "execution_count": 20,
     "metadata": {},
     "output_type": "execute_result"
    }
   ],
   "source": [
    "len(total_vocabulary)"
   ]
  },
  {
   "cell_type": "code",
   "execution_count": 21,
   "id": "be3020dd",
   "metadata": {},
   "outputs": [
    {
     "name": "stdout",
     "output_type": "stream",
     "text": [
      "[list(['about', 'me', 'i', 'would', 'love', 'to', 'think', 'that', 'i', 'was', 'some', 'some', 'kind', 'of', 'intellectual', 'either', 'the', 'dumbest', 'smart', 'guy', 'or', 'the', 'smartest', 'dumb', 'guy', 'cant', 'say', 'i', 'can', 'tell', 'the', 'difference', 'i', 'love', 'to', 'talk', 'about', 'ideas', 'and', 'concepts', 'i', 'forge', 'odd', 'metaphors', 'instead', 'of', 'reciting', 'cliches', 'like', 'the', 'simularities', 'between', 'a', 'friend', 'of', 'mines', 'house', 'and', 'an', 'underwater', 'salt', 'mine', 'my', 'favorite', 'word', 'is', 'salt', 'by', 'the', 'way', 'weird', 'choice', 'i', 'know', 'to', 'me', 'most', 'things', 'in', 'life', 'are', 'better', 'as', 'metaphors', 'i', 'seek', 'to', 'make', 'myself', 'a', 'little', 'better', 'everyday', 'in', 'some', 'productively', 'lazy', 'way', 'got', 'tired', 'of', 'tying', 'my', 'shoes', 'considered', 'hiring', 'a', 'five', 'year', 'old', 'but', 'would', 'probably', 'have', 'to', 'tie', 'both', 'of', 'our', 'shoes', 'decided', 'to', 'only', 'wear', 'leather', 'shoes', 'dress', 'shoes', 'about', 'you', 'you', 'love', 'to', 'have', 'really', 'serious', 'really', 'deep', 'conversations', 'about', 'really', 'silly', 'stuff', 'you', 'have', 'to', 'be', 'willing', 'to', 'snap', 'me', 'out', 'of', 'a', 'light', 'hearted', 'rant', 'with', 'a', 'kiss', 'you', 'dont', 'have', 'to', 'be', 'funny', 'but', 'you', 'have', 'to', 'be', 'able', 'to', 'make', 'me', 'laugh', 'you', 'should', 'be', 'able', 'to', 'bend', 'spoons', 'with', 'your', 'mind', 'and', 'telepathically', 'make', 'me', 'smile', 'while', 'i', 'am', 'still', 'at', 'work', 'you', 'should', 'love', 'life', 'and', 'be', 'cool', 'with', 'just', 'letting', 'the', 'wind', 'blow', 'extra', 'points', 'for', 'reading', 'all', 'this', 'and', 'guessing', 'my', 'favorite', 'video', 'game', 'no', 'hints', 'given', 'yet', 'and', 'lastly', 'you', 'have', 'a', 'good', 'attention', 'span', 'currently', 'working', 'as', 'an', 'international', 'agent', 'for', 'a', 'freight', 'forwarding', 'company', 'import', 'export', 'domestic', 'you', 'know', 'the', 'works', 'online', 'classes', 'and', 'trying', 'to', 'better', 'myself', 'in', 'my', 'free', 'time', 'perhaps', 'a', 'hours', 'worth', 'of', 'a', 'good', 'book', 'or', 'a', 'video', 'game', 'on', 'a', 'lazy', 'sunday', 'making', 'people', 'laugh', 'ranting', 'about', 'a', 'good', 'salting', 'finding', 'simplicity', 'in', 'complexity', 'and', 'complexity', 'in', 'simplicity', 'the', 'way', 'i', 'look', 'i', 'am', 'a', 'six', 'foot', 'half', 'asian', 'half', 'caucasian', 'mutt', 'it', 'makes', 'it', 'tough', 'not', 'to', 'notice', 'me', 'and', 'for', 'me', 'to', 'blend', 'in', 'books', 'absurdistan', 'the', 'republic', 'of', 'mice', 'and', 'men', 'only', 'book', 'that', 'made', 'me', 'want', 'to', 'cry', 'catcher', 'in', 'the', 'rye', 'the', 'prince', 'movies', 'gladiator', 'operation', 'valkyrie', 'the', 'producers', 'down', 'periscope', 'shows', 'the', 'borgia', 'arrested', 'development', 'game', 'of', 'thrones', 'monty', 'python', 'music', 'aesop', 'rock', 'hail', 'mary', 'mallon', 'george', 'thorogood', 'and', 'the', 'delaware', 'destroyers', 'felt', 'food', 'im', 'down', 'for', 'anything', 'food', 'water', 'cell', 'phone', 'shelter', 'duality', 'and', 'humorous', 'things', 'trying', 'to', 'find', 'someone', 'to', 'hang', 'out', 'with', 'i', 'am', 'down', 'for', 'anything', 'except', 'a', 'club', 'i', 'am', 'new', 'to', 'california', 'and', 'looking', 'for', 'someone', 'to', 'wisper', 'my', 'secrets', 'to', 'you', 'want', 'to', 'be', 'swept', 'off', 'your', 'feet', 'you', 'are', 'tired', 'of', 'the', 'norm', 'you', 'want', 'to', 'catch', 'a', 'coffee', 'or', 'a', 'bite', 'or', 'if', 'you', 'want', 'to', 'talk', 'philosophy'])\n",
      " list(['my', 'name', 'is', 'ashley', 'and', 'i', 'live', 'in', 'san', 'francisco', 'i', 'love', 'to', 'dance', 'speak', 'spanish', 'smile', 'and', 'enjoy', 'life', 'i', 'just', 'graduated', 'from', 'usf', 'with', 'a', 'major', 'in', 'international', 'studies', 'major', 'and', 'minors', 'in', 'latin', 'american', 'studies', 'and', 'dance', 'im', 'going', 'to', 'work', 'at', 'a', 'ymca', 'camp', 'this', 'summer', 'as', 'the', 'assistant', 'director', 'ive', 'been', 'going', 'there', 'since', 'i', 'was', 'so', 'ive', 'pretty', 'much', 'come', 'full', 'circle', 'i', 'dont', 'have', 'my', 'entire', 'life', 'planned', 'out', 'but', 'i', 'do', 'have', 'goals', 'for', 'the', 'future', 'so', 'that', 'counts', 'for', 'something', 'mostly', 'my', 'plan', 'is', 'to', 'be', 'happy', 'with', 'whatever', 'i', 'do', 'and', 'continue', 'to', 'have', 'fun', 'in', 'life', 'my', 'smile', 'my', 'eyes', 'and', 'my', 'hair', 'apparently', 'im', 'not', 'pickybut', 'i', 'tend', 'to', 'enjoy', 'comedies', 'silly', 'reality', 'shows', 'music', 'i', 'can', 'groove', 'to', 'and', 'food', 'that', 'tastes', 'good', 'going', 'out', 'in', 'the', 'city', 'with', 'friends'])\n",
      " list(['fulltime', 'student', 'fulltime', 'square', 'i', 'change', 'from', 'year', 'to', 'year', 'used', 'to', 'love', 'computer', 'games', 'and', 'drinking', 'but', 'am', 'finding', 'i', 'hate', 'them', 'more', 'as', 'time', 'passes', 'dont', 'get', 'me', 'wrong', 'i', 'still', 'enjoy', 'a', 'night', 'out', 'every', 'other', 'month', 'and', 'a', 'lazy', 'saturday', 'with', 'my', 'computer', 'now', 'and', 'again', 'my', 'obsession', 'of', 'the', 'moment', 'include', 'long', 'drives', 'at', 'night', 'after', 'work', 'and', 'hitting', 'the', 'gym', 'on', 'the', 'weekends', 'i', 'like', 'to', 'sit', 'and', 'home', 'and', 'prepare', 'for', 'the', 'week', 'ahead', 'im', 'currently', 'studying', 'at', 'ccsf', 'i', 'went', 'to', 'babson', 'college', 'in', 'wellesley', 'massachusetts', 'in', 'but', 'i', 'was', 'both', 'unprepared', 'to', 'enjoy', 'the', 'experience', 'and', 'boston', 'was', 'too', 'different', 'from', 'home', 'the', 'philippines', 'decided', 'to', 'run', 'away', 'to', 'san', 'francisco', 'learn', 'what', 'i', 'want', 'and', 'move', 'on', 'to', 'a', 'better', 'school', 'when', 'i', 'find', 'myself', 'ready', 'here', 'i', 'am', 'units', 'later', 'anxious', 'to', 'make', 'another', 'leap', 'i', 'work', 'for', 'square', 'and', 'couldnt', 'have', 'found', 'a', 'better', 'first', 'job', 'in', 'the', 'near', 'future', 'im', 'going', 'to', 'be', 'working', 'on', 'helping', 'my', 'mom', 'start', 'a', 'business', 'in', 'the', 'field', 'of', 'her', 'choosing', 'and', 'try', 'to', 'fit', 'a', 'semester', 'workingstudying', 'in', 'japan', 'school', 'especially', 'when', 'there', 'is', 'a', 'bet', 'involved', 'swimming', 'but', 'not', 'as', 'good', 'as', 'i', 'used', 'to', 'be', 'typing', 'wpm', 'getting', 'lost', 'making', 'a', 'sweet', 'breakfast', 'meeting', 'new', 'people', 'jedi', 'mindtricking', 'children', 'finding', 'stuff', 'for', 'cheaps', 'making', 'sneaky', 'drinks', 'panicking', 'near', 'hobos', 'fixing', 'stuff', 'putting', 'stuff', 'together', 'most', 'importantly', 'travelling', 'is', 'how', 'hard', 'it', 'is', 'to', 'pin', 'point', 'my', 'ethnicity', 'books', 'dan', 'brown', 'deception', 'point', 'digital', 'fortress', 'etc', 'george', 'r', 'r', 'martin', 'a', 'song', 'of', 'ice', 'and', 'fire', 'wheel', 'of', 'time', 'predictably', 'irrational', 'glass', 'castle', 'the', 'hunger', 'games', 'favorite', 'tv', 'shows', 'the', 'big', 'bang', 'theory', 'how', 'i', 'met', 'your', 'mother', 'weeds', 'breaking', 'bad', 'true', 'blood', 'supernatural', 'favorite', 'movies', 'fast', 'and', 'the', 'furious', 'tokyo', 'drift', 'i', 'hate', 'myself', 'for', 'this', 'walle', 'shawshank', 'redemption', 'fight', 'club', 'pirates', 'of', 'the', 'caribbean', 'saga', 'forrest', 'gump', 'spirited', 'away', 'fullmetal', 'jacket', 'sherlock', 'holmes', 'lots', 'of', 'foreign', 'independent', 'films', 'food', 'can', 'not', 'get', 'enough', 'of', 'thai', 'japanese', 'and', 'wings', 'friends', 'family', 'passport', 'cologne', 'good', 'speakersheadphones', 'internet', 'mah', 'ride', 'what', 'i', 'will', 'leave', 'my', 'children', 'when', 'i', 'do', 'eventually', 'have', 'them', 'whether', 'i', 'should', 'work', 'harder', 'or', 'enjoy', 'life', 'my', 'family', 'back', 'in', 'the', 'philippines', 'where', 'i', 'should', 'go', 'next', 'how', 'badly', 'i', 'want', 'to', 'travel', 'how', 'i', 'can', 'make', 'a', 'difference', 'regardless', 'of', 'how', 'small', 'whether', 'or', 'not', 'i', 'want', 'to', 'delve', 'into', 'zen', 'buddhism', 'how', 'much', 'i', 'love', 'and', 'admire', 'the', 'great', 'people', 'around', 'me', 'how', 'much', 'longer', 'until', 'work', 'is', 'over', 'how', 'much', 'i', 'love', 'work', 'whether', 'or', 'not', 'i', 'can', 'get', 'away', 'with', 'hours', 'of', 'sleep', 'at', 'work', 'until', 'then', 'hanging', 'out', 'with', 'friends', 'at', 'my', 'house', 'or', 'enjoying', 'some', 'downtime', 'with', 'a', 'good', 'book', 'or', 'playing', 'my', 'piano', 'poorly', 'sometimes', 'when', 'i', 'have', 'absolutely', 'nothing', 'to', 'do', 'i', 'still', 'try', 'to', 'determine', 'whether', 'or', 'not', 'i', 'can', 'perform', 'telekinesis', 'if', 'you', 'dont', 'mind', 'chatting', 'with', 'a', 'closet', 'dork', 'and', 'are', 'open', 'to', 'one', 'day', 'meeting', 'me', 'in', 'person', 'preferably', 'over', 'some', 'strong', 'dark', 'coffee'])\n",
      " ...\n",
      " list(['in', 'the', 'suburbs', 'not', 'by', 'choice', 'but', 'necessity', 'i', 'am', 'a', 'divorced', 'father', 'of', 'an', 'eight', 'year', 'old', 'son', 'who', 'lives', 'with', 'his', 'mom', 'on', 'the', 'west', 'coast', 'she', 'and', 'i', 'have', 'a', 'good', 'relationship', 'based', 'on', 'respect', 'and', 'trust', 'i', 'am', 'left', 'leaning', 'but', 'pragmatic', 'i', 'do', 'not', 'understand', 'political', 'conservatives', 'and', 'have', 'no', 'idea', 'why', 'handguns', 'are', 'tolerated', 'in', 'a', 'civilized', 'world', 'i', 'tend', 'to', 'joust', 'with', 'windmills', 'replete', 'with', 'the', 'knowledge', 'of', 'the', 'inevitable', 'outcome', 'i', 'wish', 'there', 'was', 'a', 'baseball', 'league', 'near', 'me', 'for', 'guys', 'in', 'their', 's', 'i', 'do', 'yoga', 'i', 'work', 'at', 'a', 'hedge', 'fund', 'making', 'sure', 'the', 'world', 'is', 'safe', 'for', 'wealthy', 'people', 'they', 'write', 'folk', 'songs', 'about', 'that', 'right', 'funding', 'my', 'sons', 'college', 'fund', 'trying', 'to', 'live', 'a', 'peaceful', 'life', 'cooking', 'conversation', 'i', 'am', 'a', 'bit', 'odd', 'lots', 'of', 'books', 'lots', 'of', 'food', 'my', 'own', 'music', 'my', 'beautiful', 'son', 'my', 'guitar', 'administrations', 'that', 'are', 'not', 'republican', 'the', 'lingering', 'hope', 'that', 'that', 'mankind', 'would', 'come', 'to', 'the', 'realization', 'that', 'religon', 'is', 'not', 'worth', 'killingdying', 'for', 'inane', 'topics', 'wondering', 'why', 'i', 'am', 'at', 'home', 'watching', 'kitchen', 'nightmares', 'i', 'am', 'terrified', 'of', 'heights', 'you', 'are', 'erudite', 'like', 'to', 'eat', 'rich', 'meaty', 'meals', 'have', 'a', 'passing', 'interest', 'in', 'opera', 'and', 'looking', 'for', 'a', 'date'])\n",
      " list(['i', 'am', 'fun', 'loving', 'and', 'romantic', 'a', 'bouquet', 'of', 'flowers', 'even', 'daisies', 'will', 'give', 'me', 'a', 'warm', 'feeling', 'in', 'my', 'heart', 'watching', 'the', 'waves', 'roll', 'in', 'at', 'a', 'beach', 'in', 'the', 'bay', 'area', 'and', 'candles', 'at', 'dinner', 'time', 'with', 'a', 'glass', 'of', 'wine', 'are', 'special', 'im', 'also', 'practical', 'and', 'love', 'to', 'get', 'things', 'for', 'special', 'prices', 'when', 'i', 'shop', 'a', 'movie', 'or', 'dinner', 'at', 'home', 'which', 'i', 'cooked', 'give', 'me', 'pride', 'and', 'im', 'religious', 'with', 'respect', 'and', 'compassion', 'for', 'my', 'neighbors', 'when', 'it', 'comes', 'to', 'music', 'i', 'like', 'the', 'sixties', 'and', 'sevendies', 'rock', 'and', 'roll', 'let', 'me', 'be', 'the', 'one', 'and', 'special', 'in', 'your', 'life', 'i', 'am', 'active', 'in', 'going', 'to', 'the', 'theatre', 'political', 'parties', 'and', 'womens', 'clubs', 'meetings', 'i', 'am', 'retired', 'and', 'have', 'activities', 'with', 'special', 'friends', 'i', 'have', 'known', 'for', 'or', 'more', 'years', 'here', 'in', 'the', 'bay', 'area', 'painting', 'water', 'colors', 'cooking', 'photography', 'and', 'traveling', 'locally', 'to', 'the', 'mountains', 'in', 'tahoe', 'or', 'santa', 'cruz', 'the', 'eyes', 'and', 'my', 'smile', 'men', 'think', 'i', 'am', 'sexy', 'my', 'favorite', 'book', 'is', 'gone', 'with', 'the', 'wind', 'and', 'movie', 'too', 'i', 'like', 'the', 'beatles', 'and', 'cirque', 'de', 'soleil', 'my', 'dog', 'toto', 'a', 'yorkie', 'terrier', 'my', 'bible', 'my', 'two', 'grandchildren', 'aged', 'and', 'who', 'are', 'truly', 'beautiful', 'my', 'two', 'sons', 'who', 'make', 'me', 'proud', 'and', 'pat', 'brown', 'my', 'mother', 'now', 'in', 'everyway', 'since', 'my', 'biological', 'mother', 'died', 'years', 'ago', 'what', 'my', 'friends', 'are', 'doing', 'and', 'if', 'i', 'will', 'meet', 'a', 'man', 'who', 'wants', 'to', 'share', 'similar', 'activities', 'i', 'am', 'a', 'widow', 'of', 'years', 'and', 'get', 'lonely', 'at', 'times', 'relaxing', 'at', 'home', 'im', 'shy', 'and', 'dont', 'like', 'to', 'initiate', 'the', 'romance', 'that', 'is', 'possible', 'i', 'am', 'not', 'agressively', 'searching', 'to', 'find', 'a', 'romance', 'partner', 'if', 'you', 'find', 'any', 'of', 'this', 'interesting'])\n",
      " list(['lifted', 'from', 'my', 'match', 'profile', 'i', 'am', 'recently', 'widowed', 'about', 'a', 'year', 'and', 'a', 'half', 'now', 'guy', 'trying', 'this', 'world', 'of', 'technology', 'for', 'matters', 'of', 'the', 'heart', 'my', 'career', 'has', 'been', 'primarily', 'working', 'in', 'the', 'research', 'labs', 'for', 'major', 'silicon', 'valley', 'high', 'tech', 'companies', 'i', 'am', 'a', 'rather', 'laidback', 'fellow', 'with', 'a', 'quiet', 'intellectual', 'take', 'on', 'things', 'gentle', 'a', 'pretty', 'good', 'listener', 'an', 'accepting', 'soul', 'i', 'work', 'in', 'and', 'around', 'nerds', 'all', 'day', 'but', 'i', 'dont', 'feel', 'like', 'one', 'though', 'my', 'phd', 'is', 'in', 'theoretical', 'physics', 'i', 'write', 'and', 'perform', 'music', 'jazz', 'playing', 'trumpet', 'and', 'sometimes', 'keyboards', 'ive', 'even', 'had', 'an', 'original', 'composition', 'played', 'on', 'several', 'jazz', 'radio', 'stations', 'around', 'the', 'world', 'cool', 'i', 'struggle', 'to', 'understand', 'lifes', 'big', 'picture', 'so', 'have', 'a', 'kind', 'of', 'philosophical', 'cast', 'to', 'the', 'way', 'i', 'approach', 'things', 'and', 'a', 'rather', 'spiritual', 'interest', 'in', 'what', 'the', 'heck', 'the', 'universe', 'is', 'doing', 'here', 'i', 'mean', 'whats', 'with', 'that', 'i', 'have', 'other', 'talents', 'and', 'interests', 'so', 'tend', 'to', 'enjoy', 'meeting', 'people', 'learning', 'about', 'them', 'and', 'in', 'conversation', 'enjoy', 'sussing', 'out', 'the', 'details', 'of', 'their', 'work', 'and', 'what', 'intrigues', 'them', 'i', 'have', 'a', 'slightly', 'quirky', 'sense', 'of', 'humor', 'id', 'like', 'to', 'meet', 'an', 'attractive', 'woman', 'who', 'is', 'intelligent', 'educated', 'with', 'talents', 'of', 'her', 'own', 'she', 'is', 'trying', 'to', 'figure', 'out', 'a', 'way', 'to', 'be', 'a', 'valuable', 'presence', 'in', 'the', 'universe', 'physically', 'i', 'try', 'to', 'take', 'care', 'of', 'myself', 'and', 'look', 'for', 'someone', 'who', 'does', 'the', 'same', 'i', 'have', 'a', 'strong', 'sensuous', 'side', 'my', 'fingertip', 'wants', 'to', 'slip', 'across', 'that', 'smooth', 'dark', 'red', 'manzanita', 'branch', 'surprisingly', 'cool', 'even', 'in', 'summer', 'there', 'is', 'a', 'particular', 'scent', 'to', 'a', 'redwood', 'tree', 'on', 'a', 'dry', 'hot', 'day', 'i', 'am', 'fairly', 'well', 'described', 'as', 'a', 'myersbriggs', 'intp', 'most', 'of', 'you', 'have', 'heard', 'of', 'that', 'stuff', 'but', 'its', 'meaning', 'is', 'only', 'a', 'google', 'away', 'the', 'n', 'is', 'the', 'only', 'matching', 'characteristic', 'i', 'care', 'about', 'and', 'it', 'is', 'my', 'most', 'dominate', 'trait', 'a', 'lot', 'of', 'you', 'love', 'love', 'love', 'to', 'travel', 'well', 'i', 'kind', 'of', 'enjoy', 'travel', 'but', 'frankly', 'am', 'not', 'manic', 'about', 'it', 'at', 'a', 'tropical', 'beach', 'i', 'like', 'to', 'snorkel', 'then', 'sit', 'in', 'the', 'shade', 'and', 'read', 'or', 'hike', 'into', 'a', 'sierra', 'wilderness', 'lake', 'for', 'a', 'day', 'and', 'write', 'in', 'a', 'notebook', 'there', 'for', 'a', 'few', 'hours', 'i', 'would', 'prefer', 'to', 'visit', 'my', 'friends', 'or', 'relatives', 'in', 'a', 'distant', 'country', 'and', 'experience', 'the', 'culture', 'from', 'within', 'rather', 'than', 'tear', 'through', 'on', 'a', 'bus', 'or', 'something', 'here', 'are', 'example', 'conversation', 'fragments', 'that', 'i', 'would', 'want', 'a', 'friend', 'to', 'enjoy', 'to', 'contribute', 'to', 'to', 'ask', 'questions', 'about', 'or', 'be', 'tickled', 'by', 'o', 'a', 'theory', 'of', 'family', 'dynamics', 'we', 'each', 'grow', 'up', 'in', 'a', 'family', 'in', 'which', 'spaces', 'of', 'activity', 'and', 'expertise', 'are', 'occupied', 'by', 'other', 'family', 'members', 'it', 'could', 'be', 'an', 'older', 'sister', 'who', 'plays', 'the', 'piano', 'a', 'father', 'who', 'is', 'a', 'sculptor', 'how', 'does', 'this', 'influence', 'how', 'you', 'develop', 'o', 'a', 'theory', 'of', 'humor', 'what', 'makes', 'one', 'set', 'of', 'statements', 'funny', 'one', 'model', 'is', 'there', 'is', 'a', 'sudden', 'frame', 'of', 'reference', 'shift', 'maybe', 'it', 'can', 'be', 'better', 'in', 'telling', 'a', 'joke', 'to', 'make', 'that', 'shift', 'as', 'rapid', 'as', 'possible', 'lets', 'tell', 'some', 'jokes', 'and', 'see', 'if', 'we', 'can', 'explain', 'the', 'humor', 'as', 'a', 'frame', 'of', 'reference', 'shift', 'lets', 'see', 'if', 'we', 'can', 'ruin', 'the', 'funniness', 'by', 'retelling', 'the', 'joke', 'so', 'as', 'to', 'slow', 'down', 'the', 'shift', 'lets', 'discuss', 'other', 'theories', 'of', 'what', 'makes', 'something', 'funny', 'with', 'examples', 'o', 'an', 'idle', 'observation', 'wondering', 'if', 'the', 'plane', 'of', 'the', 'galaxy', 'is', 'lined', 'up', 'with', 'the', 'plane', 'of', 'the', 'orbiting', 'planets', 'it', 'might', 'make', 'sense', 'given', 'the', 'solar', 'system', 'formed', 'from', 'a', 'swirling', 'disk', 'of', 'gas', 'as', 'part', 'of', 'the', 'galaxy', 'itself', 'lets', 'go', 'outside', 'and', 'look', 'at', 'the', 'planets', 'and', 'at', 'the', 'milky', 'way', 'and', 'see', 'how', 'much', 'they', 'line', 'up', 'ideally', 'you', 'should', 'be', 'curious', 'and', 'lean', 'forward', 'in', 'conversations', 'that', 'tickle', 'your', 'brain', 'funny', 'i', 'see', 'a', 'little', 'changing', 'number', 'as', 'i', 'type', 'here', 'labeled', 'characters', 'remaining', 'huh', 'the', 'number', 'gets', 'smaller', 'with', 'each', 'character', 'i', 'type', 'whats', 'with', 'that', 'in', 'fact', 'pretty', 'soon', 'it', 'will', 'drop', 'through', 'zero', 'and', 'into', 'nega', 'ative', 'numbers', 'hey', 'i', 'found', 'a', 'way', 'to', 'make', 'this', 'into', 'one', 'long', 'running', 'es', 'say', 'these', 'are', 'fine', 'questions', 'but', 'i', 'think', 'all', 'the', 'preceding', 'prose', 'actually', 'answers', 'them', 'is', 'something', 'they', 'never', 'tell', 'me', 'i', 'could', 'guess', 'but', 'that', 'waters', 'down', 'the', 'value', 'of', 'what', 'i', 'hope', 'you', 'agree', 'is', 'not', 'very', 'interesting', 'information', 'anyway', 'i', 'cant', 'argue', 'with', 'that', 'assertion', 'okcupid', 'might', 'censor', 'some', 'of', 'this', 'but', 'here', 'you', 'go', 'once', 'i', 'and', 'then', 'but', 'she', 'said', 'only', 'if', 'and', 'so', 'we', 'found', 'screen', 'doors', 'and', 'the', 'of', 'the', 'submarines', 'for', 'tacos', 'and', 'that', 'meant', 'her', 'left', 'nostril', 'the', 'alternate', 'tuesdays'])]\n"
     ]
    }
   ],
   "source": [
    "print(data)"
   ]
  },
  {
   "cell_type": "code",
   "execution_count": null,
   "id": "282df7d8",
   "metadata": {},
   "outputs": [],
   "source": []
  },
  {
   "cell_type": "code",
   "execution_count": null,
   "id": "05d9fa50",
   "metadata": {},
   "outputs": [],
   "source": []
  },
  {
   "cell_type": "code",
   "execution_count": 22,
   "id": "cd93f06d",
   "metadata": {},
   "outputs": [],
   "source": [
    "from keras.preprocessing.sequence import pad_sequences\n",
    "from keras.layers import Input, Dense, LSTM, Embedding\n",
    "from keras.layers import Dropout, Activation, Bidirectional, GlobalMaxPool1D\n",
    "from keras.models import Sequential\n",
    "from keras import initializers, regularizers, constraints, optimizers, layers\n",
    "from keras.preprocessing import text, sequence\n",
    "\n",
    "# set the emotion/sentiment as our target\n",
    "target = df_dating_RNN['drinks_freq']\n",
    "\n",
    "# use one hot encoding since our target is categorical\n",
    "y = pd.get_dummies(target).values\n",
    "\n",
    "# use keras to create a Tokenizer object\n",
    "tokenizer = text.Tokenizer(num_words=40000)  # limit to the num_words most important ones\n",
    "tokenizer.fit_on_texts(list(df_dating_RNN['Bio']))\n",
    "tokenized_texts = tokenizer.texts_to_sequences(df_dating_RNN['Bio'])\n",
    "X = sequence.pad_sequences(tokenized_texts, maxlen=1000)"
   ]
  },
  {
   "cell_type": "code",
   "execution_count": 23,
   "id": "894147d2",
   "metadata": {},
   "outputs": [
    {
     "data": {
      "text/plain": [
       "array([0, 1], dtype=int64)"
      ]
     },
     "execution_count": 23,
     "metadata": {},
     "output_type": "execute_result"
    }
   ],
   "source": [
    "np.unique(target)"
   ]
  },
  {
   "cell_type": "code",
   "execution_count": 24,
   "id": "11add6ea",
   "metadata": {},
   "outputs": [
    {
     "name": "stdout",
     "output_type": "stream",
     "text": [
      "[[0 1]\n",
      " [0 1]\n",
      " [0 1]\n",
      " ...\n",
      " [1 0]\n",
      " [0 1]\n",
      " [0 1]]\n"
     ]
    }
   ],
   "source": [
    "print(y)"
   ]
  },
  {
   "cell_type": "code",
   "execution_count": 25,
   "id": "74147697",
   "metadata": {},
   "outputs": [
    {
     "data": {
      "text/plain": [
       "array([0, 1], dtype=uint8)"
      ]
     },
     "execution_count": 25,
     "metadata": {},
     "output_type": "execute_result"
    }
   ],
   "source": [
    "np.unique(y)"
   ]
  },
  {
   "cell_type": "code",
   "execution_count": 35,
   "id": "0c5a664e",
   "metadata": {},
   "outputs": [],
   "source": [
    "from sklearn.model_selection import train_test_split\n",
    "\n",
    "X_train, X_test, y_train, y_test1 = train_test_split(X, y, test_size=0.2)\n",
    "\n",
    "# create my NN model\n",
    "model = Sequential()\n",
    "\n",
    "embedding_size = 128\n",
    "model.add(Embedding(len(total_vocabulary), embedding_size))\n",
    "model.add(LSTM(25, return_sequences=True))\n",
    "model.add(GlobalMaxPool1D())\n",
    "model.add(Dropout(0.5))\n",
    "model.add(Dense(50, activation='relu'))\n",
    "model.add(Dropout(0.5))\n",
    "model.add(Dense(50, activation='relu'))\n",
    "model.add(Dropout(0.5))\n",
    "model.add(Dense(2, activation='softmax'))  # use 6 because we have 6 categories"
   ]
  },
  {
   "cell_type": "code",
   "execution_count": null,
   "id": "4061947f",
   "metadata": {},
   "outputs": [],
   "source": []
  },
  {
   "cell_type": "code",
   "execution_count": 36,
   "id": "b6ded400",
   "metadata": {},
   "outputs": [
    {
     "name": "stdout",
     "output_type": "stream",
     "text": [
      "Model: \"sequential_1\"\n",
      "_________________________________________________________________\n",
      " Layer (type)                Output Shape              Param #   \n",
      "=================================================================\n",
      " embedding_1 (Embedding)     (None, None, 128)         11865728  \n",
      "                                                                 \n",
      " lstm_1 (LSTM)               (None, None, 25)          15400     \n",
      "                                                                 \n",
      " global_max_pooling1d_1 (Glo  (None, 25)               0         \n",
      " balMaxPooling1D)                                                \n",
      "                                                                 \n",
      " dropout_3 (Dropout)         (None, 25)                0         \n",
      "                                                                 \n",
      " dense_3 (Dense)             (None, 50)                1300      \n",
      "                                                                 \n",
      " dropout_4 (Dropout)         (None, 50)                0         \n",
      "                                                                 \n",
      " dense_4 (Dense)             (None, 50)                2550      \n",
      "                                                                 \n",
      " dropout_5 (Dropout)         (None, 50)                0         \n",
      "                                                                 \n",
      " dense_5 (Dense)             (None, 2)                 102       \n",
      "                                                                 \n",
      "=================================================================\n",
      "Total params: 11,885,080\n",
      "Trainable params: 11,885,080\n",
      "Non-trainable params: 0\n",
      "_________________________________________________________________\n"
     ]
    }
   ],
   "source": [
    "model.compile(loss='categorical_crossentropy', \n",
    "              optimizer='adam', \n",
    "              metrics=['accuracy'])\n",
    "model.summary() # check the shape"
   ]
  },
  {
   "cell_type": "code",
   "execution_count": 37,
   "id": "3f8a2e39",
   "metadata": {},
   "outputs": [
    {
     "data": {
      "text/plain": [
       "array([0, 1], dtype=uint8)"
      ]
     },
     "execution_count": 37,
     "metadata": {},
     "output_type": "execute_result"
    }
   ],
   "source": [
    "np.unique(y_train)"
   ]
  },
  {
   "cell_type": "code",
   "execution_count": 38,
   "id": "ae91a6ca",
   "metadata": {},
   "outputs": [
    {
     "name": "stdout",
     "output_type": "stream",
     "text": [
      "[[0 1]\n",
      " [0 1]\n",
      " [1 0]\n",
      " ...\n",
      " [0 1]\n",
      " [0 1]\n",
      " [1 0]]\n"
     ]
    }
   ],
   "source": [
    "print(y_train)"
   ]
  },
  {
   "cell_type": "code",
   "execution_count": 39,
   "id": "cb466204",
   "metadata": {},
   "outputs": [],
   "source": [
    "from keras.callbacks import ModelCheckpoint, EarlyStopping"
   ]
  },
  {
   "cell_type": "code",
   "execution_count": 40,
   "id": "f500e237",
   "metadata": {},
   "outputs": [
    {
     "name": "stdout",
     "output_type": "stream",
     "text": [
      "Epoch 1/10\n",
      "238/238 [==============================] - 78s 323ms/step - loss: 0.5083 - accuracy: 0.8078 - val_loss: 0.4893 - val_accuracy: 0.8021\n",
      "Epoch 2/10\n",
      "238/238 [==============================] - 83s 349ms/step - loss: 0.4637 - accuracy: 0.8149 - val_loss: 0.4537 - val_accuracy: 0.8021\n",
      "Epoch 3/10\n",
      "238/238 [==============================] - 78s 328ms/step - loss: 0.4272 - accuracy: 0.8149 - val_loss: 0.4388 - val_accuracy: 0.8021\n",
      "Epoch 4/10\n",
      "238/238 [==============================] - 79s 330ms/step - loss: 0.3735 - accuracy: 0.8161 - val_loss: 0.4444 - val_accuracy: 0.8009\n",
      "Epoch 5/10\n",
      "238/238 [==============================] - 78s 328ms/step - loss: 0.2906 - accuracy: 0.8647 - val_loss: 0.5427 - val_accuracy: 0.7832\n",
      "Epoch 6/10\n",
      "238/238 [==============================] - 78s 326ms/step - loss: 0.2182 - accuracy: 0.9052 - val_loss: 0.5707 - val_accuracy: 0.7322\n"
     ]
    }
   ],
   "source": [
    "history = model.fit(X_train, y_train, epochs=10, batch_size=32,validation_split=0.1,callbacks=[EarlyStopping(monitor='val_loss', patience=3, min_delta=0.0001)])"
   ]
  },
  {
   "cell_type": "code",
   "execution_count": 41,
   "id": "67964c51",
   "metadata": {},
   "outputs": [
    {
     "name": "stdout",
     "output_type": "stream",
     "text": [
      "[[0.00132684 0.9986732 ]\n",
      " [0.23794213 0.76205784]\n",
      " [0.0083674  0.99163264]\n",
      " ...\n",
      " [0.0011849  0.9988152 ]\n",
      " [0.35912478 0.6408752 ]\n",
      " [0.00115703 0.99884295]]\n"
     ]
    }
   ],
   "source": [
    "y_pred1 = model.predict(X_test) # get our predictions\n",
    "print(y_pred1)"
   ]
  },
  {
   "cell_type": "code",
   "execution_count": 42,
   "id": "abd49f2a",
   "metadata": {},
   "outputs": [],
   "source": [
    "from sklearn.metrics import confusion_matrix"
   ]
  },
  {
   "cell_type": "code",
   "execution_count": null,
   "id": "8568d684",
   "metadata": {},
   "outputs": [],
   "source": []
  },
  {
   "cell_type": "code",
   "execution_count": 43,
   "id": "bb060bda",
   "metadata": {},
   "outputs": [
    {
     "name": "stdout",
     "output_type": "stream",
     "text": [
      "[[ 114  249]\n",
      " [ 301 1447]]\n"
     ]
    }
   ],
   "source": [
    "y_pred1=model.predict(X_test) \n",
    "y_pred1=np.argmax(y_pred1, axis=1)\n",
    "y_test1=np.argmax(y_test1, axis=1)\n",
    "cm = confusion_matrix(y_test1, y_pred1)\n",
    "print(cm)"
   ]
  },
  {
   "cell_type": "code",
   "execution_count": 44,
   "id": "8086cea6",
   "metadata": {},
   "outputs": [],
   "source": [
    "import pandas as pd\n",
    "import numpy as np\n",
    "import sklearn\n",
    "from scipy import stats\n",
    "import matplotlib.pyplot as plt\n",
    "import os\n",
    "import seaborn as sns"
   ]
  },
  {
   "cell_type": "code",
   "execution_count": 45,
   "id": "258f08d1",
   "metadata": {},
   "outputs": [
    {
     "name": "stdout",
     "output_type": "stream",
     "text": [
      "The number of labels (unique) from the train_data set: \n",
      "[0 1]\n",
      "The number of labels (unique) from the test_data set: \n",
      "[0 1]\n"
     ]
    }
   ],
   "source": [
    "global set_labels\n",
    "set_labels = np.unique(y_train)\n",
    "print('The number of labels (unique) from the train_data set: ')\n",
    "print(set_labels)\n",
    "\n",
    "global set_test_labels\n",
    "set_test_labels = np.unique(y_test1)\n",
    "print('The number of labels (unique) from the test_data set: ')\n",
    "print(set_test_labels)\n",
    "#Size of the confusion matrix will be determined by knowing the unique values here"
   ]
  },
  {
   "cell_type": "code",
   "execution_count": 46,
   "id": "64b48b11",
   "metadata": {},
   "outputs": [
    {
     "name": "stdout",
     "output_type": "stream",
     "text": [
      "2 2\n"
     ]
    }
   ],
   "source": [
    "x = len(set_labels)\n",
    "y = len(set_test_labels)\n",
    "z = np.unique(target)\n",
    "w= len(z)\n",
    "print(x,y)"
   ]
  },
  {
   "cell_type": "code",
   "execution_count": 47,
   "id": "ab78fd69",
   "metadata": {},
   "outputs": [
    {
     "data": {
      "image/png": "[encoded data removed]",
      "text/plain": [
       "<Figure size 144x144 with 1 Axes>"
      ]
     },
     "metadata": {
      "needs_background": "light"
     },
     "output_type": "display_data"
    }
   ],
   "source": [
    "# plot the confusion matrix\n",
    "from sklearn.metrics import confusion_matrix\n",
    "mat = confusion_matrix(y_test1, y_pred1)\n",
    "plt.figure(figsize=(x,y))\n",
    "sns.heatmap(mat.T, square=True, annot=True, fmt='d', cbar=False, \n",
    "            xticklabels= z, yticklabels=z)\n",
    "plt.xlabel('true label')\n",
    "plt.ylabel('predicted label');"
   ]
  },
  {
   "cell_type": "code",
   "execution_count": null,
   "id": "742f78ca",
   "metadata": {},
   "outputs": [],
   "source": []
  },
  {
   "cell_type": "code",
   "execution_count": 48,
   "id": "51423f72",
   "metadata": {},
   "outputs": [],
   "source": [
    "from sklearn.metrics import accuracy_score\n",
    "acc = accuracy_score(y_test1, y_pred1)"
   ]
  },
  {
   "cell_type": "code",
   "execution_count": 49,
   "id": "f0be01cd",
   "metadata": {},
   "outputs": [
    {
     "name": "stdout",
     "output_type": "stream",
     "text": [
      "0.7394599715774515\n"
     ]
    }
   ],
   "source": [
    "print(acc)"
   ]
  },
  {
   "cell_type": "code",
   "execution_count": null,
   "id": "24dd56fc",
   "metadata": {},
   "outputs": [],
   "source": []
  },
  {
   "cell_type": "code",
   "execution_count": 50,
   "id": "7a6a05a9",
   "metadata": {},
   "outputs": [
    {
     "name": "stdout",
     "output_type": "stream",
     "text": [
      "Overall accuracy of RNN: 0.739\n"
     ]
    }
   ],
   "source": [
    "print('Overall accuracy of RNN: {:.3f}'.format(acc))"
   ]
  },
  {
   "cell_type": "code",
   "execution_count": 51,
   "id": "4a5bb428",
   "metadata": {},
   "outputs": [],
   "source": [
    "from keras.callbacks import ModelCheckpoint, EarlyStopping"
   ]
  },
  {
   "cell_type": "code",
   "execution_count": 52,
   "id": "184741ba",
   "metadata": {},
   "outputs": [
    {
     "data": {
      "image/png": "[encoded data removed]",
      "text/plain": [
       "<Figure size 432x288 with 1 Axes>"
      ]
     },
     "metadata": {
      "needs_background": "light"
     },
     "output_type": "display_data"
    }
   ],
   "source": [
    "plt.title('Loss')\n",
    "plt.plot(history.history['loss'], label='train')\n",
    "plt.plot(history.history['val_loss'], label='test')\n",
    "plt.legend()\n",
    "plt.show();"
   ]
  },
  {
   "cell_type": "code",
   "execution_count": 53,
   "id": "7d7de90b",
   "metadata": {},
   "outputs": [
    {
     "data": {
      "image/png": "[encoded data removed]",
      "text/plain": [
       "<Figure size 432x288 with 1 Axes>"
      ]
     },
     "metadata": {
      "needs_background": "light"
     },
     "output_type": "display_data"
    }
   ],
   "source": [
    "plt.title('Accuracy')\n",
    "plt.plot(history.history['accuracy'], label='train')\n",
    "plt.plot(history.history['val_accuracy'], label='test')\n",
    "plt.legend()\n",
    "plt.show();"
   ]
  },
  {
   "cell_type": "code",
   "execution_count": 54,
   "id": "ec574f8d",
   "metadata": {},
   "outputs": [],
   "source": [
    "def calc_train_error(X_train, y_train, model):\n",
    "    '''returns in-sample error for already fit model.'''\n",
    "    predictions = model.predict(X_train)\n",
    "    mse = mean_squared_error(y_train, predictions)\n",
    "    rmse = np.sqrt(mse)\n",
    "    return mse"
   ]
  },
  {
   "cell_type": "code",
   "execution_count": 55,
   "id": "07b6498a",
   "metadata": {},
   "outputs": [],
   "source": [
    "from sklearn.metrics import mean_squared_error"
   ]
  },
  {
   "cell_type": "code",
   "execution_count": 56,
   "id": "1e90a8d9",
   "metadata": {},
   "outputs": [
    {
     "data": {
      "text/plain": [
       "0.05238813"
      ]
     },
     "execution_count": 56,
     "metadata": {},
     "output_type": "execute_result"
    }
   ],
   "source": [
    "calc_train_error(X_train, y_train, model)"
   ]
  },
  {
   "cell_type": "code",
   "execution_count": 57,
   "id": "0e487a7c",
   "metadata": {},
   "outputs": [],
   "source": [
    "def calc_validation_error(X_test, y_test, model):\n",
    "    '''returns out-of-sample error for already fit model.'''\n",
    "    #predictions = model.predict(X_test)\n",
    "    mse = mean_squared_error(y_test, y_pred1)\n",
    "    rmse = np.sqrt(mse)\n",
    "    return mse"
   ]
  },
  {
   "cell_type": "code",
   "execution_count": 58,
   "id": "7b725315",
   "metadata": {},
   "outputs": [
    {
     "data": {
      "text/plain": [
       "0.26054002842254853"
      ]
     },
     "execution_count": 58,
     "metadata": {},
     "output_type": "execute_result"
    }
   ],
   "source": [
    "calc_validation_error(X_test, y_test1, model)"
   ]
  },
  {
   "cell_type": "code",
   "execution_count": 59,
   "id": "e596c538",
   "metadata": {},
   "outputs": [],
   "source": [
    "def calc_metrics(X_train, y_train, X_test, y_test, model):\n",
    "    '''fits model and returns the RMSE for in-sample error and out-of-sample error'''\n",
    "    model.fit(X_train, y_train)\n",
    "    train_error = calc_train_error(X_train, y_train, model)\n",
    "    validation_error = calc_validation_error(X_test, y_test, model)\n",
    "    return train_error, validation_error"
   ]
  },
  {
   "cell_type": "code",
   "execution_count": 60,
   "id": "a4e8881f",
   "metadata": {},
   "outputs": [
    {
     "name": "stdout",
     "output_type": "stream",
     "text": [
      "264/264 [==============================] - 85s 324ms/step - loss: 0.2221 - accuracy: 0.9192\n"
     ]
    },
    {
     "data": {
      "text/plain": [
       "(0.028343692, 0.26054002842254853)"
      ]
     },
     "execution_count": 60,
     "metadata": {},
     "output_type": "execute_result"
    }
   ],
   "source": [
    "calc_metrics(X_train, y_train, X_test, y_test1, model)"
   ]
  },
  {
   "cell_type": "code",
   "execution_count": 61,
   "id": "9592d67a",
   "metadata": {},
   "outputs": [
    {
     "name": "stdout",
     "output_type": "stream",
     "text": [
      "train error: 0.131 | test error: 0.261\n",
      "train/test: 2.0\n"
     ]
    }
   ],
   "source": [
    "from sklearn.linear_model import LinearRegression\n",
    "lr = LinearRegression(fit_intercept=True)\n",
    "\n",
    "train_error, test_error = calc_metrics(X_train, y_train, X_test, y_test1, lr)\n",
    "train_error, test_error = round(train_error, 3), round(test_error, 3)\n",
    "\n",
    "print('train error: {} | test error: {}'.format(train_error, test_error))\n",
    "print('train/test: {}'.format(round(test_error/train_error, 1)))"
   ]
  },
  {
   "cell_type": "code",
   "execution_count": 62,
   "id": "c09e33f3",
   "metadata": {},
   "outputs": [],
   "source": [
    "#Here the model is overfitting\n",
    "#Training erorr is 13%\n",
    "#The model has high bias and high variance\n",
    "#Validation Error is around 26% (poor performance on the test set)\n",
    "#Model has high bias and high variance, but it is still better "
   ]
  },
  {
   "cell_type": "code",
   "execution_count": null,
   "id": "9116096a",
   "metadata": {},
   "outputs": [],
   "source": []
  },
  {
   "cell_type": "code",
   "execution_count": 63,
   "id": "647b99ef",
   "metadata": {},
   "outputs": [
    {
     "data": {
      "image/png": "[encoded data removed]",
      "text/plain": [
       "<IPython.core.display.Image object>"
      ]
     },
     "execution_count": 63,
     "metadata": {},
     "output_type": "execute_result"
    }
   ],
   "source": [
    "#Visualize the RNN architecture for the given model\n",
    "from keras.models import Sequential\n",
    "from keras.layers import Dense\n",
    "from keras.utils.vis_utils import plot_model\n",
    "\n",
    "plot_model(model, to_file='model_plot.png', show_shapes=True, show_layer_names = True)"
   ]
  },
  {
   "cell_type": "code",
   "execution_count": null,
   "id": "4936c3b5",
   "metadata": {},
   "outputs": [],
   "source": []
  },
  {
   "cell_type": "code",
   "execution_count": null,
   "id": "9f95a46e",
   "metadata": {},
   "outputs": [],
   "source": []
  }
 ],
 "metadata": {
  "kernelspec": {
   "display_name": "Python 3",
   "language": "python",
   "name": "python3"
  },
  "language_info": {
   "codemirror_mode": {
    "name": "ipython",
    "version": 3
   },
   "file_extension": ".py",
   "mimetype": "text/x-python",
   "name": "python",
   "nbconvert_exporter": "python",
   "pygments_lexer": "ipython3",
   "version": "3.8.8"
  }
 },
 "nbformat": 4,
 "nbformat_minor": 5
}
